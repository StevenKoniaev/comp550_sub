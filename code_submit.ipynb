{
 "cells": [
  {
   "cell_type": "code",
   "execution_count": 95,
   "outputs": [],
   "source": [
    "import re\n",
    "import random\n",
    "import torch\n",
    "import torch.nn as nn\n",
    "from torch import optim\n",
    "import torch.nn.functional as F\n",
    "import numpy as np\n",
    "import pandas as pd\n",
    "from torch.utils.data import TensorDataset, DataLoader, RandomSampler\n",
    "from nltk.translate.bleu_score import sentence_bleu, SmoothingFunction, corpus_bleu\n",
    "import seaborn as sns\n",
    "sns.set(style=\"whitegrid\")"
   ],
   "metadata": {
    "collapsed": false,
    "ExecuteTime": {
     "end_time": "2023-12-15T19:57:23.480822800Z",
     "start_time": "2023-12-15T19:57:23.467471800Z"
    }
   }
  },
  {
   "cell_type": "code",
   "execution_count": 96,
   "outputs": [],
   "source": [
    "device = torch.device('cuda' if torch.cuda.is_available() else 'cpu')"
   ],
   "metadata": {
    "collapsed": false,
    "ExecuteTime": {
     "end_time": "2023-12-15T19:57:23.680438900Z",
     "start_time": "2023-12-15T19:57:23.672180600Z"
    }
   }
  },
  {
   "cell_type": "code",
   "execution_count": 97,
   "outputs": [
    {
     "data": {
      "text/plain": "device(type='cuda')"
     },
     "execution_count": 97,
     "metadata": {},
     "output_type": "execute_result"
    }
   ],
   "source": [
    "device"
   ],
   "metadata": {
    "collapsed": false,
    "ExecuteTime": {
     "end_time": "2023-12-15T19:57:23.886087Z",
     "start_time": "2023-12-15T19:57:23.849927600Z"
    }
   }
  },
  {
   "cell_type": "markdown",
   "source": [
    "Sources Referenced, Credit to: https://huggingface.co/datasets/iwslt2017 , https://pytorch.org/tutorials/intermediate/seq2seq_translation_tutorial.html, https://nlp.seas.harvard.edu/2018/04/03/attention.html"
   ],
   "metadata": {
    "collapsed": false
   }
  },
  {
   "cell_type": "markdown",
   "source": [
    "### Using Hugging Face To Load Data"
   ],
   "metadata": {
    "collapsed": false
   }
  },
  {
   "cell_type": "code",
   "execution_count": 371,
   "outputs": [],
   "source": [
    "#French, Dutch , Korean, Arabic, German, Italian, Romanian\n",
    "languages = ['French', 'Dutch', 'Korean', 'Arabic', 'German', 'Italian', 'Romanian']"
   ],
   "metadata": {
    "collapsed": false,
    "ExecuteTime": {
     "end_time": "2023-12-17T06:18:01.652652900Z",
     "start_time": "2023-12-17T06:18:01.642131Z"
    }
   }
  },
  {
   "cell_type": "code",
   "execution_count": 372,
   "outputs": [
    {
     "name": "stderr",
     "output_type": "stream",
     "text": [
      "Found cached dataset iwslt2017 (C:/Users/StevenKoniaev/.cache/huggingface/datasets/iwslt2017/iwslt2017-en-fr/1.0.0/03ce9110373117c6f6687719f49f269486a8cd49dcad2527993a316cd4b6ad49)\n"
     ]
    },
    {
     "data": {
      "text/plain": "  0%|          | 0/3 [00:00<?, ?it/s]",
      "application/vnd.jupyter.widget-view+json": {
       "version_major": 2,
       "version_minor": 0,
       "model_id": "9e22a16f8fd54e96ac420350b6772e6e"
      }
     },
     "metadata": {},
     "output_type": "display_data"
    },
    {
     "name": "stderr",
     "output_type": "stream",
     "text": [
      "Found cached dataset iwslt2017 (C:/Users/StevenKoniaev/.cache/huggingface/datasets/iwslt2017/iwslt2017-en-nl/1.0.0/03ce9110373117c6f6687719f49f269486a8cd49dcad2527993a316cd4b6ad49)\n"
     ]
    },
    {
     "data": {
      "text/plain": "  0%|          | 0/3 [00:00<?, ?it/s]",
      "application/vnd.jupyter.widget-view+json": {
       "version_major": 2,
       "version_minor": 0,
       "model_id": "9c4c02f7956a4c54882e01003649a10f"
      }
     },
     "metadata": {},
     "output_type": "display_data"
    },
    {
     "name": "stderr",
     "output_type": "stream",
     "text": [
      "Found cached dataset iwslt2017 (C:/Users/StevenKoniaev/.cache/huggingface/datasets/iwslt2017/iwslt2017-en-ko/1.0.0/03ce9110373117c6f6687719f49f269486a8cd49dcad2527993a316cd4b6ad49)\n"
     ]
    },
    {
     "data": {
      "text/plain": "  0%|          | 0/3 [00:00<?, ?it/s]",
      "application/vnd.jupyter.widget-view+json": {
       "version_major": 2,
       "version_minor": 0,
       "model_id": "791c9a4858f34c17827fdbd127029ace"
      }
     },
     "metadata": {},
     "output_type": "display_data"
    },
    {
     "name": "stderr",
     "output_type": "stream",
     "text": [
      "Found cached dataset iwslt2017 (C:/Users/StevenKoniaev/.cache/huggingface/datasets/iwslt2017/iwslt2017-en-ar/1.0.0/03ce9110373117c6f6687719f49f269486a8cd49dcad2527993a316cd4b6ad49)\n"
     ]
    },
    {
     "data": {
      "text/plain": "  0%|          | 0/3 [00:00<?, ?it/s]",
      "application/vnd.jupyter.widget-view+json": {
       "version_major": 2,
       "version_minor": 0,
       "model_id": "b5edfc6b77ef4a2caebdc93b7a7ee1a6"
      }
     },
     "metadata": {},
     "output_type": "display_data"
    },
    {
     "name": "stderr",
     "output_type": "stream",
     "text": [
      "Found cached dataset iwslt2017 (C:/Users/StevenKoniaev/.cache/huggingface/datasets/iwslt2017/iwslt2017-en-de/1.0.0/03ce9110373117c6f6687719f49f269486a8cd49dcad2527993a316cd4b6ad49)\n"
     ]
    },
    {
     "data": {
      "text/plain": "  0%|          | 0/3 [00:00<?, ?it/s]",
      "application/vnd.jupyter.widget-view+json": {
       "version_major": 2,
       "version_minor": 0,
       "model_id": "cec9de7e9b7c444f9976f8616c11d6bc"
      }
     },
     "metadata": {},
     "output_type": "display_data"
    },
    {
     "name": "stderr",
     "output_type": "stream",
     "text": [
      "Found cached dataset iwslt2017 (C:/Users/StevenKoniaev/.cache/huggingface/datasets/iwslt2017/iwslt2017-en-it/1.0.0/03ce9110373117c6f6687719f49f269486a8cd49dcad2527993a316cd4b6ad49)\n"
     ]
    },
    {
     "data": {
      "text/plain": "  0%|          | 0/3 [00:00<?, ?it/s]",
      "application/vnd.jupyter.widget-view+json": {
       "version_major": 2,
       "version_minor": 0,
       "model_id": "f86792bf032443038137c30a911fd63f"
      }
     },
     "metadata": {},
     "output_type": "display_data"
    },
    {
     "name": "stderr",
     "output_type": "stream",
     "text": [
      "Found cached dataset iwslt2017 (C:/Users/StevenKoniaev/.cache/huggingface/datasets/iwslt2017/iwslt2017-en-ro/1.0.0/03ce9110373117c6f6687719f49f269486a8cd49dcad2527993a316cd4b6ad49)\n"
     ]
    },
    {
     "data": {
      "text/plain": "  0%|          | 0/3 [00:00<?, ?it/s]",
      "application/vnd.jupyter.widget-view+json": {
       "version_major": 2,
       "version_minor": 0,
       "model_id": "db717e16c71c431590820e9edb36c1b9"
      }
     },
     "metadata": {},
     "output_type": "display_data"
    }
   ],
   "source": [
    "from datasets import load_dataset\n",
    "tasks = ['iwslt2017-en-fr', 'iwslt2017-en-nl', 'iwslt2017-en-ko', 'iwslt2017-en-ar', 'iwslt2017-en-de', 'iwslt2017-en-it', 'iwslt2017-en-ro']\n",
    "datasets = []\n",
    "#load_dataset('iwslt2017')\n",
    "for task in tasks:\n",
    "    dataset = load_dataset('iwslt2017',task)\n",
    "    dataset.set_format(type='numpy')\n",
    "    datasets.append(dataset)"
   ],
   "metadata": {
    "collapsed": false,
    "ExecuteTime": {
     "end_time": "2023-12-17T06:18:13.448252900Z",
     "start_time": "2023-12-17T06:18:03.141956800Z"
    }
   }
  },
  {
   "cell_type": "code",
   "execution_count": 373,
   "outputs": [],
   "source": [
    "#Convert into the format we want\n",
    "for i, dataset in enumerate(datasets):\n",
    "    datasets[i] = {'train' : pd.DataFrame(np.array(dataset['train']['translation']).tolist()),\n",
    "                   'test' : pd.DataFrame(np.array(dataset['test']['translation']).tolist())}"
   ],
   "metadata": {
    "collapsed": false,
    "ExecuteTime": {
     "end_time": "2023-12-17T06:18:42.149642700Z",
     "start_time": "2023-12-17T06:18:17.087981800Z"
    }
   }
  },
  {
   "cell_type": "code",
   "execution_count": 374,
   "outputs": [],
   "source": [
    "#Make sure second column is english\n",
    "for i in range(len(datasets)):\n",
    "    new_column_order =  [col for col in datasets[i]['train'].columns if col != 'en'] + ['en']\n",
    "    datasets[i]['train'] = datasets[i]['train'][new_column_order]\n",
    "    datasets[i]['test'] = datasets[i]['test'][new_column_order]"
   ],
   "metadata": {
    "collapsed": false,
    "ExecuteTime": {
     "end_time": "2023-12-17T06:18:43.796436400Z",
     "start_time": "2023-12-17T06:18:43.706872Z"
    }
   }
  },
  {
   "cell_type": "code",
   "execution_count": 375,
   "outputs": [
    {
     "data": {
      "text/plain": "                                                     fr  \\\n0     Il y a plusieurs années, ici à Ted, Peter Skil...   \n1     Et l'idée est plutôt simple. Des équipes de qu...   \n2             Le marshmallow doit être placé au sommet.   \n3     Bien que cela semble vraiment simple, c'est en...   \n4     J'ai trouvé que c'était une idée intéressante,...   \n...                                                 ...   \n8592  Et la réponse c'est que la capacité à poursuiv...   \n8593  d'une tendance sur le long terme à augmenter l...   \n8594  Enfin, Richard Feynman, physicien célèbre, écr...   \n8595  Mon équivalent pour ce message à laisser à nos...   \n8596                                    Merci beaucoup.   \n\n                                                     en  \n0     Several years ago here at TED, Peter Skillman ...  \n1     And the idea's pretty simple:  Teams of four h...  \n2                     The marshmallow has to be on top.  \n3     And, though it seems really simple, it's actua...  \n4     And so, I thought this was an interesting idea...  \n...                                                 ...  \n8592  And the answer is, the ability to seek goals  ...  \n8593  from a long-term drive  to increase future fre...  \n8594  Finally, Richard Feynman, famous physicist,  o...  \n8595  My equivalent of that statement  to pass on to...  \n8596                               Thank you very much.  \n\n[8597 rows x 2 columns]",
      "text/html": "<div>\n<style scoped>\n    .dataframe tbody tr th:only-of-type {\n        vertical-align: middle;\n    }\n\n    .dataframe tbody tr th {\n        vertical-align: top;\n    }\n\n    .dataframe thead th {\n        text-align: right;\n    }\n</style>\n<table border=\"1\" class=\"dataframe\">\n  <thead>\n    <tr style=\"text-align: right;\">\n      <th></th>\n      <th>fr</th>\n      <th>en</th>\n    </tr>\n  </thead>\n  <tbody>\n    <tr>\n      <th>0</th>\n      <td>Il y a plusieurs années, ici à Ted, Peter Skil...</td>\n      <td>Several years ago here at TED, Peter Skillman ...</td>\n    </tr>\n    <tr>\n      <th>1</th>\n      <td>Et l'idée est plutôt simple. Des équipes de qu...</td>\n      <td>And the idea's pretty simple:  Teams of four h...</td>\n    </tr>\n    <tr>\n      <th>2</th>\n      <td>Le marshmallow doit être placé au sommet.</td>\n      <td>The marshmallow has to be on top.</td>\n    </tr>\n    <tr>\n      <th>3</th>\n      <td>Bien que cela semble vraiment simple, c'est en...</td>\n      <td>And, though it seems really simple, it's actua...</td>\n    </tr>\n    <tr>\n      <th>4</th>\n      <td>J'ai trouvé que c'était une idée intéressante,...</td>\n      <td>And so, I thought this was an interesting idea...</td>\n    </tr>\n    <tr>\n      <th>...</th>\n      <td>...</td>\n      <td>...</td>\n    </tr>\n    <tr>\n      <th>8592</th>\n      <td>Et la réponse c'est que la capacité à poursuiv...</td>\n      <td>And the answer is, the ability to seek goals  ...</td>\n    </tr>\n    <tr>\n      <th>8593</th>\n      <td>d'une tendance sur le long terme à augmenter l...</td>\n      <td>from a long-term drive  to increase future fre...</td>\n    </tr>\n    <tr>\n      <th>8594</th>\n      <td>Enfin, Richard Feynman, physicien célèbre, écr...</td>\n      <td>Finally, Richard Feynman, famous physicist,  o...</td>\n    </tr>\n    <tr>\n      <th>8595</th>\n      <td>Mon équivalent pour ce message à laisser à nos...</td>\n      <td>My equivalent of that statement  to pass on to...</td>\n    </tr>\n    <tr>\n      <th>8596</th>\n      <td>Merci beaucoup.</td>\n      <td>Thank you very much.</td>\n    </tr>\n  </tbody>\n</table>\n<p>8597 rows × 2 columns</p>\n</div>"
     },
     "execution_count": 375,
     "metadata": {},
     "output_type": "execute_result"
    }
   ],
   "source": [
    "#Example\n",
    "datasets[0]['test']"
   ],
   "metadata": {
    "collapsed": false,
    "ExecuteTime": {
     "end_time": "2023-12-17T06:18:47.693752800Z",
     "start_time": "2023-12-17T06:18:47.667432100Z"
    }
   }
  },
  {
   "cell_type": "code",
   "execution_count": 376,
   "outputs": [],
   "source": [
    "SOS_token = 0\n",
    "EOS_token = 1\n",
    "#Standard class for tokenizing and generating a vocabulary\n",
    "class Lang:\n",
    "    def __init__(self, name):\n",
    "        self.name = name\n",
    "        self.word2index = {}\n",
    "        self.word2count = {}\n",
    "        self.index2word = {0: \"SOS\", 1: \"EOS\"}\n",
    "        self.n_words = 2  # Count SOS and EOS\n",
    "\n",
    "    def addSentence(self, sentence):\n",
    "        for word in sentence.split(' '):\n",
    "            self.addWord(word)\n",
    "\n",
    "    def addWord(self, word):\n",
    "        if word not in self.word2index:\n",
    "            self.word2index[word] = self.n_words\n",
    "            self.word2count[word] = 1\n",
    "            self.index2word[self.n_words] = word\n",
    "            self.n_words += 1\n",
    "        else:\n",
    "            self.word2count[word] += 1\n",
    "\n",
    "    def inLang(self, word):\n",
    "        if word not in self.word2index:\n",
    "            return False\n",
    "        else:\n",
    "            return True"
   ],
   "metadata": {
    "collapsed": false,
    "ExecuteTime": {
     "end_time": "2023-12-17T06:19:17.125822900Z",
     "start_time": "2023-12-17T06:19:17.109917Z"
    }
   }
  },
  {
   "cell_type": "code",
   "execution_count": 377,
   "outputs": [],
   "source": [
    "def cleanString(s):\n",
    "    s = re.sub('\\W+',' ', s)\n",
    "    ' '.join([i for i in s])\n",
    "    return s.lower().strip()"
   ],
   "metadata": {
    "collapsed": false,
    "ExecuteTime": {
     "end_time": "2023-12-17T06:19:18.409189500Z",
     "start_time": "2023-12-17T06:19:18.398634700Z"
    }
   }
  },
  {
   "cell_type": "code",
   "execution_count": 378,
   "outputs": [],
   "source": [
    "#Clean strings as defined above\n",
    "for i in range(len(datasets)):\n",
    "    datasets[i]['train'] = datasets[i]['train'].apply(np.vectorize(cleanString)).to_numpy()\n",
    "    datasets[i]['test'] =  datasets[i]['test'].apply(np.vectorize(cleanString)).to_numpy()"
   ],
   "metadata": {
    "collapsed": false,
    "ExecuteTime": {
     "end_time": "2023-12-17T06:19:51.912629600Z",
     "start_time": "2023-12-17T06:19:28.106175300Z"
    }
   }
  },
  {
   "cell_type": "code",
   "execution_count": 379,
   "outputs": [
    {
     "data": {
      "text/plain": "array([['mulțumesc foarte mult chris și trebuie să spun că mă simt onorat să am ocazia de a veni pe scenă de două ori sunt foarte recunoscător',\n        'thank you so much chris and it s truly a great honor to have the opportunity to come to this stage twice i m extremely grateful'],\n       ['am fost bulversat de conferința aceasta și vreau să vă mulțumesc tuturor pentru multele comentarii frumoase la ce am avut de spus seara trecută',\n        'i have been blown away by this conference and i want to thank all of you for the many nice comments about what i had to say the other night'],\n       ['și o spun cu sinceritate mai mult pentru că am nevoie de asta puneți vă în locul meu',\n        'and i say that sincerely partly because i need that put yourselves in my position'],\n       ...,\n       ['eu și soția mea avem doi copii iar una din speranțele mele ca bioinginer e să le facem viața mai bună decât este acum pentru noi',\n        'you know my wife and i have two young kids and one of my hopes as a bioengineer is to make life better for them than it currently is for us'],\n       ['sper că dacă putem face ca în biologie și medicină reușitele să nu mai fie datorate întâmplării și norocului ci aptitudinilor și muncii depuse ar fi un mare progres',\n        'and my hope is if we can turn biology and medicine from these high risk endeavors that are governed by chance and luck and make them things that we win by skill and hard work then that would be a great advance'],\n       ['vă mulțumesc foarte mult', 'thank you very much']], dtype=object)"
     },
     "execution_count": 379,
     "metadata": {},
     "output_type": "execute_result"
    }
   ],
   "source": [
    "#Example\n",
    "datasets[6]['train']"
   ],
   "metadata": {
    "collapsed": false,
    "ExecuteTime": {
     "end_time": "2023-12-17T06:19:53.500815700Z",
     "start_time": "2023-12-17T06:19:53.463640400Z"
    }
   }
  },
  {
   "cell_type": "code",
   "execution_count": 380,
   "outputs": [],
   "source": [
    "MAX_LENGTH = 20\n",
    "\n",
    "def filterLength(s):\n",
    "    return len(s[0].split(' ')) < MAX_LENGTH and len(s[1].split(' ')) < MAX_LENGTH\n",
    "\n",
    "def filterSentences(sentences):\n",
    "    return np.array([s for s in sentences if filterLength(s)])"
   ],
   "metadata": {
    "collapsed": false,
    "ExecuteTime": {
     "end_time": "2023-12-17T06:19:57.243767600Z",
     "start_time": "2023-12-17T06:19:57.209004700Z"
    }
   }
  },
  {
   "cell_type": "code",
   "execution_count": 381,
   "outputs": [],
   "source": [
    "#Reduce size of senteces to our max length\n",
    "for i in range(len(datasets)):\n",
    "    datasets[i]['train'] = filterSentences(datasets[i]['train'])\n",
    "    datasets[i]['test'] = filterSentences(datasets[i]['test'])"
   ],
   "metadata": {
    "collapsed": false,
    "ExecuteTime": {
     "end_time": "2023-12-17T06:20:01.505156700Z",
     "start_time": "2023-12-17T06:19:59.081284Z"
    }
   }
  },
  {
   "cell_type": "code",
   "execution_count": 382,
   "outputs": [],
   "source": [
    "#Create a language class for each language\n",
    "lang_classes = [Lang(lang) for lang in languages]\n",
    "lang_classes.append(Lang('eng'))"
   ],
   "metadata": {
    "collapsed": false,
    "ExecuteTime": {
     "end_time": "2023-12-17T06:20:02.448146200Z",
     "start_time": "2023-12-17T06:20:02.409857200Z"
    }
   }
  },
  {
   "cell_type": "code",
   "execution_count": 383,
   "outputs": [],
   "source": [
    "###Look at frequency counts of words for each dataset, remove words that dont meet threshold\n",
    "for j in range(len(datasets)):\n",
    "    vocab = {}\n",
    "    for i, sentence in enumerate(datasets[j]['train']):\n",
    "        for word in sentence[0].split(' '):\n",
    "            if word not in vocab:\n",
    "                vocab[word] = {'index' : [i], 'count' : 1}\n",
    "            else:\n",
    "                vocab[word]['index'].append(i)\n",
    "                vocab[word]['count'] += 1\n",
    "\n",
    "    indicies = []\n",
    "    for v in vocab:\n",
    "        if vocab[v]['count'] <= 2:\n",
    "            indicies += vocab[v]['index']\n",
    "    datasets[j]['train'] = np.delete(datasets[j]['train'], indicies, axis=0)"
   ],
   "metadata": {
    "collapsed": false,
    "ExecuteTime": {
     "end_time": "2023-12-17T06:20:19.948005600Z",
     "start_time": "2023-12-17T06:20:14.622814700Z"
    }
   }
  },
  {
   "cell_type": "code",
   "execution_count": 384,
   "outputs": [],
   "source": [
    "###Look at frequency counts of ENGLISH words for each dataset, remove words that dont meet threshold\n",
    "for j in range(len(datasets)):\n",
    "    vocab = {}\n",
    "    for i, sentence in enumerate(datasets[j]['train']):\n",
    "        for word in sentence[1].split(' '):\n",
    "            if word not in vocab:\n",
    "                vocab[word] = {'index' : [i], 'count' : 1}\n",
    "            else:\n",
    "                vocab[word]['index'].append(i)\n",
    "                vocab[word]['count'] += 1\n",
    "\n",
    "    indicies = []\n",
    "    for v in vocab:\n",
    "        if vocab[v]['count'] <= 5:\n",
    "            indicies += vocab[v]['index']\n",
    "    datasets[j]['train'] = np.delete(datasets[j]['train'], indicies, axis=0)"
   ],
   "metadata": {
    "collapsed": false,
    "ExecuteTime": {
     "end_time": "2023-12-17T06:20:30.503234Z",
     "start_time": "2023-12-17T06:20:27.906813600Z"
    }
   }
  },
  {
   "cell_type": "code",
   "execution_count": 385,
   "outputs": [],
   "source": [
    "###Create vocab for each language, reusing the english lang\n",
    "for i in range(len(datasets)):\n",
    "    for j in datasets[i]['train']:\n",
    "        lang_classes[-1].addSentence(j[1]) #-1 will always point to eng language\n",
    "        lang_classes[i].addSentence(j[0]) #Add to corresponding language"
   ],
   "metadata": {
    "collapsed": false,
    "ExecuteTime": {
     "end_time": "2023-12-17T06:20:33.933957900Z",
     "start_time": "2023-12-17T06:20:31.572434300Z"
    }
   }
  },
  {
   "cell_type": "code",
   "execution_count": 386,
   "outputs": [
    {
     "name": "stdout",
     "output_type": "stream",
     "text": [
      "Vocabulary Sizes for each language\n",
      "French has 15732 words\n",
      "Dutch has 17392 words\n",
      "Korean has 25756 words\n",
      "Arabic has 29021 words\n",
      "German has 16571 words\n",
      "Italian has 18628 words\n",
      "Romanian has 22024 words\n",
      "eng has 9989 words\n"
     ]
    }
   ],
   "source": [
    "print(f\"Vocabulary Sizes for each language\")\n",
    "for lang in lang_classes:\n",
    "    print(f\"{lang.name} has {lang.n_words} words\")"
   ],
   "metadata": {
    "collapsed": false,
    "ExecuteTime": {
     "end_time": "2023-12-17T06:20:36.553041900Z",
     "start_time": "2023-12-17T06:20:36.541697500Z"
    }
   }
  },
  {
   "cell_type": "code",
   "execution_count": 387,
   "outputs": [],
   "source": [
    "#Do the same for test set\n",
    "for j in range(len(datasets)):\n",
    "    indicies = []\n",
    "    for i, sentence in enumerate(datasets[j]['test']):\n",
    "        for word in sentence[0].split(' '):\n",
    "            if not lang_classes[j].inLang(word):\n",
    "                indicies.append(i)\n",
    "    datasets[j]['test'] = np.delete(datasets[j]['test'], indicies, axis=0)"
   ],
   "metadata": {
    "collapsed": false,
    "ExecuteTime": {
     "end_time": "2023-12-17T06:20:41.189589500Z",
     "start_time": "2023-12-17T06:20:41.127492100Z"
    }
   }
  },
  {
   "cell_type": "code",
   "execution_count": 388,
   "outputs": [],
   "source": [
    "#Do the same for test set\n",
    "for j in range(len(datasets)):\n",
    "    indicies = []\n",
    "    for i, sentence in enumerate(datasets[j]['test']):\n",
    "        for word in sentence[1].split(' '):\n",
    "            if not lang_classes[-1].inLang(word):\n",
    "                indicies.append(i)\n",
    "    datasets[j]['test'] = np.delete(datasets[j]['test'], indicies, axis=0)"
   ],
   "metadata": {
    "collapsed": false,
    "ExecuteTime": {
     "end_time": "2023-12-17T06:20:41.855990600Z",
     "start_time": "2023-12-17T06:20:41.810178300Z"
    }
   }
  },
  {
   "cell_type": "code",
   "execution_count": 389,
   "outputs": [
    {
     "name": "stdout",
     "output_type": "stream",
     "text": [
      "French Train: 88014 Test: 3094\n",
      "Dutch Train: 99567 Test: 753\n",
      "Korean Train: 34887 Test: 992\n",
      "Arabic Train: 64170 Test: 2112\n",
      "German Train: 69029 Test: 2692\n",
      "Italian Train: 90316 Test: 627\n",
      "Romanian Train: 80083 Test: 668\n"
     ]
    }
   ],
   "source": [
    "for i in range(len(datasets)):\n",
    "    print(f\"{languages[i]} Train: {len(datasets[i]['train'])} Test: {len(datasets[i]['test'])}\")"
   ],
   "metadata": {
    "collapsed": false,
    "ExecuteTime": {
     "end_time": "2023-12-17T06:20:43.059893100Z",
     "start_time": "2023-12-17T06:20:43.010348600Z"
    }
   }
  },
  {
   "cell_type": "code",
   "execution_count": 390,
   "outputs": [],
   "source": [
    "class EncoderRNN(nn.Module):\n",
    "    def __init__(self, input_size,  hidden_size, embed_dim=256, dropout_p=0.15, bi_dir = False):\n",
    "        super(EncoderRNN, self).__init__()\n",
    "        self.hidden_size = hidden_size\n",
    "        self.embedding = nn.Embedding(input_size, embed_dim)\n",
    "        self.bi_dir = bi_dir\n",
    "        self.gru = nn.GRU(embed_dim, hidden_size, batch_first=True, num_layers=1, bidirectional=self.bi_dir)\n",
    "        self.dropout = nn.Dropout(dropout_p)\n",
    "        self.fc = nn.Linear(2*hidden_size, hidden_size)\n",
    "    def forward(self, input):\n",
    "        embedded = self.dropout(self.embedding(input))\n",
    "        output, hidden = self.gru(embedded)\n",
    "        if self.bi_dir:\n",
    "            hidden = torch.tanh(self.fc(torch.cat((hidden[-2, :, :], hidden[-1, :, :]), dim=1))).unsqueeze(0)\n",
    "        return output, hidden"
   ],
   "metadata": {
    "collapsed": false,
    "ExecuteTime": {
     "end_time": "2023-12-17T06:20:55.269350500Z",
     "start_time": "2023-12-17T06:20:55.261041400Z"
    }
   }
  },
  {
   "cell_type": "code",
   "execution_count": 391,
   "outputs": [],
   "source": [
    "class BahdanauAttention(nn.Module):\n",
    "    def __init__(self, hidden_size, bi_dir=False):\n",
    "        super(BahdanauAttention, self).__init__()\n",
    "        self.Wa = nn.Linear(hidden_size, hidden_size)\n",
    "        if bi_dir:\n",
    "            self.Ua = nn.Linear(hidden_size * 2, hidden_size) # * 2 on input for biderctional\n",
    "        else:\n",
    "            self.Ua = nn.Linear(hidden_size, hidden_size)\n",
    "        self.Va = nn.Linear(hidden_size, 1)\n",
    "\n",
    "    def forward(self, query, keys):\n",
    "        scores = self.Va(torch.tanh(self.Wa(query) + self.Ua(keys)))\n",
    "        scores = scores.squeeze(2).unsqueeze(1)\n",
    "\n",
    "        weights = F.softmax(scores, dim=-1)\n",
    "        context = torch.bmm(weights, keys)\n",
    "\n",
    "        return context, weights\n",
    "\n",
    "class AttnDecoderRNN(nn.Module):\n",
    "    def __init__(self, hidden_size, output_size, dropout_p=0.1, embed_dim=256, bi_dir=False):\n",
    "        super(AttnDecoderRNN, self).__init__()\n",
    "        self.embedding = nn.Embedding(output_size,embed_dim)\n",
    "        self.attention = BahdanauAttention(hidden_size, bi_dir=bi_dir)\n",
    "        self.bi_dir = bi_dir\n",
    "        if bi_dir:\n",
    "            self.gru = nn.GRU(embed_dim + hidden_size + hidden_size, hidden_size, batch_first=True, num_layers=1) #+ hidden size\n",
    "        else:\n",
    "            self.gru = nn.GRU(embed_dim + hidden_size, hidden_size, batch_first=True, num_layers=1) #+ hidden size\n",
    "        self.out = nn.Linear(hidden_size, output_size)\n",
    "        self.dropout = nn.Dropout(dropout_p)\n",
    "        self.fc = nn.Linear(2*hidden_size, hidden_size)\n",
    "\n",
    "    def forward(self, encoder_outputs, encoder_hidden, target_tensor=None):\n",
    "        batch_size = encoder_outputs.size(0)\n",
    "        decoder_input = torch.empty(batch_size, 1, dtype=torch.long, device=device).fill_(SOS_token)\n",
    "        decoder_hidden = encoder_hidden\n",
    "        decoder_outputs = []\n",
    "        attentions = []\n",
    "\n",
    "        for i in range(MAX_LENGTH):\n",
    "            decoder_output, decoder_hidden, attn_weights = self.forward_step(\n",
    "                decoder_input, decoder_hidden, encoder_outputs\n",
    "            )\n",
    "            decoder_outputs.append(decoder_output)\n",
    "            attentions.append(attn_weights)\n",
    "\n",
    "            if target_tensor is not None:\n",
    "                # Teacher forcing: Feed the target as the next input\n",
    "                decoder_input = target_tensor[:, i].unsqueeze(1) # Teacher forcing\n",
    "            else:\n",
    "                # Without teacher forcing: use its own predictions as the next input\n",
    "                _, topi = decoder_output.topk(1)\n",
    "                decoder_input = topi.squeeze(-1).detach()  # detach from history as input\n",
    "\n",
    "        decoder_outputs = torch.cat(decoder_outputs, dim=1)\n",
    "        decoder_outputs = F.log_softmax(decoder_outputs, dim=-1)\n",
    "        attentions = torch.cat(attentions, dim=1)\n",
    "\n",
    "        return decoder_outputs, decoder_hidden, attentions\n",
    "\n",
    "\n",
    "    def forward_step(self, input, hidden, encoder_outputs):\n",
    "        embedded =  self.dropout(self.embedding(input))\n",
    "        query = hidden.permute(1, 0, 2)\n",
    "        context, attn_weights = self.attention(query, encoder_outputs)\n",
    "        input_gru = torch.cat((embedded, context), dim=2)\n",
    "\n",
    "        output, hidden = self.gru(input_gru, hidden)\n",
    "        output = self.out(output)\n",
    "\n",
    "        return output, hidden, attn_weights"
   ],
   "metadata": {
    "collapsed": false,
    "ExecuteTime": {
     "end_time": "2023-12-17T06:21:24.141369900Z",
     "start_time": "2023-12-17T06:21:24.124510700Z"
    }
   }
  },
  {
   "cell_type": "code",
   "execution_count": 392,
   "outputs": [],
   "source": [
    "def indexesFromSentence(lang, sentence):\n",
    "    return [lang.word2index[word] for word in sentence.split(' ')]\n",
    "\n",
    "def tensorFromSentence(lang, sentence):\n",
    "    indexes = indexesFromSentence(lang, sentence)\n",
    "    indexes.append(EOS_token)\n",
    "    return torch.tensor(indexes, dtype=torch.long, device=device).view(1, -1)\n",
    "\n",
    "def get_dataloader(batch_size, input_lang):\n",
    "    pairs = datasets[input_lang]['train']\n",
    "    n = len(pairs)\n",
    "    input_ids = np.zeros((n, MAX_LENGTH), dtype=np.int32)\n",
    "    target_ids = np.zeros((n, MAX_LENGTH), dtype=np.int32)\n",
    "\n",
    "    for idx, (inp, tgt) in enumerate(pairs):\n",
    "        inp_ids = indexesFromSentence(lang_classes[input_lang], inp)\n",
    "        tgt_ids = indexesFromSentence(lang_classes[-1], tgt)\n",
    "        inp_ids.append(EOS_token)\n",
    "        tgt_ids.append(EOS_token)\n",
    "        input_ids[idx, :len(inp_ids)] = inp_ids\n",
    "        target_ids[idx, :len(tgt_ids)] = tgt_ids\n",
    "\n",
    "    train_data = TensorDataset(torch.LongTensor(input_ids), torch.LongTensor(target_ids))\n",
    "\n",
    "    train_sampler = RandomSampler(train_data)\n",
    "    train_dataloader = DataLoader(train_data, sampler=train_sampler, batch_size=batch_size, num_workers=2)\n",
    "    return train_dataloader"
   ],
   "metadata": {
    "collapsed": false,
    "ExecuteTime": {
     "end_time": "2023-12-17T06:21:38.595799700Z",
     "start_time": "2023-12-17T06:21:38.579830300Z"
    }
   }
  },
  {
   "cell_type": "code",
   "execution_count": 393,
   "outputs": [],
   "source": [
    "def train_epoch(dataloader, encoder, decoder, encoder_optimizer,\n",
    "                decoder_optimizer, criterion):\n",
    "\n",
    "    total_loss = 0\n",
    "    for i, data in enumerate(dataloader):\n",
    "        input_tensor, target_tensor = data\n",
    "        input_tensor = input_tensor.to(device)\n",
    "        target_tensor = target_tensor.to(device)\n",
    "        encoder_optimizer.zero_grad()\n",
    "        decoder_optimizer.zero_grad()\n",
    "\n",
    "        encoder_outputs, encoder_hidden = encoder(input_tensor)\n",
    "        decoder_outputs, _, _ = decoder(encoder_outputs, encoder_hidden, target_tensor)\n",
    "\n",
    "        loss = criterion(\n",
    "            decoder_outputs.view(-1, decoder_outputs.size(-1)),\n",
    "            target_tensor.view(-1)\n",
    "        )\n",
    "        loss.backward()\n",
    "\n",
    "        encoder_optimizer.step()\n",
    "        decoder_optimizer.step()\n",
    "        total_loss += loss.item()\n",
    "        #if i % 1500 == 0:\n",
    "        #    print(f\"Iter: {i} Loss: {loss.item()}\")\n",
    "    return total_loss / len(dataloader)"
   ],
   "metadata": {
    "collapsed": false,
    "ExecuteTime": {
     "end_time": "2023-12-17T06:21:40.796329300Z",
     "start_time": "2023-12-17T06:21:40.785947700Z"
    }
   }
  },
  {
   "cell_type": "code",
   "execution_count": 394,
   "outputs": [],
   "source": [
    "import matplotlib.pyplot as plt\n",
    "import os\n",
    "def pltLosses(loss, saveImg=False, title=\"Loss vs Epoch\", lang=\"\"):\n",
    "    plt.figure(figsize=(10,5))\n",
    "    plt.plot(loss)\n",
    "    plt.xlabel(\"Epochs\")\n",
    "    plt.ylabel(\"Loss\")\n",
    "    plt.title(f\"{title} of {lang} to English\")\n",
    "    if saveImg:\n",
    "        filename = f\"{lang}_to_eng.png\"\n",
    "        # Check if the file already exists\n",
    "        counter = 1\n",
    "        while os.path.exists(filename):\n",
    "            filename = f\"{counter}_{title}.png\"\n",
    "            counter += 1\n",
    "        plt.savefig(f\"./graphs/{filename}\", bbox_inches='tight')\n",
    "    plt.show()"
   ],
   "metadata": {
    "collapsed": false,
    "ExecuteTime": {
     "end_time": "2023-12-17T06:21:42.057540600Z",
     "start_time": "2023-12-17T06:21:42.046228100Z"
    }
   }
  },
  {
   "cell_type": "code",
   "execution_count": 395,
   "outputs": [],
   "source": [
    "def train(train_dataloader, encoder, decoder, n_epochs, learning_rate=0.001):\n",
    "    plot_losses = []\n",
    "\n",
    "    encoder_optimizer = optim.Adam(encoder.parameters(), lr=learning_rate)\n",
    "    decoder_optimizer = optim.Adam(decoder.parameters(), lr=learning_rate)\n",
    "    criterion = nn.NLLLoss()\n",
    "\n",
    "    for epoch in range(n_epochs):\n",
    "        loss = train_epoch(train_dataloader, encoder, decoder, encoder_optimizer, decoder_optimizer, criterion)\n",
    "        print (f\"Epoch: [{epoch+1} / {n_epochs}] Loss: {loss}\")\n",
    "        plot_losses.append(loss)\n",
    "\n",
    "    return plot_losses"
   ],
   "metadata": {
    "collapsed": false,
    "ExecuteTime": {
     "end_time": "2023-12-17T06:21:59.403405600Z",
     "start_time": "2023-12-17T06:21:59.389739700Z"
    }
   }
  },
  {
   "cell_type": "code",
   "execution_count": 396,
   "outputs": [],
   "source": [
    "def evaluate(encoder, decoder, sentence, input_lang, output_lang):\n",
    "    with torch.no_grad():\n",
    "        input_tensor = tensorFromSentence(input_lang, sentence)\n",
    "\n",
    "        encoder_outputs, encoder_hidden = encoder(input_tensor)\n",
    "        decoder_outputs, decoder_hidden, decoder_attn = decoder(encoder_outputs, encoder_hidden)\n",
    "\n",
    "        _, topi = decoder_outputs.topk(1)\n",
    "        decoded_ids = topi.squeeze()\n",
    "\n",
    "        decoded_words = []\n",
    "        for idx in decoded_ids:\n",
    "            if idx.item() == EOS_token:\n",
    "                decoded_words.append('<EOS>')\n",
    "                break\n",
    "            decoded_words.append(output_lang.index2word[idx.item()])\n",
    "    return decoded_words, decoder_attn"
   ],
   "metadata": {
    "collapsed": false,
    "ExecuteTime": {
     "end_time": "2023-12-17T06:22:03.377290500Z",
     "start_time": "2023-12-17T06:22:03.343281600Z"
    }
   }
  },
  {
   "cell_type": "code",
   "execution_count": 397,
   "outputs": [],
   "source": [
    "def evaluateRandomly(encoder, decoder, input_lang, n=10, set='test'):\n",
    "    for i in range(n):\n",
    "        pair = random.choice(datasets[input_lang][set])\n",
    "        print('From:', pair[0])\n",
    "        print('To:', pair[1])\n",
    "        #input pair, input language, output language\n",
    "        output_words, _ = evaluate(encoder, decoder, pair[0], lang_classes[input_lang], lang_classes[-1])\n",
    "        output_sentence = ' '.join(output_words[:len(output_words)-1])\n",
    "        print('Prediction:', output_sentence)\n",
    "        print('')"
   ],
   "metadata": {
    "collapsed": false,
    "ExecuteTime": {
     "end_time": "2023-12-17T06:22:06.021197500Z",
     "start_time": "2023-12-17T06:22:06.001516100Z"
    }
   }
  },
  {
   "cell_type": "code",
   "execution_count": 398,
   "outputs": [],
   "source": [
    "def evaluateFirstN(encoder, decoder, input_lang, n=20):\n",
    "    for i in range(n):\n",
    "        pair = (datasets[input_lang]['test'][i])\n",
    "        print('From:', pair[0])\n",
    "        print('To:', pair[1])\n",
    "        #input pair, input language, output language\n",
    "        output_words, _ = evaluate(encoder, decoder, pair[0], lang_classes[input_lang], lang_classes[-1])\n",
    "        output_sentence = ' '.join(output_words[:len(output_words)-1])\n",
    "        print('Prediction:', output_sentence)\n",
    "        print('')"
   ],
   "metadata": {
    "collapsed": false,
    "ExecuteTime": {
     "end_time": "2023-12-17T06:22:07.189534100Z",
     "start_time": "2023-12-17T06:22:07.178387200Z"
    }
   }
  },
  {
   "cell_type": "code",
   "execution_count": 399,
   "outputs": [],
   "source": [
    "def compute_metrics(encoder, decoder, input_lang):\n",
    "    scores = []\n",
    "    for i, pair in enumerate(datasets[input_lang]['test']):\n",
    "        output_words, _ = evaluate(encoder, decoder, pair[0], lang_classes[input_lang], lang_classes[-1])\n",
    "        output_sentence = ' '.join(output_words[:len(output_words)-1])\n",
    "        #print(pair[1])\n",
    "        #print(output_sentence)\n",
    "        smoot_func = SmoothingFunction().method1\n",
    "        bleu = sentence_bleu(references=[pair[1]], hypothesis=output_sentence, smoothing_function=smoot_func)\n",
    "       # bleu = sentence_bleu(references=[pair[1]], hypothesis=output_sentence, weights=(0.5, 0.5), smoothing_function=smoot_func)\n",
    "        scores.append(bleu)\n",
    "    return np.mean(scores) * 100"
   ],
   "metadata": {
    "collapsed": false,
    "ExecuteTime": {
     "end_time": "2023-12-17T06:22:07.866073800Z",
     "start_time": "2023-12-17T06:22:07.855378700Z"
    }
   }
  },
  {
   "cell_type": "code",
   "execution_count": 400,
   "outputs": [
    {
     "data": {
      "text/plain": "['French', 'Dutch', 'Korean', 'Arabic', 'German', 'Italian', 'Romanian']"
     },
     "execution_count": 400,
     "metadata": {},
     "output_type": "execute_result"
    }
   ],
   "source": [
    "languages"
   ],
   "metadata": {
    "collapsed": false,
    "ExecuteTime": {
     "end_time": "2023-12-17T06:22:10.365225500Z",
     "start_time": "2023-12-17T06:22:10.338473100Z"
    }
   }
  },
  {
   "cell_type": "code",
   "execution_count": 317,
   "outputs": [],
   "source": [
    "input_lang = languages.index('French')"
   ],
   "metadata": {
    "collapsed": false,
    "ExecuteTime": {
     "end_time": "2023-12-16T22:51:00.845257400Z",
     "start_time": "2023-12-16T22:51:00.837746300Z"
    }
   }
  },
  {
   "cell_type": "code",
   "execution_count": 318,
   "outputs": [],
   "source": [
    "hidden_size = 768 #1024 #768 #256 #128\n",
    "batch_size = 32\n",
    "train_dataloader = get_dataloader(batch_size, input_lang)"
   ],
   "metadata": {
    "collapsed": false,
    "ExecuteTime": {
     "end_time": "2023-12-16T22:51:01.756479600Z",
     "start_time": "2023-12-16T22:51:01.259718200Z"
    }
   }
  },
  {
   "cell_type": "code",
   "execution_count": 319,
   "outputs": [
    {
     "data": {
      "text/plain": "2751"
     },
     "execution_count": 319,
     "metadata": {},
     "output_type": "execute_result"
    }
   ],
   "source": [
    "len(train_dataloader)"
   ],
   "metadata": {
    "collapsed": false,
    "ExecuteTime": {
     "end_time": "2023-12-16T22:51:01.761028600Z",
     "start_time": "2023-12-16T22:51:01.756726300Z"
    }
   }
  },
  {
   "cell_type": "code",
   "execution_count": 321,
   "outputs": [],
   "source": [
    "encoder = EncoderRNN(lang_classes[input_lang].n_words, hidden_size, bi_dir=True).to(device)\n",
    "decoder = AttnDecoderRNN(hidden_size, lang_classes[-1].n_words, bi_dir=True).to(device)"
   ],
   "metadata": {
    "collapsed": false,
    "ExecuteTime": {
     "end_time": "2023-12-16T22:51:06.546608400Z",
     "start_time": "2023-12-16T22:51:06.258962100Z"
    }
   }
  },
  {
   "cell_type": "code",
   "execution_count": 322,
   "outputs": [
    {
     "data": {
      "text/plain": "19093766"
     },
     "execution_count": 322,
     "metadata": {},
     "output_type": "execute_result"
    }
   ],
   "source": [
    "model_parameters = filter(lambda p: p.requires_grad, decoder.parameters())\n",
    "params = sum([np.prod(p.size()) for p in model_parameters])\n",
    "params"
   ],
   "metadata": {
    "collapsed": false,
    "ExecuteTime": {
     "end_time": "2023-12-16T22:51:07.877323700Z",
     "start_time": "2023-12-16T22:51:07.869495800Z"
    }
   }
  },
  {
   "cell_type": "code",
   "execution_count": 323,
   "outputs": [
    {
     "name": "stdout",
     "output_type": "stream",
     "text": [
      "STARTING TO TRAIN\n",
      "Epoch: [1 / 20] Loss: 2.1271283649522927\n",
      "Epoch: [2 / 20] Loss: 1.4497700266645674\n",
      "Epoch: [3 / 20] Loss: 1.1646940363662452\n",
      "Epoch: [4 / 20] Loss: 0.9795238953943645\n",
      "Epoch: [5 / 20] Loss: 0.8387493150574821\n",
      "Epoch: [6 / 20] Loss: 0.7250986587173589\n",
      "Epoch: [7 / 20] Loss: 0.6291563149388597\n",
      "Epoch: [8 / 20] Loss: 0.5473871534735625\n",
      "Epoch: [9 / 20] Loss: 0.4791943341201108\n",
      "Epoch: [10 / 20] Loss: 0.4201394705144504\n",
      "Epoch: [11 / 20] Loss: 0.371142369829408\n",
      "Epoch: [12 / 20] Loss: 0.32903772121839026\n",
      "Epoch: [13 / 20] Loss: 0.2954187727990648\n",
      "Epoch: [14 / 20] Loss: 0.26697563964186993\n",
      "Epoch: [15 / 20] Loss: 0.24218538163283312\n",
      "Epoch: [16 / 20] Loss: 0.22260651676785248\n",
      "Epoch: [17 / 20] Loss: 0.205820391477996\n",
      "Epoch: [18 / 20] Loss: 0.1935423833539121\n",
      "Epoch: [19 / 20] Loss: 0.18271548410126703\n",
      "Epoch: [20 / 20] Loss: 0.17337107912697214\n"
     ]
    }
   ],
   "source": [
    "print(\"STARTING TO TRAIN\")\n",
    "losses = train(train_dataloader, encoder, decoder, 20, learning_rate=3e-4)"
   ],
   "metadata": {
    "collapsed": false,
    "ExecuteTime": {
     "end_time": "2023-12-16T23:54:22.428941800Z",
     "start_time": "2023-12-16T22:51:14.104202100Z"
    }
   }
  },
  {
   "cell_type": "code",
   "execution_count": 324,
   "outputs": [
    {
     "name": "stdout",
     "output_type": "stream",
     "text": [
      "Epoch: [1 / 5] Loss: 0.12100121881020628\n",
      "Epoch: [2 / 5] Loss: 0.09232747410696578\n",
      "Epoch: [3 / 5] Loss: 0.07982068358551844\n",
      "Epoch: [4 / 5] Loss: 0.07186734536747333\n",
      "Epoch: [5 / 5] Loss: 0.06630343527498245\n"
     ]
    }
   ],
   "source": [
    "losses = train(train_dataloader, encoder, decoder, 5, learning_rate=1e-4)"
   ],
   "metadata": {
    "collapsed": false,
    "ExecuteTime": {
     "end_time": "2023-12-17T00:14:24.130753700Z",
     "start_time": "2023-12-16T23:58:19.048615Z"
    }
   }
  },
  {
   "cell_type": "code",
   "execution_count": 325,
   "outputs": [
    {
     "data": {
      "text/plain": "51.49060761338451"
     },
     "execution_count": 325,
     "metadata": {},
     "output_type": "execute_result"
    }
   ],
   "source": [
    "compute_metrics(encoder, decoder, input_lang)"
   ],
   "metadata": {
    "collapsed": false,
    "ExecuteTime": {
     "end_time": "2023-12-17T00:20:19.481472100Z",
     "start_time": "2023-12-17T00:19:49.361715100Z"
    }
   }
  },
  {
   "cell_type": "code",
   "execution_count": 327,
   "outputs": [
    {
     "name": "stdout",
     "output_type": "stream",
     "text": [
      "From: le gouvernement a donc décidé d organiser de nouvelles élections\n",
      "To: so the government decided to have the elections once again\n",
      "Prediction: so the government has decided to have any new elections\n",
      "\n",
      "From: et aujourd hui vous verriez ceci a l intérieur de la mine 800 mètres sous terre\n",
      "To: and today you would see this inside the mine half a mile underground\n",
      "Prediction: and today would you like this now the inside half a mile underground\n",
      "\n",
      "From: ensuite nous faisons une transformation mathématique pour la conception de la peau synthétique que vous voyez à droite\n",
      "To: we then do a mathematical transformation to the design of the synthetic skin shown on the right\n",
      "Prediction: we then do a mathematical transformation to the design of the synthetic skin shown on the right\n",
      "\n",
      "From: j ai fait cette publicité je ne crois pas en ce genre d alcool mais j en bois parfois\n",
      "To: i did this ad i don t believe in this kind of alcohol but i do drink sometimes\n",
      "Prediction: i did this ad i don t believe in this kind of alcohol but i do drink sometimes\n",
      "\n",
      "From: alors je vais traduire ça dans une langue que vous comprendrez\n",
      "To: so i m going to translate this into language that you can understand\n",
      "Prediction: so i m going to translate this into a language that you can understand\n",
      "\n",
      "From: vous devez utiliser ces cellules pour réfléchir à ce jeu\n",
      "To: you should use those cells to think carefully about this game\n",
      "Prediction: you should use those cells to think about this play\n",
      "\n",
      "From: je voudrais poser cette question à laquelle nous nous intéressons tous est ce que l extinction est nécessairement éternelle\n",
      "To: i do want to test this question we re all interested in does extinction have to be forever\n",
      "Prediction: i do want to test this question we re all interested in does extinction have to be forever\n",
      "\n",
      "From: tellement de choses créatives peuvent se passer quand les gens apprennent des désastres\n",
      "To: so many important creative things can happen when people learn from disasters\n",
      "Prediction: so many things can happen when people learn from disasters\n",
      "\n",
      "From: mais ce n est pas du tout le cas\n",
      "To: but that is not the case at all\n",
      "Prediction: but that s not the case at all\n",
      "\n",
      "From: donc ce n est pas vrai qu il n y a pas de solution la solution existe\n",
      "To: so it s not true that there s no solution there is a solution\n",
      "Prediction: so it s not even there s no solution there is a solution\n",
      "\n"
     ]
    }
   ],
   "source": [
    "evaluateRandomly(encoder, decoder, input_lang, set='train')"
   ],
   "metadata": {
    "collapsed": false,
    "ExecuteTime": {
     "end_time": "2023-12-17T00:21:28.474085600Z",
     "start_time": "2023-12-17T00:21:28.003252800Z"
    }
   }
  },
  {
   "cell_type": "code",
   "execution_count": 328,
   "outputs": [
    {
     "name": "stdout",
     "output_type": "stream",
     "text": [
      "From: donc on pourrait facilement fournir au monde des dizaines voire des centaines de villes nouvelles\n",
      "To: so we could easily supply the world with dozens maybe hundreds of new cities\n",
      "Prediction: so we could easily lead to the world of tens and the hundreds of cities cities\n",
      "\n",
      "From: je me laisse parfois emporter je vais finir avec cette histoire\n",
      "To: i sometimes get out of balance i ll end with this story\n",
      "Prediction: i ll explain my time i m going to finish with this story\n",
      "\n",
      "From: ce sont des choix que vos petits enfants ou leurs petits enfants auront à faire\n",
      "To: these are choices that your grandchildren or their grandchildren are going to have before them\n",
      "Prediction: these are choices that your children are young children their children are trying to do\n",
      "\n",
      "From: une structure quasiment identique\n",
      "To: an almost identical structure\n",
      "Prediction: it s flying been structure\n",
      "\n",
      "From: et au fil du temps ça change ça change parce que les gens font les choses tout naturellement\n",
      "To: and over time it changes it changes because people do things or naturally\n",
      "Prediction: and over the time it changes the reason because people do things\n",
      "\n",
      "From: un taux d erreur étonnant une personne innocente sur neuf\n",
      "To: a kind of astonishing error rate one out of nine people innocent\n",
      "Prediction: an expected rate is an amazing response rate\n",
      "\n",
      "From: et la plupart des gens comprennent ça mais ils pensent que l une alimente l autre\n",
      "To: and most people get that but they think that one is the input to the other\n",
      "Prediction: and most people want these things understand but they think they find a possibility turn\n",
      "\n",
      "From: donc le sexe a de nombreuses variantes différentes\n",
      "To: so sex can come in lots of different varieties\n",
      "Prediction: so the market has many different variations\n",
      "\n",
      "From: 70 n ont pas de travail ne vont pas à l école\n",
      "To: 70 percent don t work don t go to school\n",
      "Prediction: 70 percent don t have a job don t go to school\n",
      "\n",
      "From: ce n est qu à partir de mes 7 ans que notre dynamique familiale a changé\n",
      "To: it wasn t until i was seven years old that our family dynamic started to change\n",
      "Prediction: but this is just 20 percent of my seven years our own family has changed\n",
      "\n"
     ]
    }
   ],
   "source": [
    "evaluateRandomly(encoder, decoder, input_lang, set='test')"
   ],
   "metadata": {
    "collapsed": false,
    "ExecuteTime": {
     "end_time": "2023-12-17T00:21:30.134365700Z",
     "start_time": "2023-12-17T00:21:30.009616Z"
    }
   }
  },
  {
   "cell_type": "code",
   "execution_count": 329,
   "outputs": [
    {
     "name": "stdout",
     "output_type": "stream",
     "text": [
      "From: et ça a été un grand succès\n",
      "To: and it was a huge success\n",
      "Prediction: and it was a huge success\n",
      "\n",
      "From: ils passent la majeure partie de leur temps à assembler les bâtons en structures de plus en plus grandes\n",
      "To: they spend the majority of their time assembling the sticks into ever growing structures\n",
      "Prediction: they have a long time they have to sell them in and get to large their feet\n",
      "\n",
      "From: et c est vraiment étonnant\n",
      "To: and it s pretty amazing\n",
      "Prediction: and it s really amazing\n",
      "\n",
      "From: alors la question qu on se pose c est comment ça se fait pourquoi qu ont ils de spécial\n",
      "To: so the question you want to ask is how come why what is it about them\n",
      "Prediction: so the question we ask is how is that why they were special\n",
      "\n",
      "From: mais il y a aussi une autre raison\n",
      "To: but there s another reason as well\n",
      "Prediction: but there s also another reason\n",
      "\n",
      "From: c est que les étudiants des écoles de commerce sont entrainés à trouver l unique plan qui marchera\n",
      "To: and the reason is that business students are trained to find the single right plan right\n",
      "Prediction: that s the students schools right community are to find the whole lot\n",
      "\n",
      "From: c est la crise\n",
      "To: it s a crisis\n",
      "Prediction: this is crisis\n",
      "\n",
      "From: ça vous rappelle quelque chose parfait\n",
      "To: sound familiar right\n",
      "Prediction: that sound yourself you something\n",
      "\n",
      "From: avec chaque version les enfants ont un retour d information instantané sur ce qui marche ou pas\n",
      "To: and with each version kids get instant feedback about what works and what doesn t work\n",
      "Prediction: with each version the children have an information return of every other way of doing it\n",
      "\n",
      "From: donc la capacité de travailler avec des prototypes est essentielle mais voyons quelles sont les résultats des différentes équipes\n",
      "To: so the capacity to play in prototype is really essential but let s look at how different teams perform\n",
      "Prediction: so the ability to work with prototypes is high but let s take a test what are the results\n",
      "\n",
      "From: qui sont vraiment les meilleurs\n",
      "To: who does the very best\n",
      "Prediction: who are really the best\n",
      "\n",
      "From: les architectes et les ingénieurs heureusement\n",
      "To: architects and engineers thankfully\n",
      "Prediction: architects and engineers and engineers\n",
      "\n",
      "From: les directeurs techniques donc font un peu mieux que la moyenne mais voilà où ça devient intéressant\n",
      "To: so ceos a little bit better than average but here s where it gets interesting\n",
      "Prediction: so the wireless techniques provide make a better than the average but to this point it s really interesting\n",
      "\n",
      "From: si on ajoute un cadre administratif à l équipe les résultats augmentent de manière significative\n",
      "To: if you put you put an executive admin on the team they get significantly better\n",
      "Prediction: if you add a high framework opportunity then we find a lot of money\n",
      "\n",
      "From: et j ai essayé quelque chose d intéressant\n",
      "To: and i tried something interesting\n",
      "Prediction: and i tried something interesting interesting\n",
      "\n",
      "From: alors j ai offert un prix d une valeur de 10 000 en logiciels à l équipe gagnante\n",
      "To: so i offered a 10 000 dollar prize of software to the winning team\n",
      "Prediction: and i offered in a price of 10 000 galaxies in the same team\n",
      "\n",
      "From: et que pensez vous qu il est arrivé à ces étudiants en design\n",
      "To: so what do you think happened to these design students\n",
      "Prediction: and what do you think it has happened to these students\n",
      "\n",
      "From: quel a été le résultat\n",
      "To: what was the result\n",
      "Prediction: what was the result\n",
      "\n",
      "From: voici ce qui est arrivé pas une seule équipe n avait de structure tenant debout\n",
      "To: here s what happened not one team had a standing structure\n",
      "Prediction: this is what happened not one of the not happened with the other end took me on the capital\n",
      "\n",
      "From: si une seule avait construit disons une structure de 3 centimètres ils auraient ramené le prix à la maison\n",
      "To: if anyone had built say a one inch structure they would have taken home the prize\n",
      "Prediction: if one had broken said let s bring a structure in three they got prize the price home\n",
      "\n"
     ]
    }
   ],
   "source": [
    "evaluateFirstN(encoder, decoder, input_lang)"
   ],
   "metadata": {
    "collapsed": false,
    "ExecuteTime": {
     "end_time": "2023-12-17T00:21:58.528131300Z",
     "start_time": "2023-12-17T00:21:57.982794400Z"
    }
   }
  },
  {
   "cell_type": "markdown",
   "source": [
    "French"
   ],
   "metadata": {
    "collapsed": false
   }
  },
  {
   "cell_type": "code",
   "execution_count": 191,
   "outputs": [
    {
     "data": {
      "text/plain": "<Figure size 1000x500 with 1 Axes>",
      "image/png": "[encoded data removed]"
     },
     "metadata": {},
     "output_type": "display_data"
    }
   ],
   "source": [
    "pltLosses(losses, saveImg=True, lang = languages[input_lang])"
   ],
   "metadata": {
    "collapsed": false,
    "ExecuteTime": {
     "end_time": "2023-12-16T00:03:56.035957500Z",
     "start_time": "2023-12-16T00:03:55.808694200Z"
    }
   }
  },
  {
   "cell_type": "code",
   "execution_count": 193,
   "outputs": [
    {
     "data": {
      "text/plain": "44.52114762299725"
     },
     "execution_count": 193,
     "metadata": {},
     "output_type": "execute_result"
    }
   ],
   "source": [
    "compute_metrics(encoder, decoder, input_lang)"
   ],
   "metadata": {
    "collapsed": false,
    "ExecuteTime": {
     "end_time": "2023-12-16T00:05:19.745807700Z",
     "start_time": "2023-12-16T00:04:42.551471700Z"
    }
   }
  },
  {
   "cell_type": "code",
   "execution_count": 194,
   "outputs": [
    {
     "name": "stdout",
     "output_type": "stream",
     "text": [
      "From: ils utilisent simplement leurs corps au meilleur de leurs capacités\n",
      "To: they are just using their bodies to the best of their capacity\n",
      "Prediction: they re just doing their bodies to the best of their life their movements\n",
      "\n",
      "From: je voudrais vous inviter à fermer les yeux\n",
      "To: i d like to invite you to close your eyes\n",
      "Prediction: i m thinking about close your eyes\n",
      "\n",
      "From: nous sommes très fiers de vous\n",
      "To: we re proud of you\n",
      "Prediction: we are proud of you\n",
      "\n",
      "From: mais un comprimé blanc n est pas aussi bon qu une comprimé bleu\n",
      "To: but a white pill is not as good as a blue pill\n",
      "Prediction: but a white guy is not as good as a blue construct\n",
      "\n",
      "From: les lignes blanches sont la population\n",
      "To: so the white lines here are population\n",
      "Prediction: the white lines are the population\n",
      "\n",
      "From: pas vraiment l idéal pour la propagande d accord\n",
      "To: that s just not convenient for propaganda got it\n",
      "Prediction: not actually the ideal for propaganda whatsoever right\n",
      "\n",
      "From: je ne lui ai pas coupé les ailes c est tout\n",
      "To: i did not clip her wings and that s all\n",
      "Prediction: obviously i haven t been working energy the right it s it\n",
      "\n",
      "From: notre série préférée will amp grace\n",
      "To: our favorite tv show favorite will amp grace\n",
      "Prediction: our favorite connection is we re going to give an ai taste we re running about it that s\n",
      "\n",
      "From: une façon est de vous ouvrir le crâne et d y mettre des électrodes\n",
      "To: one way is to crack open your skull and put in electrodes\n",
      "Prediction: one is you open your intelligence and put that into some experience\n",
      "\n",
      "From: man euh ma marque\n",
      "To: man um my brand\n",
      "Prediction: yet my faith works in the hearts of boy married\n",
      "\n"
     ]
    }
   ],
   "source": [
    "evaluateRandomly(encoder, decoder, input_lang)"
   ],
   "metadata": {
    "collapsed": false,
    "ExecuteTime": {
     "end_time": "2023-12-16T00:07:06.736790600Z",
     "start_time": "2023-12-16T00:07:06.281175600Z"
    }
   }
  },
  {
   "cell_type": "code",
   "execution_count": 195,
   "outputs": [
    {
     "name": "stdout",
     "output_type": "stream",
     "text": [
      "From: et ça a été un grand succès\n",
      "To: and it was a huge success\n",
      "Prediction: and that has been a big success story it got\n",
      "\n",
      "From: ils passent la majeure partie de leur temps à assembler les bâtons en structures de plus en plus grandes\n",
      "To: they spend the majority of their time assembling the sticks into ever growing structures\n",
      "Prediction: they understand the music part of their time series in the bigger and more characters\n",
      "\n",
      "From: et c est vraiment étonnant\n",
      "To: and it s pretty amazing\n",
      "Prediction: and that s really pretty amazing and it s really pretty fascinating and it s really tiny\n",
      "\n",
      "From: alors la question qu on se pose c est comment ça se fait pourquoi qu ont ils de spécial\n",
      "To: so the question you want to ask is how come why what is it about them\n",
      "Prediction: so then the question is how is this how why do they have to get caught\n",
      "\n",
      "From: mais il y a aussi une autre raison\n",
      "To: but there s another reason as well\n",
      "Prediction: but there s also another reason as well\n",
      "\n",
      "From: c est que les étudiants des écoles de commerce sont entrainés à trouver l unique plan qui marchera\n",
      "To: and the reason is that business students are trained to find the single right plan right\n",
      "Prediction: that is the students schools trade are also starting to find the one that were most percent\n",
      "\n",
      "From: c est la crise\n",
      "To: it s a crisis\n",
      "Prediction: that s crisis it s about crisis\n",
      "\n",
      "From: ça vous rappelle quelque chose parfait\n",
      "To: sound familiar right\n",
      "Prediction: now it sounds really sure silly stuff has a perfect message\n",
      "\n",
      "From: avec chaque version les enfants ont un retour d information instantané sur ce qui marche ou pas\n",
      "To: and with each version kids get instant feedback about what works and what doesn t work\n",
      "Prediction: now with every single kids there are a serious of money being able to say\n",
      "\n",
      "From: donc la capacité de travailler avec des prototypes est essentielle mais voyons quelles sont les résultats des différentes équipes\n",
      "To: so the capacity to play in prototype is really essential but let s look at how different teams perform\n",
      "Prediction: so our environmental work to experiment with is likely but see what a single different story\n",
      "\n",
      "From: qui sont vraiment les meilleurs\n",
      "To: who does the very best\n",
      "Prediction: who really do the best\n",
      "\n",
      "From: les architectes et les ingénieurs heureusement\n",
      "To: architects and engineers thankfully\n",
      "Prediction: the architects and the engineers and engineers leaders engineers\n",
      "\n",
      "From: les directeurs techniques donc font un peu mieux que la moyenne mais voilà où ça devient intéressant\n",
      "To: so ceos a little bit better than average but here s where it gets interesting\n",
      "Prediction: so the kids take doing a little better than average but this was where it came up\n",
      "\n",
      "From: si on ajoute un cadre administratif à l équipe les résultats augmentent de manière significative\n",
      "To: if you put you put an executive admin on the team they get significantly better\n",
      "Prediction: if we add a framework we re doing a little bit at the gang the best bank\n",
      "\n",
      "From: et j ai essayé quelque chose d intéressant\n",
      "To: and i tried something interesting\n",
      "Prediction: and i tried something interesting\n",
      "\n",
      "From: alors j ai offert un prix d une valeur de 10 000 en logiciels à l équipe gagnante\n",
      "To: so i offered a 10 000 dollar prize of software to the winning team\n",
      "Prediction: so i walked somewhere at a price of 10 000 species in cities can the bear\n",
      "\n",
      "From: et que pensez vous qu il est arrivé à ces étudiants en design\n",
      "To: so what do you think happened to these design students\n",
      "Prediction: and what do you think they re actually seeing to that in design students\n",
      "\n",
      "From: quel a été le résultat\n",
      "To: what was the result\n",
      "Prediction: what was the result result did the result\n",
      "\n",
      "From: voici ce qui est arrivé pas une seule équipe n avait de structure tenant debout\n",
      "To: here s what happened not one team had a standing structure\n",
      "Prediction: these were the short actually no one had saved the end of structure\n",
      "\n",
      "From: si une seule avait construit disons une structure de 3 centimètres ils auraient ramené le prix à la maison\n",
      "To: if anyone had built say a one inch structure they would have taken home the prize\n",
      "Prediction: if one did received mean a 3 000 foot would they would have the gas at home\n",
      "\n"
     ]
    }
   ],
   "source": [
    "evaluateFirstN(encoder, decoder, input_lang)"
   ],
   "metadata": {
    "collapsed": false,
    "ExecuteTime": {
     "end_time": "2023-12-16T00:07:07.016056Z",
     "start_time": "2023-12-16T00:07:06.768177400Z"
    }
   }
  },
  {
   "cell_type": "markdown",
   "source": [
    "Dutch"
   ],
   "metadata": {
    "collapsed": false
   }
  },
  {
   "cell_type": "code",
   "execution_count": 289,
   "outputs": [
    {
     "name": "stdout",
     "output_type": "stream",
     "text": [
      "STARTING TO TRAIN\n",
      "Epoch: [1 / 20] Loss: 2.2088255616417274\n",
      "Epoch: [2 / 20] Loss: 1.5063262319426916\n",
      "Epoch: [3 / 20] Loss: 1.209223481675653\n",
      "Epoch: [4 / 20] Loss: 1.0152134610708698\n",
      "Epoch: [5 / 20] Loss: 0.867192725729973\n",
      "Epoch: [6 / 20] Loss: 0.7466315029136319\n",
      "Epoch: [7 / 20] Loss: 0.6490319070997612\n",
      "Epoch: [8 / 20] Loss: 0.5684449661207076\n",
      "Epoch: [9 / 20] Loss: 0.5016686656730187\n",
      "Epoch: [10 / 20] Loss: 0.4453415648681339\n",
      "Epoch: [11 / 20] Loss: 0.399338914076666\n",
      "Epoch: [12 / 20] Loss: 0.36054340003963303\n",
      "Epoch: [13 / 20] Loss: 0.3286321506067\n",
      "Epoch: [14 / 20] Loss: 0.301940897407829\n",
      "Epoch: [15 / 20] Loss: 0.279713780865801\n",
      "Epoch: [16 / 20] Loss: 0.2610737944792736\n",
      "Epoch: [17 / 20] Loss: 0.24642470868299585\n",
      "Epoch: [18 / 20] Loss: 0.23314789261735958\n",
      "Epoch: [19 / 20] Loss: 0.22371855696093454\n",
      "Epoch: [20 / 20] Loss: 0.21438479306209823\n"
     ]
    }
   ],
   "source": [
    "input_lang = languages.index('Dutch')\n",
    "train_dataloader = get_dataloader(batch_size, input_lang)\n",
    "encoder = EncoderRNN(lang_classes[input_lang].n_words, hidden_size).to(device)\n",
    "decoder = AttnDecoderRNN(hidden_size, lang_classes[-1].n_words).to(device)\n",
    "print(f\"STARTING TO TRAIN\")\n",
    "losses = train(train_dataloader, encoder, decoder, 20, learning_rate=3e-4)"
   ],
   "metadata": {
    "collapsed": false,
    "ExecuteTime": {
     "end_time": "2023-12-16T18:11:34.163145300Z",
     "start_time": "2023-12-16T16:34:39.853498700Z"
    }
   }
  },
  {
   "cell_type": "code",
   "execution_count": 290,
   "outputs": [
    {
     "name": "stdout",
     "output_type": "stream",
     "text": [
      "Epoch: [1 / 5] Loss: 0.15014374382066084\n",
      "Epoch: [2 / 5] Loss: 0.11586948891665912\n",
      "Epoch: [3 / 5] Loss: 0.10097554727316209\n",
      "Epoch: [4 / 5] Loss: 0.0910496880135147\n",
      "Epoch: [5 / 5] Loss: 0.0831962407286492\n"
     ]
    }
   ],
   "source": [
    "losses += train(train_dataloader, encoder, decoder, 5, learning_rate=1e-4)"
   ],
   "metadata": {
    "collapsed": false,
    "ExecuteTime": {
     "end_time": "2023-12-16T18:36:56.256429600Z",
     "start_time": "2023-12-16T18:12:49.107715300Z"
    }
   }
  },
  {
   "cell_type": "code",
   "execution_count": 291,
   "outputs": [
    {
     "data": {
      "text/plain": "46.23802124200635"
     },
     "execution_count": 291,
     "metadata": {},
     "output_type": "execute_result"
    }
   ],
   "source": [
    "compute_metrics(encoder, decoder, input_lang)"
   ],
   "metadata": {
    "collapsed": false,
    "ExecuteTime": {
     "end_time": "2023-12-16T18:46:12.552574800Z",
     "start_time": "2023-12-16T18:46:03.853332900Z"
    }
   }
  },
  {
   "cell_type": "code",
   "execution_count": 292,
   "outputs": [
    {
     "data": {
      "text/plain": "<Figure size 1000x500 with 1 Axes>",
      "image/png": "[encoded data removed]"
     },
     "metadata": {},
     "output_type": "display_data"
    }
   ],
   "source": [
    "pltLosses(losses, saveImg=True, lang = languages[input_lang])"
   ],
   "metadata": {
    "collapsed": false,
    "ExecuteTime": {
     "end_time": "2023-12-16T18:46:58.385239900Z",
     "start_time": "2023-12-16T18:46:58.182985600Z"
    }
   }
  },
  {
   "cell_type": "code",
   "execution_count": 293,
   "outputs": [
    {
     "name": "stdout",
     "output_type": "stream",
     "text": [
      "From: ze is niet schaalbaar werkt niet wereldwijd al zeker niet in de virtuele wereld\n",
      "To: it doesn t scale it doesn t work globally and it surely doesn t work virtually\n",
      "Prediction: she doesn t scale is not working there s not globally a million market\n",
      "\n",
      "From: je moet je aanpassen\n",
      "To: so you have to adapt\n",
      "Prediction: so you shouldn t adapt\n",
      "\n",
      "From: een voorbeeld\n",
      "To: so here s an example\n",
      "Prediction: an example\n",
      "\n",
      "From: 30 seconden ga het netwerk in maak de knoop\n",
      "To: thirty seconds into the network make the node\n",
      "Prediction: thirty seconds the stress will get the network in the breast make the node\n",
      "\n",
      "From: we hebben tevens keuzes nodig voor mensen\n",
      "To: we also need the choices for people\n",
      "Prediction: we also have the choices that we humans for people\n",
      "\n",
      "From: we zitten allemaal in hetzelfde schuitje\n",
      "To: and we re all in this together\n",
      "Prediction: now we are all in this together\n",
      "\n",
      "From: je verbergt het omdat het stigma rond depressie in onze samenleving zeer reëel is\n",
      "To: you hide it because the stigma in our society around depression is very real\n",
      "Prediction: you hide it because the stigma in our society around depression is very real\n",
      "\n",
      "From: het is helemaal open\n",
      "To: you know it s completely open\n",
      "Prediction: so it s completely open\n",
      "\n",
      "From: hij kijkt uit zijn raam roept me naar boven zegt hey anthony\n",
      "To: he looks out his window he calls me upstairs he said hey anthony\n",
      "Prediction: he looks out his window he calls me upstairs he said hey anthony\n",
      "\n",
      "From: design ik ben dol op het design\n",
      "To: design i love its design\n",
      "Prediction: design love to design the design\n",
      "\n"
     ]
    }
   ],
   "source": [
    "evaluateRandomly(encoder, decoder, input_lang, set='train')"
   ],
   "metadata": {
    "collapsed": false,
    "ExecuteTime": {
     "end_time": "2023-12-16T18:46:58.805561200Z",
     "start_time": "2023-12-16T18:46:58.507313100Z"
    }
   }
  },
  {
   "cell_type": "code",
   "execution_count": 294,
   "outputs": [
    {
     "name": "stdout",
     "output_type": "stream",
     "text": [
      "From: en dat gebeurde ook na drie maanden\n",
      "To: and that s what happened at the end of that three month period\n",
      "Prediction: after three months after three months\n",
      "\n",
      "From: ik ga verder en kies overheid\n",
      "To: i m going to go ahead and select government\n",
      "Prediction: and i m going to get on and go shopping\n",
      "\n",
      "From: mooi trucje iemand die geen jeugd gehad heeft zit in de zaal\n",
      "To: pointing out like this nice one someone who didn t have a childhood is out there\n",
      "Prediction: beautiful somebody who s not asked you re not really in any room\n",
      "\n",
      "From: en de belangrijkste les die we hebben geleerd denk ik is dat ze echt van elkaar verschillen\n",
      "To: and the main lesson i think that we have learned is they are really different\n",
      "Prediction: and the biggest lesson that we ve learned is that they really are really looking for\n",
      "\n",
      "From: zelfs geen idee het is een proces\n",
      "To: it s not even an idea it s a process\n",
      "Prediction: not even an idea it s a process it s an process\n",
      "\n",
      "From: het internet en zijn diensten zijn een wonder\n",
      "To: the internet and its services are a miracle\n",
      "Prediction: and the internet and services are a miracle\n",
      "\n",
      "From: dus is paul een terrorist\n",
      "To: so paul s a terrorist\n",
      "Prediction: spider silk is a terrorist thing\n",
      "\n",
      "From: wie krijgt hier nog mazelen\n",
      "To: because did anyone have measles here\n",
      "Prediction: who gets out there today\n",
      "\n",
      "From: het heeft momenten van ervaring het ene na het andere\n",
      "To: it has moments of experience one after the other\n",
      "Prediction: it makes it scale of experience one of the one after getting after another\n",
      "\n",
      "From: ik had een relatie met deze schoonheid gedurende enkele maanden\n",
      "To: i was in a relationship with this beauty for several months\n",
      "Prediction: i had a relationship with this beauty for a few months months\n",
      "\n"
     ]
    }
   ],
   "source": [
    "evaluateRandomly(encoder, decoder, input_lang, set='test')"
   ],
   "metadata": {
    "collapsed": false,
    "ExecuteTime": {
     "end_time": "2023-12-16T18:47:01.550454400Z",
     "start_time": "2023-12-16T18:47:01.329917700Z"
    }
   }
  },
  {
   "cell_type": "code",
   "execution_count": 295,
   "outputs": [
    {
     "name": "stdout",
     "output_type": "stream",
     "text": [
      "From: de marshmallow moet er bovenop\n",
      "To: the marshmallow has to be on top\n",
      "Prediction: allowed to have to go on and on it\n",
      "\n",
      "From: en het was een groot succes\n",
      "To: and it was a huge success\n",
      "Prediction: successful\n",
      "\n",
      "From: dan gaan ze plannen organiseren\n",
      "To: then they spend some time planning organizing\n",
      "Prediction: going to organize the money going to organize\n",
      "\n",
      "From: ze schetsen en monteren spaghetti\n",
      "To: they sketch and they lay out spaghetti\n",
      "Prediction: and begin and begin issue\n",
      "\n",
      "From: het grootste deel van de tijd bouwen ze steeds grotere bouwwerken van de spaghetti\n",
      "To: they spend the majority of their time assembling the sticks into ever growing structures\n",
      "Prediction: the most beautiful thing they re getting closer building out of the electronic ones\n",
      "\n",
      "From: ze bewonderen hun werk\n",
      "To: they admire their work\n",
      "Prediction: because they do their work\n",
      "\n",
      "From: bepaalde mensen hebben meer van die oh oh momenten dan anderen\n",
      "To: so there are a number of people who have a lot more uh oh moments than others\n",
      "Prediction: now some people who have more of that oh oh oh yeah everybody else than others\n",
      "\n",
      "From: wat van de ergste zijn pas afgestudeerden met een mba\n",
      "To: and among the worst are recent graduates of business school\n",
      "Prediction: what about the worst they are just taken with a roll\n",
      "\n",
      "From: dat is wel indrukwekkend\n",
      "To: and it s pretty amazing\n",
      "Prediction: which is why pretty impressive\n",
      "\n",
      "From: maar er is nog een reden\n",
      "To: but there s another reason as well\n",
      "Prediction: another but there s another reason\n",
      "\n",
      "From: en dat is het dat economen getraind zijn om de enige juiste oplossing te vinden\n",
      "To: and the reason is that business students are trained to find the single right plan right\n",
      "Prediction: and that is that economists have learned about the only available in which is the only right solution\n",
      "\n",
      "From: het is een ramp\n",
      "To: it s a crisis\n",
      "Prediction: though it s a disaster\n",
      "\n",
      "From: klinkt bekend zeker\n",
      "To: sound familiar right\n",
      "Prediction: certainly sounds familiar\n",
      "\n",
      "From: is dat ze met de marshmallow beginnen\n",
      "To: is that they start with the marshmallow\n",
      "Prediction: that s their authority with the marshmallow\n",
      "\n",
      "From: bij iedere versie krijgen de kinderen meteen feedback over wat wel en wat niet werkt\n",
      "To: and with each version kids get instant feedback about what works and what doesn t work\n",
      "Prediction: in every case the kids will be very difficult about what s not what does not\n",
      "\n",
      "From: dus het bouwen van prototypes is heel belangrijk\n",
      "To: so the capacity to play in prototype is really essential\n",
      "Prediction: so building up prototypes\n",
      "\n",
      "From: maar laten we kijken hoe verschillende teams het doen\n",
      "To: but let s look at how different teams perform\n",
      "Prediction: so but how we re going to look at different how it looks like\n",
      "\n",
      "From: het gemiddelde voor de meeste mensen is ongeveer 50 cm\n",
      "To: so the average for most people is around 20 inches\n",
      "Prediction: the average for most people about terror is about 50 percent\n",
      "\n",
      "From: economen halen daar de helft van advocaten doen het iets maar niet veel beter\n",
      "To: business schools students about half of that lawyers a little better but not much better than that\n",
      "Prediction: some economists have the bad numbers of investment they do something very much better\n",
      "\n",
      "From: wie doet het het beste\n",
      "To: who does the very best\n",
      "Prediction: but who s doing the best\n",
      "\n"
     ]
    }
   ],
   "source": [
    "evaluateFirstN(encoder, decoder, input_lang)"
   ],
   "metadata": {
    "collapsed": false,
    "ExecuteTime": {
     "end_time": "2023-12-16T18:47:03.176349100Z",
     "start_time": "2023-12-16T18:47:02.877121100Z"
    }
   }
  },
  {
   "cell_type": "markdown",
   "source": [
    "Test with bidirectional Encoder"
   ],
   "metadata": {
    "collapsed": false
   }
  },
  {
   "cell_type": "code",
   "execution_count": 161,
   "outputs": [
    {
     "name": "stdout",
     "output_type": "stream",
     "text": [
      "STARTING TO TRAIN\n",
      "Epoch: [1 / 20] Loss: 2.210485733298532\n",
      "Epoch: [2 / 20] Loss: 1.536941002144605\n",
      "Epoch: [3 / 20] Loss: 1.2622768827031694\n",
      "Epoch: [4 / 20] Loss: 1.0834756515211494\n",
      "Epoch: [5 / 20] Loss: 0.9460019584754745\n",
      "Epoch: [6 / 20] Loss: 0.8329865965695338\n",
      "Epoch: [7 / 20] Loss: 0.7374594651430769\n",
      "Epoch: [8 / 20] Loss: 0.6558990205870343\n",
      "Epoch: [9 / 20] Loss: 0.5864851520921087\n",
      "Epoch: [10 / 20] Loss: 0.5254749247665423\n",
      "Epoch: [11 / 20] Loss: 0.47456273132968685\n",
      "Epoch: [12 / 20] Loss: 0.43096713418653354\n",
      "Epoch: [13 / 20] Loss: 0.3935519752253067\n",
      "Epoch: [14 / 20] Loss: 0.3609420533045399\n",
      "Epoch: [15 / 20] Loss: 0.33452107767385353\n",
      "Epoch: [16 / 20] Loss: 0.3117023768109344\n",
      "Epoch: [17 / 20] Loss: 0.2924093111803645\n",
      "Epoch: [18 / 20] Loss: 0.2755193254912804\n",
      "Epoch: [19 / 20] Loss: 0.2616235886300629\n",
      "Epoch: [20 / 20] Loss: 0.24984259951313847\n"
     ]
    }
   ],
   "source": [
    "input_lang = languages.index('Dutch')\n",
    "train_dataloader = get_dataloader(batch_size, input_lang)\n",
    "encoder = EncoderRNN(lang_classes[input_lang].n_words, hidden_size).to(device)\n",
    "decoder = AttnDecoderRNN(hidden_size, lang_classes[-1].n_words).to(device)\n",
    "print(f\"STARTING TO TRAIN\")\n",
    "losses = train(train_dataloader, encoder, decoder, 20, learning_rate=3e-4)"
   ],
   "metadata": {
    "collapsed": false,
    "ExecuteTime": {
     "end_time": "2023-12-15T21:16:15.646623300Z",
     "start_time": "2023-12-15T20:02:06.379235700Z"
    }
   }
  },
  {
   "cell_type": "code",
   "execution_count": 162,
   "outputs": [
    {
     "data": {
      "text/plain": "<Figure size 1000x500 with 1 Axes>",
      "image/png": "[encoded data removed]"
     },
     "metadata": {},
     "output_type": "display_data"
    }
   ],
   "source": [
    "pltLosses(losses, saveImg=True, lang = languages[input_lang])"
   ],
   "metadata": {
    "collapsed": false,
    "ExecuteTime": {
     "end_time": "2023-12-15T21:16:24.647067800Z",
     "start_time": "2023-12-15T21:16:24.395406800Z"
    }
   }
  },
  {
   "cell_type": "code",
   "execution_count": 163,
   "outputs": [
    {
     "data": {
      "text/plain": "47.286659347716586"
     },
     "execution_count": 163,
     "metadata": {},
     "output_type": "execute_result"
    }
   ],
   "source": [
    "compute_metrics(encoder, decoder, input_lang)"
   ],
   "metadata": {
    "collapsed": false,
    "ExecuteTime": {
     "end_time": "2023-12-15T21:16:40.015476700Z",
     "start_time": "2023-12-15T21:16:32.766053800Z"
    }
   }
  },
  {
   "cell_type": "code",
   "execution_count": 164,
   "outputs": [
    {
     "name": "stdout",
     "output_type": "stream",
     "text": [
      "From: er is veel dat samen moet komen\n",
      "To: there s a lot that has to come together\n",
      "Prediction: and there s been much better coming out\n",
      "\n",
      "From: ca als dit niet werkt wat dan\n",
      "To: ca if this doesn t work then what\n",
      "Prediction: ca so if this isn t what that then is\n",
      "\n",
      "From: niet alleen voor de prachtige band\n",
      "To: to understand not only the beautiful bond\n",
      "Prediction: so it s not just wonderful wonderful\n",
      "\n",
      "From: en wat we dus op globale schaal moeten doen is een nieuw systeem creëren\n",
      "To: and so what we re going to have to do at a global scale is create a new system\n",
      "Prediction: and so what we need to do is we need to do a new idea of creating this\n",
      "\n",
      "From: je kan ermee achteruit in de tijd of vooruit in de tijd maar niet hier en nu blijven\n",
      "To: and you can go backwards you can go forwards you cannot stay where you are\n",
      "Prediction: you can quit in green or what do you do today and spend over here today\n",
      "\n",
      "From: en zo hebben we een prachtige situatie met elektriciteit in de rijke wereld\n",
      "To: and so we re in a wonderful situation with electricity in the rich world\n",
      "Prediction: and so we have a wonderful situation with electricity in the rich world\n",
      "\n",
      "From: ca maar danny het hele amerikaanse streven is gericht op leven vrijheid en het nastreven van geluk\n",
      "To: ca but danny the whole american endeavor is about life liberty the pursuit of happiness\n",
      "Prediction: ca but everyone but the whole american is change because of that means and so forth\n",
      "\n",
      "From: de data kwamen tevoorschijn\n",
      "To: the data came back\n",
      "Prediction: the data came up for the data\n",
      "\n",
      "From: ik bedoel maar je kan zelf je lijstje samenstellen\n",
      "To: you know you can choose your list\n",
      "Prediction: i mean but you can see your life sucks\n",
      "\n",
      "From: dat is echt mijn huid dat is geen hollywood special effect\n",
      "To: that really is my skin that is not a hollywood special effect\n",
      "Prediction: that s really my skin it s not that we re moving there\n",
      "\n"
     ]
    }
   ],
   "source": [
    "evaluateRandomly(encoder, decoder, input_lang)"
   ],
   "metadata": {
    "collapsed": false,
    "ExecuteTime": {
     "end_time": "2023-12-15T21:16:45.953927700Z",
     "start_time": "2023-12-15T21:16:45.639300200Z"
    }
   }
  },
  {
   "cell_type": "code",
   "execution_count": 58,
   "outputs": [
    {
     "name": "stdout",
     "output_type": "stream",
     "text": [
      "From: de marshmallow challenge\n",
      "To: called the marshmallow challenge\n",
      "Prediction: the whole question in the position\n",
      "\n",
      "From: de marshmallow moet er bovenop\n",
      "To: the marshmallow has to be on top\n",
      "Prediction: it has to go a cave and then revisit those\n",
      "\n",
      "From: en omdat ik dit een interessant idee vond besloot ik het op te nemen in een design workshop\n",
      "To: and so i thought this was an interesting idea and i incorporated it into a design workshop\n",
      "Prediction: and i decided to find this a really interesting idea i decided to take a in a design workshop\n",
      "\n",
      "From: en het was een groot succes\n",
      "To: and it was a huge success\n",
      "Prediction: success it was a big success\n",
      "\n",
      "From: dan gaan ze plannen organiseren\n",
      "To: then they spend some time planning organizing\n",
      "Prediction: then they slowly plan they prepared\n",
      "\n",
      "From: ze schetsen en monteren spaghetti\n",
      "To: they sketch and they lay out spaghetti\n",
      "Prediction: they re nuts and respect you spirit to replace new\n",
      "\n",
      "From: het grootste deel van de tijd bouwen ze steeds grotere bouwwerken van de spaghetti\n",
      "To: they spend the majority of their time assembling the sticks into ever growing structures\n",
      "Prediction: the main parts of time they are sizable better from the mother of cooks the mother of spaghetti\n",
      "\n",
      "From: ze bewonderen hun werk\n",
      "To: they admire their work\n",
      "Prediction: they admire their jobs\n",
      "\n",
      "From: bepaalde mensen hebben meer van die oh oh momenten dan anderen\n",
      "To: so there are a number of people who have a lot more uh oh moments than others\n",
      "Prediction: folks have people out there from thousands of oh that s another nine times\n",
      "\n",
      "From: wat van de ergste zijn pas afgestudeerden met een mba\n",
      "To: and among the worst are recent graduates of business school\n",
      "Prediction: what s worst worst just do it s simply rocket science with a span at a solar lecture\n",
      "\n",
      "From: ze liegen ze spelen vals raken afgeleid en ze maken behoorlijk domme bouwwerken\n",
      "To: they lie they cheat they get distracted and they produce really lame structures\n",
      "Prediction: they re dying they re playing water and they re making a lot of awful lot\n",
      "\n",
      "From: en bij de beste onder hen zijn pas afgestudeerde kleuters\n",
      "To: and among the best are recent graduates of kindergarten\n",
      "Prediction: and best in them with them are they re telling the aid situations where they are meaning\n",
      "\n",
      "From: dat is wel indrukwekkend\n",
      "To: and it s pretty amazing\n",
      "Prediction: that s unfortunate line\n",
      "\n",
      "From: dus wat je je nu zult afvragen is hoe kan dit waarom wat doen die kleuters\n",
      "To: so the question you want to ask is how come why what is it about them\n",
      "Prediction: so now you re going to ask yourself why is how can this why are this choosing why what\n",
      "\n",
      "From: maar er is nog een reden\n",
      "To: but there s another reason as well\n",
      "Prediction: but there s another reason why is there yet a reason\n",
      "\n",
      "From: en dat is het dat economen getraind zijn om de enige juiste oplossing te vinden\n",
      "To: and the reason is that business students are trained to find the single right plan right\n",
      "Prediction: and that s the economists to be presented to the only appropriate solution\n",
      "\n",
      "From: en dan gaan ze die uitvoeren\n",
      "To: and then they execute on it\n",
      "Prediction: they re going to run that stuff\n",
      "\n",
      "From: het is een ramp\n",
      "To: it s a crisis\n",
      "Prediction: it s a disaster disaster\n",
      "\n",
      "From: klinkt bekend zeker\n",
      "To: sound familiar right\n",
      "Prediction: sounds familiar intention is especially well known\n",
      "\n",
      "From: is dat ze met de marshmallow beginnen\n",
      "To: is that they start with the marshmallow\n",
      "Prediction: she s going to start with the marshmallow if the deals are beginning with\n",
      "\n"
     ]
    }
   ],
   "source": [
    "evaluateFirstN(encoder, decoder, input_lang)"
   ],
   "metadata": {
    "collapsed": false,
    "ExecuteTime": {
     "end_time": "2023-12-14T18:39:54.086037200Z",
     "start_time": "2023-12-14T18:39:53.521412600Z"
    }
   }
  },
  {
   "cell_type": "markdown",
   "source": [
    "Korean"
   ],
   "metadata": {
    "collapsed": false
   }
  },
  {
   "cell_type": "code",
   "execution_count": 279,
   "outputs": [
    {
     "name": "stdout",
     "output_type": "stream",
     "text": [
      "STARTING TO TRAIN\n",
      "Epoch: [1 / 20] Loss: 2.1574563031672995\n",
      "Epoch: [2 / 20] Loss: 1.7572471412576522\n",
      "Epoch: [3 / 20] Loss: 1.5404743587719423\n",
      "Epoch: [4 / 20] Loss: 1.3359884600044936\n",
      "Epoch: [5 / 20] Loss: 1.1312357208031674\n",
      "Epoch: [6 / 20] Loss: 0.9351841490493795\n",
      "Epoch: [7 / 20] Loss: 0.7554172707412573\n",
      "Epoch: [8 / 20] Loss: 0.5989924706416213\n",
      "Epoch: [9 / 20] Loss: 0.46856403716871436\n",
      "Epoch: [10 / 20] Loss: 0.3646084771284152\n",
      "Epoch: [11 / 20] Loss: 0.2833434660755965\n",
      "Epoch: [12 / 20] Loss: 0.22190184316211178\n",
      "Epoch: [13 / 20] Loss: 0.1760340578218975\n",
      "Epoch: [14 / 20] Loss: 0.14429145866337442\n",
      "Epoch: [15 / 20] Loss: 0.12020836099231057\n",
      "Epoch: [16 / 20] Loss: 0.10396695255850784\n",
      "Epoch: [17 / 20] Loss: 0.0917329253931039\n",
      "Epoch: [18 / 20] Loss: 0.08332461172306789\n",
      "Epoch: [19 / 20] Loss: 0.07714698706453924\n",
      "Epoch: [20 / 20] Loss: 0.07040611261503615\n"
     ]
    }
   ],
   "source": [
    "input_lang = languages.index('Korean')\n",
    "train_dataloader = get_dataloader(batch_size, input_lang)\n",
    "encoder = EncoderRNN(lang_classes[input_lang].n_words, hidden_size).to(device)\n",
    "decoder = AttnDecoderRNN(hidden_size, lang_classes[-1].n_words).to(device)\n",
    "print(f\"STARTING TO TRAIN\")\n",
    "losses = train(train_dataloader, encoder, decoder, 20, learning_rate=3e-4)"
   ],
   "metadata": {
    "collapsed": false,
    "ExecuteTime": {
     "end_time": "2023-12-16T16:17:36.308198200Z",
     "start_time": "2023-12-16T15:43:11.130998Z"
    }
   }
  },
  {
   "cell_type": "code",
   "execution_count": 280,
   "outputs": [
    {
     "name": "stdout",
     "output_type": "stream",
     "text": [
      "Epoch: [1 / 5] Loss: 0.04773121985831357\n",
      "Epoch: [2 / 5] Loss: 0.03248265583587146\n",
      "Epoch: [3 / 5] Loss: 0.027219398736810323\n",
      "Epoch: [4 / 5] Loss: 0.024434349440741604\n",
      "Epoch: [5 / 5] Loss: 0.023234179724045404\n"
     ]
    }
   ],
   "source": [
    "losses += train(train_dataloader, encoder, decoder, 5, learning_rate=1e-4)"
   ],
   "metadata": {
    "collapsed": false,
    "ExecuteTime": {
     "end_time": "2023-12-16T16:31:06.945300200Z",
     "start_time": "2023-12-16T16:22:44.729852300Z"
    }
   }
  },
  {
   "cell_type": "code",
   "execution_count": 281,
   "outputs": [
    {
     "data": {
      "text/plain": "<Figure size 1000x500 with 1 Axes>",
      "image/png": "[encoded data removed]"
     },
     "metadata": {},
     "output_type": "display_data"
    }
   ],
   "source": [
    "pltLosses(losses, saveImg=True, lang = languages[input_lang])\n"
   ],
   "metadata": {
    "collapsed": false,
    "ExecuteTime": {
     "end_time": "2023-12-16T16:32:42.629323400Z",
     "start_time": "2023-12-16T16:32:42.453196700Z"
    }
   }
  },
  {
   "cell_type": "code",
   "execution_count": 282,
   "outputs": [
    {
     "data": {
      "text/plain": "23.363046671778672"
     },
     "execution_count": 282,
     "metadata": {},
     "output_type": "execute_result"
    }
   ],
   "source": [
    "compute_metrics(encoder, decoder, input_lang)"
   ],
   "metadata": {
    "collapsed": false,
    "ExecuteTime": {
     "end_time": "2023-12-16T16:32:57.781885600Z",
     "start_time": "2023-12-16T16:32:47.428079600Z"
    }
   }
  },
  {
   "cell_type": "code",
   "execution_count": 286,
   "outputs": [
    {
     "name": "stdout",
     "output_type": "stream",
     "text": [
      "From: 또 다른 이유가 있습니다\n",
      "To: but there s another reason as well\n",
      "Prediction: there another reason for this\n",
      "\n",
      "From: 그런데 제가 재미있는 일을 해봤습니다\n",
      "To: and i tried something interesting\n",
      "Prediction: it was fun to work\n",
      "\n",
      "From: 어떻게 되었을 까요\n",
      "To: so what do you think happened to these design students\n",
      "Prediction: what happens to the time\n",
      "\n",
      "From: 결과가 궁금하시죠\n",
      "To: what was the result\n",
      "Prediction: we have the results\n",
      "\n",
      "From: 우리는 똑같은 실험은 같은 학생들에게 해보았습니다\n",
      "To: we did the exercise again with the same students\n",
      "Prediction: same sort of same like this same same\n",
      "\n",
      "From: 어떤일이 일어났을까요\n",
      "To: what do you think happened then\n",
      "Prediction: SOS SOS SOS SOS SOS SOS SOS SOS SOS SOS SOS SOS SOS SOS SOS SOS SOS SOS SOS\n",
      "\n",
      "From: 자세한 설명이 있어요\n",
      "To: there s step by step instructions on this\n",
      "Prediction: living organisms a little bit\n",
      "\n",
      "From: 감사합니다\n",
      "To: thank you very much\n",
      "Prediction: thank you\n",
      "\n",
      "From: 여기에 어떤 기계가 있다고 가정해봅시다\n",
      "To: let s pretend right here we have a machine\n",
      "Prediction: SOS SOS SOS SOS SOS SOS SOS SOS SOS SOS SOS SOS SOS SOS SOS SOS SOS SOS SOS\n",
      "\n",
      "From: 그리고 이 방에 있는 모든 사람이 그 안으로 들어가야 합니다\n",
      "To: and everyone in this room has to get into it\n",
      "Prediction: everyone in the end of the development\n",
      "\n",
      "From: 저는 잘 모르겠네요\n",
      "To: i don t know\n",
      "Prediction: all i don t know\n",
      "\n",
      "From: 그리고 그런 것들을 이해합니다\n",
      "To: and i understand that\n",
      "Prediction: SOS SOS SOS SOS SOS SOS SOS SOS SOS SOS SOS SOS SOS SOS SOS SOS SOS SOS SOS\n",
      "\n",
      "From: 하지만 저는 그런 사람 중의 일부가 아니라는 것을 말씀드리고 싶군요 저는 과거로\n",
      "To: i m not part of that crowd i have to say\n",
      "Prediction: and i remember not just like that anymore of course\n",
      "\n",
      "From: 그래서 저는 그 기계에 들어가 미래로 가 보고 싶습니다\n",
      "To: so i want to get in the machine and i want to go forward\n",
      "Prediction: and i want to see if you take the picture\n",
      "\n",
      "From: 지금과 같았던 적은 없었습니다\n",
      "To: there s never been a time like this\n",
      "Prediction: t there for many men and men\n",
      "\n",
      "From: 그 점을 생각해 보세요 이건 놀라운 사실입니다\n",
      "To: think about that it s an incredible fact\n",
      "Prediction: think of this when it s an amazing job\n",
      "\n",
      "From: 천연두는 이제 갔습니다 사라졌습니다\n",
      "To: it s gone it s vanished\n",
      "Prediction: next kids\n",
      "\n",
      "From: 따라서 이것은 좋은 소식입니다\n",
      "To: so that s the good news\n",
      "Prediction: so this is interesting a good news\n",
      "\n",
      "From: 그렇습니다 사람은 자신의 의견을 주장할 자격이 있습니다 심지어 진보에 대해서도 그들은 자신의 의견을 주장할 자격이 있습니다\n",
      "To: and listen everyone s entitled to their opinion they re even entitled to their opinion about progress\n",
      "Prediction: every time of their own personal experience to be able to take care of your life and it s\n",
      "\n",
      "From: 그러나 여러분은 무엇에 대해서는 자격이 없는지 아십니까\n",
      "To: but you know what you re not entitled to\n",
      "Prediction: SOS SOS SOS SOS SOS SOS SOS SOS SOS SOS SOS SOS SOS SOS SOS SOS SOS SOS SOS\n",
      "\n"
     ]
    }
   ],
   "source": [
    "evaluateFirstN(encoder, decoder, input_lang)"
   ],
   "metadata": {
    "collapsed": false,
    "ExecuteTime": {
     "end_time": "2023-12-16T16:33:24.941836100Z",
     "start_time": "2023-12-16T16:33:24.448964Z"
    }
   }
  },
  {
   "cell_type": "code",
   "execution_count": 287,
   "outputs": [
    {
     "name": "stdout",
     "output_type": "stream",
     "text": [
      "From: 그러면 어떻게 될까요\n",
      "To: so how does it work\n",
      "Prediction: so how does it\n",
      "\n",
      "From: 제가 계산을 좀 해봤죠\n",
      "To: so i did some calculations\n",
      "Prediction: so i did some calculations\n",
      "\n",
      "From: 왜 그들은 자신들의 생각과 목소리를 가지면 안 되는거죠\n",
      "To: why can t they have their own ideas and their own voice\n",
      "Prediction: why can t they have their own ideas and their own voice\n",
      "\n",
      "From: 이 남자를 죽인 사람들을 찾아내\n",
      "To: get those who killed this guy\n",
      "Prediction: SOS SOS SOS SOS SOS SOS SOS SOS SOS SOS SOS SOS SOS SOS SOS SOS SOS SOS SOS\n",
      "\n",
      "From: 돈을 충분히 벌지 못하는 건 아닐까요\n",
      "To: will i not make enough money\n",
      "Prediction: t enough money i can make money\n",
      "\n",
      "From: 그래서 이 사진을 가져왔습니다\n",
      "To: so i brought a picture with big hair\n",
      "Prediction: SOS SOS SOS SOS SOS SOS SOS SOS SOS SOS SOS SOS SOS SOS SOS SOS SOS SOS SOS\n",
      "\n",
      "From: 배웠습니다\n",
      "To: and\n",
      "Prediction: \n",
      "\n",
      "From: 그것은 어떤 형태를 가질까요\n",
      "To: and what does that look like\n",
      "Prediction: what does that look like\n",
      "\n",
      "From: 생각해보세요 만약 우리가 이런 체계를 재난이 일어나기 전에 가지고 있다면 어떨까요\n",
      "To: imagine if we could have these systems ready to go in a place before a disaster\n",
      "Prediction: imagine if we could have these systems ready to go in a place before a disaster\n",
      "\n",
      "From: 제가 무엇을 했죠\n",
      "To: so what was i doing\n",
      "Prediction: so what have i learned\n",
      "\n"
     ]
    }
   ],
   "source": [
    "evaluateRandomly(encoder, decoder, input_lang, set='train')"
   ],
   "metadata": {
    "collapsed": false,
    "ExecuteTime": {
     "end_time": "2023-12-16T16:33:32.633634100Z",
     "start_time": "2023-12-16T16:33:32.288601400Z"
    }
   }
  },
  {
   "cell_type": "code",
   "execution_count": 288,
   "outputs": [
    {
     "name": "stdout",
     "output_type": "stream",
     "text": [
      "From: 정말 흥미로운 사람들을 많이 만났어요\n",
      "To: and i met a host of really interesting people\n",
      "Prediction: there was a lot of really cool places\n",
      "\n",
      "From: 감사합니다\n",
      "To: thank you\n",
      "Prediction: thank you\n",
      "\n",
      "From: 마음 가장 깊은 곳에서 저는 저를 받아들였습니다\n",
      "To: my deepest truth allowed me to accept who i am\n",
      "Prediction: SOS SOS SOS SOS SOS SOS SOS SOS SOS SOS SOS SOS SOS SOS SOS SOS SOS SOS SOS\n",
      "\n",
      "From: 꿈을 이룰 수 있을 것 같았고 뉴욕에 가면 모델이 될 수 있다고 생각했죠\n",
      "To: i felt that i could conquer my dream and move to new york and be a model\n",
      "Prediction: now i can help you understand what s happening in my village\n",
      "\n",
      "From: 제가 사용하고 있는 이 도구는 작은 실험의 하나로\n",
      "To: this tool that i m using here is a little experiment\n",
      "Prediction: here at this little piece that i showed the little building\n",
      "\n",
      "From: 그러는 것은 정말 안좋은 기분이 들게 만들어요\n",
      "To: and that is a terrible feeling\n",
      "Prediction: SOS SOS SOS SOS SOS SOS SOS SOS SOS SOS SOS SOS SOS SOS SOS SOS SOS SOS SOS\n",
      "\n",
      "From: 그녀는 더이상 자유롭지 않습니다\n",
      "To: she is no more a free individual\n",
      "Prediction: she doesn t stop the same anymore\n",
      "\n",
      "From: 그래서 저는 그 기계에 들어가 미래로 가 보고 싶습니다\n",
      "To: so i want to get in the machine and i want to go forward\n",
      "Prediction: and i want to see if we take the dog\n",
      "\n",
      "From: 중간에 있는 사람은 별로 그렇지 않습니다\n",
      "To: that guy in the middle not so much\n",
      "Prediction: in the end not with people not much of the street\n",
      "\n",
      "From: 그것은 우리 삶의 일부입니다\n",
      "To: it s part of our life\n",
      "Prediction: it s part of life\n",
      "\n"
     ]
    }
   ],
   "source": [
    "evaluateRandomly(encoder, decoder, input_lang, set='test')"
   ],
   "metadata": {
    "collapsed": false,
    "ExecuteTime": {
     "end_time": "2023-12-16T16:33:33.762563400Z",
     "start_time": "2023-12-16T16:33:33.650943200Z"
    }
   }
  },
  {
   "cell_type": "markdown",
   "source": [
    "Korean with Bidirectional Encoder"
   ],
   "metadata": {
    "collapsed": false
   }
  },
  {
   "cell_type": "code",
   "execution_count": 362,
   "outputs": [
    {
     "name": "stdout",
     "output_type": "stream",
     "text": [
      "STARTING TO TRAIN\n",
      "Epoch: [1 / 20] Loss: 2.18311266009683\n",
      "Epoch: [2 / 20] Loss: 1.782959856099759\n",
      "Epoch: [3 / 20] Loss: 1.5788436090039288\n",
      "Epoch: [4 / 20] Loss: 1.3933644844893465\n",
      "Epoch: [5 / 20] Loss: 1.21140561930965\n",
      "Epoch: [6 / 20] Loss: 1.0345625067718744\n",
      "Epoch: [7 / 20] Loss: 0.8678158827597237\n",
      "Epoch: [8 / 20] Loss: 0.7161418222758226\n",
      "Epoch: [9 / 20] Loss: 0.5846619671031382\n",
      "Epoch: [10 / 20] Loss: 0.47190155519136695\n",
      "Epoch: [11 / 20] Loss: 0.3804651543866812\n",
      "Epoch: [12 / 20] Loss: 0.3065686473651942\n",
      "Epoch: [13 / 20] Loss: 0.24849617404745436\n",
      "Epoch: [14 / 20] Loss: 0.20382808030716987\n",
      "Epoch: [15 / 20] Loss: 0.1711655078228737\n",
      "Epoch: [16 / 20] Loss: 0.14487218399259827\n",
      "Epoch: [17 / 20] Loss: 0.12747753542650742\n",
      "Epoch: [18 / 20] Loss: 0.11198797585710706\n",
      "Epoch: [19 / 20] Loss: 0.10272188902611475\n",
      "Epoch: [20 / 20] Loss: 0.09445740572090656\n"
     ]
    }
   ],
   "source": [
    "input_lang = languages.index('Korean')\n",
    "train_dataloader = get_dataloader(batch_size, input_lang)\n",
    "encoder = EncoderRNN(lang_classes[input_lang].n_words, hidden_size, bi_dir=True).to(device)\n",
    "decoder = AttnDecoderRNN(hidden_size, lang_classes[-1].n_words, bi_dir=True).to(device)\n",
    "print(f\"STARTING TO TRAIN\")\n",
    "losses = train(train_dataloader, encoder, decoder, 20, learning_rate=3e-4)"
   ],
   "metadata": {
    "collapsed": false,
    "ExecuteTime": {
     "end_time": "2023-12-17T05:50:40.931870300Z",
     "start_time": "2023-12-17T05:23:14.418080200Z"
    }
   }
  },
  {
   "cell_type": "code",
   "execution_count": 363,
   "outputs": [
    {
     "name": "stdout",
     "output_type": "stream",
     "text": [
      "Epoch: [1 / 5] Loss: 0.06610201542307542\n",
      "Epoch: [2 / 5] Loss: 0.04736650050178129\n",
      "Epoch: [3 / 5] Loss: 0.040206956508971485\n",
      "Epoch: [4 / 5] Loss: 0.03664370410752121\n",
      "Epoch: [5 / 5] Loss: 0.03368804165726403\n"
     ]
    }
   ],
   "source": [
    "losses += train(train_dataloader, encoder, decoder, 5, learning_rate=1e-4)"
   ],
   "metadata": {
    "collapsed": false,
    "ExecuteTime": {
     "end_time": "2023-12-17T05:58:26.996484Z",
     "start_time": "2023-12-17T05:51:40.876502500Z"
    }
   }
  },
  {
   "cell_type": "code",
   "execution_count": 370,
   "outputs": [
    {
     "data": {
      "text/plain": "22.668287784336194"
     },
     "execution_count": 370,
     "metadata": {},
     "output_type": "execute_result"
    }
   ],
   "source": [
    "compute_metrics(encoder, decoder, input_lang)"
   ],
   "metadata": {
    "collapsed": false,
    "ExecuteTime": {
     "end_time": "2023-12-17T06:15:34.202597800Z",
     "start_time": "2023-12-17T06:15:24.658309100Z"
    }
   }
  },
  {
   "cell_type": "code",
   "execution_count": 365,
   "outputs": [
    {
     "name": "stdout",
     "output_type": "stream",
     "text": [
      "From: 또 다른 이유가 있습니다\n",
      "To: but there s another reason as well\n",
      "Prediction: there s another reason but it is there in other ways that is also something else\n",
      "\n",
      "From: 그런데 제가 재미있는 일을 해봤습니다\n",
      "To: and i tried something interesting\n",
      "Prediction: but what i thought what do i do was my dad working a lot of made for me\n",
      "\n",
      "From: 어떻게 되었을 까요\n",
      "To: so what do you think happened to these design students\n",
      "Prediction: how do you ever see what s going on in your brain\n",
      "\n",
      "From: 결과가 궁금하시죠\n",
      "To: what was the result\n",
      "Prediction: invest of course the brain does not want to be living and very free\n",
      "\n",
      "From: 우리는 똑같은 실험은 같은 학생들에게 해보았습니다\n",
      "To: we did the exercise again with the same students\n",
      "Prediction: so we all have worked on those same things and pay them for the same time\n",
      "\n",
      "From: 어떤일이 일어났을까요\n",
      "To: what do you think happened then\n",
      "Prediction: when someone comes down to you and want to focus on the market\n",
      "\n",
      "From: 자세한 설명이 있어요\n",
      "To: there s step by step instructions on this\n",
      "Prediction: and there s a certain amount of water that you can see\n",
      "\n",
      "From: 감사합니다\n",
      "To: thank you very much\n",
      "Prediction: thank you so much for the very few moment\n",
      "\n",
      "From: 여기에 어떤 기계가 있다고 가정해봅시다\n",
      "To: let s pretend right here we have a machine\n",
      "Prediction: so here s the problem but here s what s the brain be\n",
      "\n",
      "From: 그리고 이 방에 있는 모든 사람이 그 안으로 들어가야 합니다\n",
      "To: and everyone in this room has to get into it\n",
      "Prediction: and so the people in that room has to be able to see everybody the information they ve got\n",
      "\n",
      "From: 저는 잘 모르겠네요\n",
      "To: i don t know\n",
      "Prediction: i don t know enough but well i don t know\n",
      "\n",
      "From: 그리고 그런 것들을 이해합니다\n",
      "To: and i understand that\n",
      "Prediction: and these are things that s there for that kind of life\n",
      "\n",
      "From: 하지만 저는 그런 사람 중의 일부가 아니라는 것을 말씀드리고 싶군요 저는 과거로\n",
      "To: i m not part of that crowd i have to say\n",
      "Prediction: but i knew them so in the case i knew that was just made them\n",
      "\n",
      "From: 그래서 저는 그 기계에 들어가 미래로 가 보고 싶습니다\n",
      "To: so i want to get in the machine and i want to go forward\n",
      "Prediction: and i want to see if i want to see the show of the music here\n",
      "\n",
      "From: 지금과 같았던 적은 없었습니다\n",
      "To: there s never been a time like this\n",
      "Prediction: didn t make the stuff take a friend uses had a little but never made a day\n",
      "\n",
      "From: 그 점을 생각해 보세요 이건 놀라운 사실입니다\n",
      "To: think about that it s an incredible fact\n",
      "Prediction: we think about the real change for this environment is amazing\n",
      "\n",
      "From: 천연두는 이제 갔습니다 사라졌습니다\n",
      "To: it s gone it s vanished\n",
      "Prediction: but now i m going to leave you with a question that was the one for him\n",
      "\n",
      "From: 따라서 이것은 좋은 소식입니다\n",
      "To: so that s the good news\n",
      "Prediction: so this is a good news and working s good news\n",
      "\n",
      "From: 그렇습니다 사람은 자신의 의견을 주장할 자격이 있습니다 심지어 진보에 대해서도 그들은 자신의 의견을 주장할 자격이 있습니다\n",
      "To: and listen everyone s entitled to their opinion they re even entitled to their opinion about progress\n",
      "Prediction: when they do a great deal of their economy they can share their own interest of their own economy\n",
      "\n",
      "From: 그러나 여러분은 무엇에 대해서는 자격이 없는지 아십니까\n",
      "To: but you know what you re not entitled to\n",
      "Prediction: but being made you know about the long term and very few things right now\n",
      "\n"
     ]
    }
   ],
   "source": [
    "evaluateFirstN(encoder, decoder, input_lang)"
   ],
   "metadata": {
    "collapsed": false,
    "ExecuteTime": {
     "end_time": "2023-12-17T05:59:08.709611700Z",
     "start_time": "2023-12-17T05:59:08.526241900Z"
    }
   }
  },
  {
   "cell_type": "code",
   "execution_count": 366,
   "outputs": [
    {
     "name": "stdout",
     "output_type": "stream",
     "text": [
      "From: 잘 아시겠지만 모든 것들입니다\n",
      "To: you know all the stuff\n",
      "Prediction: hope all of us are working on this table\n",
      "\n",
      "From: 저는 정말로 곤충을 사랑합니다\n",
      "To: i really love insects\n",
      "Prediction: i really love insects really well\n",
      "\n",
      "From: 여기 검은 선이 실제 현실입니다\n",
      "To: so here is the real life in black\n",
      "Prediction: so here is the real life in black like life\n",
      "\n",
      "From: 오 여러분들이 만약 아직 해 보지 못 했다면 좋은 기회를 놓치고 있는겁니다\n",
      "To: oh you guys are missing out if you haven t done it yet\n",
      "Prediction: oh you guys are missing out if you haven t done it yet but you need your brain\n",
      "\n",
      "From: 이쪽에 위치한 사람들은 배고픈 상태로 잠자리에 듭니다\n",
      "To: these people go to bed hungry\n",
      "Prediction: these people are being able to take real people and they are going to take place\n",
      "\n",
      "From: 이는 아주 아주 초기에 시작되죠\n",
      "To: it s starts really really early\n",
      "Prediction: it s starts very early and a very very moment when they re being very good at the very\n",
      "\n",
      "From: 전 주문과 계산을 하고 그 남성 전용 구역에서 먹어야 했습니다\n",
      "To: and i had to pay order and eat at the male section\n",
      "Prediction: and i had to pay the order and working at the table of the ted community\n",
      "\n",
      "From: 현재 제가 두려워 하고 있는 것은 아주 간단합니다\n",
      "To: and when i think of what i fear now it s very simple\n",
      "Prediction: and when i think of what i fear now it s a very very simple list\n",
      "\n",
      "From: 그 자리에서 움직이지 않을겁니다\n",
      "To: they re just not moving\n",
      "Prediction: they re just not just going to hear you a few\n",
      "\n",
      "From: 이 점이 사실 사람들의 사고방식을 바꿉니다\n",
      "To: it actually changes the way people think\n",
      "Prediction: now it actually changes the way people think that should be used by people\n",
      "\n"
     ]
    }
   ],
   "source": [
    "evaluateRandomly(encoder, decoder, input_lang, set='train')"
   ],
   "metadata": {
    "collapsed": false,
    "ExecuteTime": {
     "end_time": "2023-12-17T05:59:08.818501700Z",
     "start_time": "2023-12-17T05:59:08.709611700Z"
    }
   }
  },
  {
   "cell_type": "code",
   "execution_count": 367,
   "outputs": [
    {
     "name": "stdout",
     "output_type": "stream",
     "text": [
      "From: 물의 흐름을 바꿨습니다\n",
      "To: they reversed the flow of water\n",
      "Prediction: what we have to use for the entire world and water in a variety more\n",
      "\n",
      "From: 무척이나 어려운 것입니다\n",
      "To: it turns out to be really difficult\n",
      "Prediction: difficult hard work is hard hard difficult science\n",
      "\n",
      "From: 어떻게 하냐구요\n",
      "To: how to do it\n",
      "Prediction: how do we do that well what s going on how do you do it\n",
      "\n",
      "From: 그래서 사실 제게는 많은 동료들이 있었다고 할 수 있죠\n",
      "To: so actually i was in very good company\n",
      "Prediction: so in fact we could many many ways of this could not use\n",
      "\n",
      "From: 관련이 있다는 것이었습니다 매우 무서운 이야기입니다\n",
      "To: very scary\n",
      "Prediction: the moment that matters very very little story and it s been really an odd story\n",
      "\n",
      "From: 감사합니다\n",
      "To: thank you\n",
      "Prediction: thank you so much for your ears\n",
      "\n",
      "From: 그것 말고 뭘 발표할 수 있을까요\n",
      "To: what else can they record\n",
      "Prediction: what can artwork take of it more or less can i take from less\n",
      "\n",
      "From: 저는 그때 깨달았어요\n",
      "To: and that got me thinking\n",
      "Prediction: i started the same room for a century 20 years\n",
      "\n",
      "From: 하지만 어떤 속임수를 써야 현실적으로 보일 수 있을까요\n",
      "To: but what s the trick that makes it look realistic\n",
      "Prediction: but what if you can mean for anything to act as an arm of push\n",
      "\n",
      "From: 그건 매우 합리적인 질문이죠\n",
      "To: and that s a very sensible question\n",
      "Prediction: it s a very difficult process of being but it s a very expensive for young\n",
      "\n"
     ]
    }
   ],
   "source": [
    "evaluateRandomly(encoder, decoder, input_lang, set='test')"
   ],
   "metadata": {
    "collapsed": false,
    "ExecuteTime": {
     "end_time": "2023-12-17T05:59:08.904051600Z",
     "start_time": "2023-12-17T05:59:08.806501300Z"
    }
   }
  },
  {
   "cell_type": "markdown",
   "source": [
    "German"
   ],
   "metadata": {
    "collapsed": false
   }
  },
  {
   "cell_type": "code",
   "execution_count": 271,
   "outputs": [
    {
     "name": "stdout",
     "output_type": "stream",
     "text": [
      "STARTING TO TRAIN\n",
      "Epoch: [1 / 20] Loss: 2.2189928713885583\n",
      "Epoch: [2 / 20] Loss: 1.5646977368552337\n",
      "Epoch: [3 / 20] Loss: 1.2411291043552897\n",
      "Epoch: [4 / 20] Loss: 1.0167094411067767\n",
      "Epoch: [5 / 20] Loss: 0.842583175910856\n",
      "Epoch: [6 / 20] Loss: 0.7010280094398625\n",
      "Epoch: [7 / 20] Loss: 0.5849571961070565\n",
      "Epoch: [8 / 20] Loss: 0.48973001933296706\n",
      "Epoch: [9 / 20] Loss: 0.4119452770740705\n",
      "Epoch: [10 / 20] Loss: 0.34959342037228325\n",
      "Epoch: [11 / 20] Loss: 0.29857199024529896\n",
      "Epoch: [12 / 20] Loss: 0.2566521254448398\n",
      "Epoch: [13 / 20] Loss: 0.22476180001361376\n",
      "Epoch: [14 / 20] Loss: 0.1977101380939391\n",
      "Epoch: [15 / 20] Loss: 0.17687584949006518\n",
      "Epoch: [16 / 20] Loss: 0.16017360422169863\n",
      "Epoch: [17 / 20] Loss: 0.14842562679204818\n",
      "Epoch: [18 / 20] Loss: 0.13846801203072237\n",
      "Epoch: [19 / 20] Loss: 0.13082491225831425\n",
      "Epoch: [20 / 20] Loss: 0.12328173449061003\n"
     ]
    }
   ],
   "source": [
    "input_lang = languages.index('German')\n",
    "train_dataloader = get_dataloader(batch_size, input_lang)\n",
    "encoder = EncoderRNN(lang_classes[input_lang].n_words, hidden_size).to(device)\n",
    "decoder = AttnDecoderRNN(hidden_size, lang_classes[-1].n_words).to(device)\n",
    "print(f\"STARTING TO TRAIN\")\n",
    "losses = train(train_dataloader, encoder, decoder, 20, learning_rate=3e-4)"
   ],
   "metadata": {
    "collapsed": false,
    "ExecuteTime": {
     "end_time": "2023-12-16T15:23:19.635765Z",
     "start_time": "2023-12-16T14:20:44.813162700Z"
    }
   }
  },
  {
   "cell_type": "code",
   "execution_count": 272,
   "outputs": [
    {
     "name": "stdout",
     "output_type": "stream",
     "text": [
      "Epoch: [1 / 5] Loss: 0.0812751857108118\n",
      "Epoch: [2 / 5] Loss: 0.05679225195561768\n",
      "Epoch: [3 / 5] Loss: 0.0478976767991805\n",
      "Epoch: [4 / 5] Loss: 0.04281623428557983\n",
      "Epoch: [5 / 5] Loss: 0.038764126323494956\n"
     ]
    }
   ],
   "source": [
    "losses += train(train_dataloader, encoder, decoder, 5, learning_rate=1e-4)"
   ],
   "metadata": {
    "collapsed": false,
    "ExecuteTime": {
     "end_time": "2023-12-16T15:40:39.823964400Z",
     "start_time": "2023-12-16T15:24:41.248446300Z"
    }
   }
  },
  {
   "cell_type": "code",
   "execution_count": 273,
   "outputs": [
    {
     "data": {
      "text/plain": "<Figure size 1000x500 with 1 Axes>",
      "image/png": "[encoded data removed]"
     },
     "metadata": {},
     "output_type": "display_data"
    }
   ],
   "source": [
    "pltLosses(losses, saveImg=True, lang = languages[input_lang])"
   ],
   "metadata": {
    "collapsed": false,
    "ExecuteTime": {
     "end_time": "2023-12-16T15:41:29.309367Z",
     "start_time": "2023-12-16T15:41:29.118736600Z"
    }
   }
  },
  {
   "cell_type": "code",
   "execution_count": 278,
   "outputs": [
    {
     "data": {
      "text/plain": "45.3729505384646"
     },
     "execution_count": 278,
     "metadata": {},
     "output_type": "execute_result"
    }
   ],
   "source": [
    "compute_metrics(encoder, decoder, input_lang)"
   ],
   "metadata": {
    "collapsed": false,
    "ExecuteTime": {
     "end_time": "2023-12-16T15:42:44.222766200Z",
     "start_time": "2023-12-16T15:42:15.707334200Z"
    }
   }
  },
  {
   "cell_type": "code",
   "execution_count": 275,
   "outputs": [
    {
     "name": "stdout",
     "output_type": "stream",
     "text": [
      "From: der marshmallow muss oben drauf sein\n",
      "To: the marshmallow has to be on top\n",
      "Prediction: the other got on to the top must be there must be some place\n",
      "\n",
      "From: und obwohl es wirklich einfach scheint ist es tatsächlich richtig schwer weil es leute drängt sehr schnell zusammenzuarbeiten\n",
      "To: and though it seems really simple it s actually pretty hard because it forces people to collaborate very quickly\n",
      "Prediction: and although it s really easy it s real really hard to work\n",
      "\n",
      "From: es war ein riesiger erfolg\n",
      "To: and it was a huge success\n",
      "Prediction: it was a huge success\n",
      "\n",
      "From: und das ist ziemlich erstaunlich\n",
      "To: and it s pretty amazing\n",
      "Prediction: amazing pretty amazing\n",
      "\n",
      "From: was sie vielleicht fragen werden ist wie kommt das warum was ist mit denen\n",
      "To: so the question you want to ask is how come why what is it about them\n",
      "Prediction: what you might ask is how come why is what is this why with what\n",
      "\n",
      "From: es gibt aber noch einen weiteren grund\n",
      "To: but there s another reason as well\n",
      "Prediction: there s another reason reason for that one reason\n",
      "\n",
      "From: und zwar dass bwl studenten trainiert wurden den einen richtigen plan zu finden ok\n",
      "To: and the reason is that business students are trained to find the single right plan right\n",
      "Prediction: and that s true is students at all the right in a certain way ok\n",
      "\n",
      "From: es ist eine krise\n",
      "To: it s a crisis\n",
      "Prediction: it s a crisis\n",
      "\n",
      "From: klingt vertraut was\n",
      "To: sound familiar right\n",
      "Prediction: sounds familiar what s interesting about that\n",
      "\n",
      "From: und mit jedem versuch bekommen die kinder unmittelbar feedback was funktioniert und was nicht\n",
      "To: and with each version kids get instant feedback about what works and what doesn t work\n",
      "Prediction: and with each children the kids are touching what works and what doesn t\n",
      "\n",
      "From: so ist die leistung mit prototypen zu arbeiten wesentlich aber sehen wir einmal wie verschieden teams agieren\n",
      "To: so the capacity to play in prototype is really essential but let s look at how different teams perform\n",
      "Prediction: so the performance with that connection is to prove let s see how different computers\n",
      "\n",
      "From: wer ist am erfolgreichsten\n",
      "To: who does the very best\n",
      "Prediction: who s in the college\n",
      "\n",
      "From: architekten und ingenieure zum glück\n",
      "To: architects and engineers thankfully\n",
      "Prediction: and engineers something like for happiness\n",
      "\n",
      "From: es ist unglaublich sie sehen sich um und erkennen dieses team wird gewinnen\n",
      "To: it s incredible you know you look around you go oh that team s going to win\n",
      "Prediction: it s incredible they see around and recognize around that this is going to win\n",
      "\n",
      "From: sie leiten den prozess sie verstehen ihn\n",
      "To: they manage the process they understand the process\n",
      "Prediction: you pick the process you get him and control it\n",
      "\n",
      "From: wenn sie 10 teams haben die typisch vorgehen bekommen sie ca 6 die stabile strukturen haben\n",
      "To: if you have 10 teams that typically perform you ll get maybe six or so that have standing structures\n",
      "Prediction: if you ve got 10 percent on the subject you ve got to come down your feet\n",
      "\n",
      "From: ich versuchte nun etwas spannendes\n",
      "To: and i tried something interesting\n",
      "Prediction: i tried to do something special happened\n",
      "\n",
      "From: was glauben sie passierte mit diesen design studenten\n",
      "To: so what do you think happened to these design students\n",
      "Prediction: so imagine what you find them with these design students\n",
      "\n",
      "From: was war das ergebnis\n",
      "To: what was the result\n",
      "Prediction: what was the result\n",
      "\n",
      "From: das hier passierte nicht ein team hatte eine stabile struktur\n",
      "To: here s what happened not one team had a standing structure\n",
      "Prediction: this one doesn t happened a team had a very high spade\n",
      "\n"
     ]
    }
   ],
   "source": [
    "evaluateFirstN(encoder, decoder, input_lang)"
   ],
   "metadata": {
    "collapsed": false,
    "ExecuteTime": {
     "end_time": "2023-12-16T15:42:09.222963400Z",
     "start_time": "2023-12-16T15:42:08.803840800Z"
    }
   }
  },
  {
   "cell_type": "code",
   "execution_count": 276,
   "outputs": [
    {
     "name": "stdout",
     "output_type": "stream",
     "text": [
      "From: sie können diese leute als mitarbeiter anwerben sie können deren arbeit koordinieren und sie bekommen ergebnisse\n",
      "To: you can hire those people as employees you can coordinate their work and you can get some output\n",
      "Prediction: you can hire those people as employees you can coordinate their work and you can get some output\n",
      "\n",
      "From: also alle 2 wochen bauen wir über 5 000 neue teile in das fahrzeug ein\n",
      "To: so every two weeks we will be making about 5 000 new components to fit to the car\n",
      "Prediction: so every two weeks we will be making about 5 000 new components to fit to the car\n",
      "\n",
      "From: man sammelt ein leben lang wissen im gedächtnis\n",
      "To: you accumulate knowledge throughout your life in memories\n",
      "Prediction: you accumulate knowledge throughout your life in memories memory\n",
      "\n",
      "From: aber wahrscheinlich wissen sie kaum etwas über james watt\n",
      "To: but you probably don t know that much about james watt\n",
      "Prediction: but you probably don t know that much about james watt above\n",
      "\n",
      "From: beginnen wir mit den schönen künsten\n",
      "To: let me start with the arts\n",
      "Prediction: let s talk about the arts well\n",
      "\n",
      "From: wenn sie das verstanden haben werden sie meiner ganzen reise folgen können okay\n",
      "To: if you ve got that you re with me for the entire journey okay\n",
      "Prediction: if you ve got that you re with me for the entire journey okay\n",
      "\n",
      "From: dreimal das bruttoinlandsprodukt der schweiz\n",
      "To: that s three times the gross domestic product of switzerland\n",
      "Prediction: SOS SOS SOS SOS SOS SOS SOS SOS SOS SOS SOS SOS SOS SOS SOS SOS SOS SOS SOS\n",
      "\n",
      "From: aber man kann dies natürlich nicht ohne ein bisschen marktforschung machen\n",
      "To: but naturally you can t do this kind of thing without a little bit of market research\n",
      "Prediction: but you can t do this kind of thing without a little bit of market research\n",
      "\n",
      "From: ich habe einen nachbarn der 200 weine kennt\n",
      "To: i have a neighbor who knows 200 types of wine\n",
      "Prediction: i have a neighbor who knows 200 types of wine form\n",
      "\n",
      "From: dieses besondere system funktioniert so dass man mit jedem beliebigen teil des satzes beginnen kann\n",
      "To: the way that this particular system works you can start with any part of this sentence\n",
      "Prediction: the way that this particular system works you can start with any part of this sentence\n",
      "\n"
     ]
    }
   ],
   "source": [
    "evaluateRandomly(encoder, decoder, input_lang, set='train')"
   ],
   "metadata": {
    "collapsed": false,
    "ExecuteTime": {
     "end_time": "2023-12-16T15:42:10.086299500Z",
     "start_time": "2023-12-16T15:42:09.973860800Z"
    }
   }
  },
  {
   "cell_type": "code",
   "execution_count": 277,
   "outputs": [
    {
     "name": "stdout",
     "output_type": "stream",
     "text": [
      "From: es ist keine wissenschaft der erklärungen\n",
      "To: it s not a science of explanations\n",
      "Prediction: it s not rocket science that s not science\n",
      "\n",
      "From: sie sollen mir etwas über meine marke erzählen\n",
      "To: they need to tell me about my brand\n",
      "Prediction: he should tell me something about my age\n",
      "\n",
      "From: hey warum nicht\n",
      "To: hey why not\n",
      "Prediction: does hey why not\n",
      "\n",
      "From: ich versuche nicht mehr recht zu haben ich entscheide mich dafür glücklich zu sein\n",
      "To: i no longer try to be right i choose to be happy\n",
      "Prediction: i don t try to have the right i m trying to make myself for sure\n",
      "\n",
      "From: sie haben ihre bilder mitgebracht ja\n",
      "To: you brought your pictures right\n",
      "Prediction: you ve got your pictures visiting yeah yeah yeah yeah yeah\n",
      "\n",
      "From: ja ich weiß und die leute hinten sagen okay ich habe das nicht richtig gesehen\n",
      "To: yeah i know and the people in the back go ok i didn t really see that\n",
      "Prediction: yeah i know and people say well i don t really have seen this right\n",
      "\n",
      "From: im jahr 2030 werden drei von fünf einwohnern in den städten jünger als 18 jahre sein\n",
      "To: by 2030 three out of five people living in cities will be under the age of 18\n",
      "Prediction: in three year old takes three things in the world cities than 18 years\n",
      "\n",
      "From: und diese dringlichkeit dieses ziel hat mein leben wirklich verändert\n",
      "To: and that urgency that purpose has really changed my life\n",
      "Prediction: and that explains has changed my life really\n",
      "\n",
      "From: oh mein gott oh mein gott\n",
      "To: oh my god oh my god\n",
      "Prediction: oh my god oh my god oh my god\n",
      "\n",
      "From: wer sind diese verwandten\n",
      "To: who are these cousins\n",
      "Prediction: who are these these places\n",
      "\n"
     ]
    }
   ],
   "source": [
    "evaluateRandomly(encoder, decoder, input_lang, set='test')"
   ],
   "metadata": {
    "collapsed": false,
    "ExecuteTime": {
     "end_time": "2023-12-16T15:42:12.422899200Z",
     "start_time": "2023-12-16T15:42:12.241429900Z"
    }
   }
  },
  {
   "cell_type": "markdown",
   "source": [
    "German using bidirectional Encoder"
   ],
   "metadata": {
    "collapsed": false
   }
  },
  {
   "cell_type": "code",
   "execution_count": 353,
   "outputs": [
    {
     "name": "stdout",
     "output_type": "stream",
     "text": [
      "STARTING TO TRAIN\n",
      "Epoch: [1 / 20] Loss: 2.233684025117929\n",
      "Epoch: [2 / 20] Loss: 1.5980163291718144\n",
      "Epoch: [3 / 20] Loss: 1.2938420947112896\n",
      "Epoch: [4 / 20] Loss: 1.0854374303709478\n",
      "Epoch: [5 / 20] Loss: 0.9249177899373915\n",
      "Epoch: [6 / 20] Loss: 0.7928750928598383\n",
      "Epoch: [7 / 20] Loss: 0.6804746016238551\n",
      "Epoch: [8 / 20] Loss: 0.5862291524319653\n",
      "Epoch: [9 / 20] Loss: 0.5036993180164261\n",
      "Epoch: [10 / 20] Loss: 0.4333555571893722\n",
      "Epoch: [11 / 20] Loss: 0.37604464978614927\n",
      "Epoch: [12 / 20] Loss: 0.3260829924183714\n",
      "Epoch: [13 / 20] Loss: 0.28600592697876487\n",
      "Epoch: [14 / 20] Loss: 0.25218758234914745\n",
      "Epoch: [15 / 20] Loss: 0.22711757900567933\n",
      "Epoch: [16 / 20] Loss: 0.20441339815430778\n",
      "Epoch: [17 / 20] Loss: 0.18727693669118187\n",
      "Epoch: [18 / 20] Loss: 0.17175860040794377\n",
      "Epoch: [19 / 20] Loss: 0.16048717351355854\n",
      "Epoch: [20 / 20] Loss: 0.15165062485205785\n"
     ]
    }
   ],
   "source": [
    "input_lang = languages.index('German')\n",
    "train_dataloader = get_dataloader(batch_size, input_lang)\n",
    "encoder = EncoderRNN(lang_classes[input_lang].n_words, hidden_size, bi_dir=True).to(device)\n",
    "decoder = AttnDecoderRNN(hidden_size, lang_classes[-1].n_words, bi_dir=True).to(device)\n",
    "print(f\"STARTING TO TRAIN\")\n",
    "losses = train(train_dataloader, encoder, decoder, 20, learning_rate=3e-4)"
   ],
   "metadata": {
    "collapsed": false,
    "ExecuteTime": {
     "end_time": "2023-12-17T05:05:31.235063700Z",
     "start_time": "2023-12-17T04:12:15.101943100Z"
    }
   }
  },
  {
   "cell_type": "code",
   "execution_count": 354,
   "outputs": [
    {
     "name": "stdout",
     "output_type": "stream",
     "text": [
      "Epoch: [1 / 5] Loss: 0.10487303403279537\n",
      "Epoch: [2 / 5] Loss: 0.07781626960129734\n",
      "Epoch: [3 / 5] Loss: 0.06641708941486309\n",
      "Epoch: [4 / 5] Loss: 0.059635674174395116\n",
      "Epoch: [5 / 5] Loss: 0.054754828211641675\n"
     ]
    }
   ],
   "source": [
    "losses += train(train_dataloader, encoder, decoder, 5, learning_rate=1e-4)"
   ],
   "metadata": {
    "collapsed": false,
    "ExecuteTime": {
     "end_time": "2023-12-17T05:19:04.094260200Z",
     "start_time": "2023-12-17T05:05:42.980135100Z"
    }
   }
  },
  {
   "cell_type": "code",
   "execution_count": 361,
   "outputs": [
    {
     "data": {
      "text/plain": "46.192116681515444"
     },
     "execution_count": 361,
     "metadata": {},
     "output_type": "execute_result"
    }
   ],
   "source": [
    "compute_metrics(encoder, decoder, input_lang)"
   ],
   "metadata": {
    "collapsed": false,
    "ExecuteTime": {
     "end_time": "2023-12-17T05:22:33.933553800Z",
     "start_time": "2023-12-17T05:22:09.343099700Z"
    }
   }
  },
  {
   "cell_type": "code",
   "execution_count": 357,
   "outputs": [
    {
     "name": "stdout",
     "output_type": "stream",
     "text": [
      "From: der marshmallow muss oben drauf sein\n",
      "To: the marshmallow has to be on top\n",
      "Prediction: the need has to be on top\n",
      "\n",
      "From: und obwohl es wirklich einfach scheint ist es tatsächlich richtig schwer weil es leute drängt sehr schnell zusammenzuarbeiten\n",
      "To: and though it seems really simple it s actually pretty hard because it forces people to collaborate very quickly\n",
      "Prediction: and although it really is easy really is really really because it s actually pretty a lot of time\n",
      "\n",
      "From: es war ein riesiger erfolg\n",
      "To: and it was a huge success\n",
      "Prediction: it was a huge achievement\n",
      "\n",
      "From: und das ist ziemlich erstaunlich\n",
      "To: and it s pretty amazing\n",
      "Prediction: and that s pretty amazing\n",
      "\n",
      "From: was sie vielleicht fragen werden ist wie kommt das warum was ist mit denen\n",
      "To: so the question you want to ask is how come why what is it about them\n",
      "Prediction: what you might be asking is why does what s do about\n",
      "\n",
      "From: es gibt aber noch einen weiteren grund\n",
      "To: but there s another reason as well\n",
      "Prediction: but there s another one reason about\n",
      "\n",
      "From: und zwar dass bwl studenten trainiert wurden den einen richtigen plan zu finden ok\n",
      "To: and the reason is that business students are trained to find the single right plan right\n",
      "Prediction: and that policy that the students can have been trying to find their right plan\n",
      "\n",
      "From: es ist eine krise\n",
      "To: it s a crisis\n",
      "Prediction: it s a crisis\n",
      "\n",
      "From: klingt vertraut was\n",
      "To: sound familiar right\n",
      "Prediction: sound sounds familiar\n",
      "\n",
      "From: und mit jedem versuch bekommen die kinder unmittelbar feedback was funktioniert und was nicht\n",
      "To: and with each version kids get instant feedback about what works and what doesn t work\n",
      "Prediction: and with every drop get kids to provide kids whatever which doesn t work\n",
      "\n",
      "From: so ist die leistung mit prototypen zu arbeiten wesentlich aber sehen wir einmal wie verschieden teams agieren\n",
      "To: so the capacity to play in prototype is really essential but let s look at how different teams perform\n",
      "Prediction: so now you know the start of work and see how once did human down\n",
      "\n",
      "From: wer ist am erfolgreichsten\n",
      "To: who does the very best\n",
      "Prediction: who is at the most important\n",
      "\n",
      "From: architekten und ingenieure zum glück\n",
      "To: architects and engineers thankfully\n",
      "Prediction: ca architects and engineers on the luck\n",
      "\n",
      "From: es ist unglaublich sie sehen sich um und erkennen dieses team wird gewinnen\n",
      "To: it s incredible you know you look around you go oh that team s going to win\n",
      "Prediction: it s incredible you see here and recognize this team is going to win\n",
      "\n",
      "From: sie leiten den prozess sie verstehen ihn\n",
      "To: they manage the process they understand the process\n",
      "Prediction: you leave the process you understand him\n",
      "\n",
      "From: wenn sie 10 teams haben die typisch vorgehen bekommen sie ca 6 die stabile strukturen haben\n",
      "To: if you have 10 teams that typically perform you ll get maybe six or so that have standing structures\n",
      "Prediction: if you have 10 teams to be the six year you get six things\n",
      "\n",
      "From: ich versuchte nun etwas spannendes\n",
      "To: and i tried something interesting\n",
      "Prediction: i tried to do something now\n",
      "\n",
      "From: was glauben sie passierte mit diesen design studenten\n",
      "To: so what do you think happened to these design students\n",
      "Prediction: what do you think this is what happened is\n",
      "\n",
      "From: was war das ergebnis\n",
      "To: what was the result\n",
      "Prediction: what was the outcome\n",
      "\n",
      "From: das hier passierte nicht ein team hatte eine stabile struktur\n",
      "To: here s what happened not one team had a standing structure\n",
      "Prediction: this this wasn t a big adventure still with a performance structure\n",
      "\n"
     ]
    }
   ],
   "source": [
    "evaluateFirstN(encoder, decoder, input_lang)"
   ],
   "metadata": {
    "collapsed": false,
    "ExecuteTime": {
     "end_time": "2023-12-17T05:20:10.768989400Z",
     "start_time": "2023-12-17T05:20:10.569929900Z"
    }
   }
  },
  {
   "cell_type": "code",
   "execution_count": 358,
   "outputs": [
    {
     "name": "stdout",
     "output_type": "stream",
     "text": [
      "From: meine familie war nicht arm und ich selbst musste nie hunger leiden\n",
      "To: my family was not poor and myself i had never experienced hunger\n",
      "Prediction: my family was not poor my daughter and i never had never been able to never knew poverty\n",
      "\n",
      "From: ich meine was werde ich heute finden\n",
      "To: i mean what am i going to find today\n",
      "Prediction: and i mean what am i going to find today\n",
      "\n",
      "From: heute spreche ich zu ihnen über energie und klima\n",
      "To: i m going to talk today about energy and climate\n",
      "Prediction: today i want to talk to you about energy and today\n",
      "\n",
      "From: weiß überhaupt noch jemand was das ist\n",
      "To: does anyone even know what those things are\n",
      "Prediction: can anyone even know what it is\n",
      "\n",
      "From: meine freundin musste mich begleiten\n",
      "To: my friend got to come with me\n",
      "Prediction: my friend had to me my way into me\n",
      "\n",
      "From: es ist als wenn man einen stein in einen teich wirft\n",
      "To: it s like throwing a stone in a pond of water\n",
      "Prediction: it s like when you re a looking in a pond\n",
      "\n",
      "From: all das ist mit einem handy möglich\n",
      "To: all this is possible with your mobile phone\n",
      "Prediction: so it is all that is possible with a cell phone\n",
      "\n",
      "From: und das war es was ich fühlte\n",
      "To: and it was what i was feeling\n",
      "Prediction: and that s what i felt\n",
      "\n",
      "From: die frage ist warum die menschen das akzeptieren\n",
      "To: and the question is why do people accept this\n",
      "Prediction: so the question is why is the people doing some\n",
      "\n",
      "From: geht das\n",
      "To: is that something\n",
      "Prediction: does that\n",
      "\n"
     ]
    }
   ],
   "source": [
    "evaluateRandomly(encoder, decoder, input_lang, set='test')"
   ],
   "metadata": {
    "collapsed": false,
    "ExecuteTime": {
     "end_time": "2023-12-17T05:20:10.863142600Z",
     "start_time": "2023-12-17T05:20:10.767989500Z"
    }
   }
  },
  {
   "cell_type": "code",
   "execution_count": 359,
   "outputs": [
    {
     "name": "stdout",
     "output_type": "stream",
     "text": [
      "From: frau sie bestanden darauf ich würde lügen\n",
      "To: woman they insisted that i was lying\n",
      "Prediction: woman you know that i insisted to\n",
      "\n",
      "From: ich danke ihnen allen vielmals\n",
      "To: thank you all very much\n",
      "Prediction: thank you so much\n",
      "\n",
      "From: ja diese länder existieren\n",
      "To: those things really exist\n",
      "Prediction: yeah these countries exist\n",
      "\n",
      "From: ich sagte was ist die geschichte\n",
      "To: i said what s the story\n",
      "Prediction: i said what s the story\n",
      "\n",
      "From: ihr wisst schon all der kram\n",
      "To: you know all the stuff\n",
      "Prediction: you know all the stuff\n",
      "\n",
      "From: wenn wir die 10 cent schaffen geht alles andere von alleine\n",
      "To: if we can get the 10 cents all the rest of it flows\n",
      "Prediction: if we can get the 10 cents all the rest of them are running away from all walks\n",
      "\n",
      "From: danke danke wissen sie was\n",
      "To: thank you thank you you know what\n",
      "Prediction: thank you thank you thank you\n",
      "\n",
      "From: oder sollen wir etwas anderes verwenden\n",
      "To: or should we use something else\n",
      "Prediction: or should we use something else\n",
      "\n",
      "From: und das war schon immer in der geschichte\n",
      "To: and this has always been the case throughout history\n",
      "Prediction: and this is always been the case throughout history\n",
      "\n",
      "From: ein kleiner mond also\n",
      "To: so tiny moon\n",
      "Prediction: so tiny moon\n",
      "\n"
     ]
    }
   ],
   "source": [
    "evaluateRandomly(encoder, decoder, input_lang, set='train')"
   ],
   "metadata": {
    "collapsed": false,
    "ExecuteTime": {
     "end_time": "2023-12-17T05:20:10.963837100Z",
     "start_time": "2023-12-17T05:20:10.864142500Z"
    }
   }
  },
  {
   "cell_type": "markdown",
   "source": [
    "Italian"
   ],
   "metadata": {
    "collapsed": false
   }
  },
  {
   "cell_type": "code",
   "execution_count": 224,
   "outputs": [
    {
     "name": "stdout",
     "output_type": "stream",
     "text": [
      "STARTING TO TRAIN\n",
      "Epoch: [1 / 20] Loss: 2.2541820804066917\n",
      "Epoch: [2 / 20] Loss: 1.5360412606312965\n",
      "Epoch: [3 / 20] Loss: 1.2170064522153385\n",
      "Epoch: [4 / 20] Loss: 1.0051499008921245\n",
      "Epoch: [5 / 20] Loss: 0.8437907690914058\n",
      "Epoch: [6 / 20] Loss: 0.7151845351120195\n",
      "Epoch: [7 / 20] Loss: 0.6120232511635076\n",
      "Epoch: [8 / 20] Loss: 0.5275929822931887\n",
      "Epoch: [9 / 20] Loss: 0.4586399873329991\n",
      "Epoch: [10 / 20] Loss: 0.40280158058194204\n",
      "Epoch: [11 / 20] Loss: 0.35595321053526224\n",
      "Epoch: [12 / 20] Loss: 0.31817572848133024\n",
      "Epoch: [13 / 20] Loss: 0.2878317062499208\n",
      "Epoch: [14 / 20] Loss: 0.26137414954673976\n",
      "Epoch: [15 / 20] Loss: 0.24107542473016544\n",
      "Epoch: [16 / 20] Loss: 0.22370975215965833\n",
      "Epoch: [17 / 20] Loss: 0.20941218454555716\n",
      "Epoch: [18 / 20] Loss: 0.19926933394735094\n",
      "Epoch: [19 / 20] Loss: 0.18984886139018967\n",
      "Epoch: [20 / 20] Loss: 0.1813780958353523\n"
     ]
    }
   ],
   "source": [
    "input_lang = languages.index('Italian')\n",
    "train_dataloader = get_dataloader(batch_size, input_lang)\n",
    "encoder = EncoderRNN(lang_classes[input_lang].n_words, hidden_size).to(device)\n",
    "decoder = AttnDecoderRNN(hidden_size, lang_classes[-1].n_words).to(device)\n",
    "print(f\"STARTING TO TRAIN\")\n",
    "losses = train(train_dataloader, encoder, decoder, 20, learning_rate=3e-4)"
   ],
   "metadata": {
    "collapsed": false,
    "ExecuteTime": {
     "end_time": "2023-12-16T09:55:05.878687900Z",
     "start_time": "2023-12-16T08:33:17.646697200Z"
    }
   }
  },
  {
   "cell_type": "code",
   "execution_count": 230,
   "outputs": [
    {
     "name": "stdout",
     "output_type": "stream",
     "text": [
      "Epoch: [1 / 5] Loss: 0.1260293799851999\n",
      "Epoch: [2 / 5] Loss: 0.0948663096026436\n",
      "Epoch: [3 / 5] Loss: 0.08194736084757948\n",
      "Epoch: [4 / 5] Loss: 0.07346456992633581\n",
      "Epoch: [5 / 5] Loss: 0.06728980324243955\n"
     ]
    }
   ],
   "source": [
    "losses += train(train_dataloader, encoder, decoder, 5, learning_rate=1e-4)"
   ],
   "metadata": {
    "collapsed": false,
    "ExecuteTime": {
     "end_time": "2023-12-16T10:19:05.418680200Z",
     "start_time": "2023-12-16T09:57:39.671254300Z"
    }
   }
  },
  {
   "cell_type": "code",
   "execution_count": 233,
   "outputs": [
    {
     "data": {
      "text/plain": "44.76856373194839"
     },
     "execution_count": 233,
     "metadata": {},
     "output_type": "execute_result"
    }
   ],
   "source": [
    "compute_metrics(encoder, decoder, input_lang)"
   ],
   "metadata": {
    "collapsed": false,
    "ExecuteTime": {
     "end_time": "2023-12-16T10:25:54.515879100Z",
     "start_time": "2023-12-16T10:25:47.433673900Z"
    }
   }
  },
  {
   "cell_type": "code",
   "execution_count": 234,
   "outputs": [
    {
     "data": {
      "text/plain": "<Figure size 1000x500 with 1 Axes>",
      "image/png": "[encoded data removed]"
     },
     "metadata": {},
     "output_type": "display_data"
    }
   ],
   "source": [
    "pltLosses(losses, saveImg=True, lang = languages[input_lang])"
   ],
   "metadata": {
    "collapsed": false,
    "ExecuteTime": {
     "end_time": "2023-12-16T10:26:03.178862200Z",
     "start_time": "2023-12-16T10:26:02.989067200Z"
    }
   }
  },
  {
   "cell_type": "code",
   "execution_count": 235,
   "outputs": [
    {
     "name": "stdout",
     "output_type": "stream",
     "text": [
      "From: e l idea è molto semplice\n",
      "To: and the idea s pretty simple\n",
      "Prediction: it s pretty simple\n",
      "\n",
      "From: il marshmallow deve essere piazzato in cima alla torre\n",
      "To: the marshmallow has to be on top\n",
      "Prediction: the operating needs must be in the room to the next\n",
      "\n",
      "From: e anche se sembra molto semplice di fatto è piuttosto difficile perché costringe le persone a collaborare molto rapidamente\n",
      "To: and though it seems really simple it s actually pretty hard because it forces people to collaborate very quickly\n",
      "Prediction: and even though that sounds very simple in fact it s pretty hard because to people a lot of\n",
      "\n",
      "From: ed è stato un enorme successo\n",
      "To: and it was a huge success\n",
      "Prediction: success\n",
      "\n",
      "From: ed è incredibile\n",
      "To: and it s pretty amazing\n",
      "Prediction: incredible incredible\n",
      "\n",
      "From: e la vostra domanda sarà come è possibile perché che cos hanno di particolare\n",
      "To: so the question you want to ask is how come why what is it about them\n",
      "Prediction: and your question will be how is it possible because what do we know how long they have\n",
      "\n",
      "From: ma c è anche un altro motivo\n",
      "To: but there s another reason as well\n",
      "Prediction: as you have another reason too well\n",
      "\n",
      "From: e il motivo è che gli studenti di economia sono formati per trovare il singolo miglior progetto\n",
      "To: and the reason is that business students are trained to find the single right plan right\n",
      "Prediction: and the reason for students are trained to go to the best chemical project\n",
      "\n",
      "From: la crisi\n",
      "To: it s a crisis\n",
      "Prediction: crisis\n",
      "\n",
      "From: vi suona familiare giusto\n",
      "To: sound familiar right\n",
      "Prediction: it sounds familiar to you\n",
      "\n",
      "From: e con ogni versione i bambini hanno un feedback istantaneo su cosa funziona e cosa non funziona\n",
      "To: and with each version kids get instant feedback about what works and what doesn t work\n",
      "Prediction: and with the version of the child a personal memory on what it works and what doesn t work\n",
      "\n",
      "From: quindi la capacità di lavorare su prototipi è essenziale ma vediamo come lavorano diversi gruppi\n",
      "To: so the capacity to play in prototype is really essential but let s look at how different teams perform\n",
      "Prediction: so the ability to work in is it s essential but we ll see the different world groups\n",
      "\n",
      "From: chi fa meglio di tutti\n",
      "To: who does the very best\n",
      "Prediction: who makes a better job whether everybody else do they\n",
      "\n",
      "From: architetti e ingegneri grazie al cielo\n",
      "To: architects and engineers thankfully\n",
      "Prediction: so now and engineers thank you the sky\n",
      "\n",
      "From: poi abbiamo i direttori generali un pò meglio della media\n",
      "To: so ceos a little bit better than average\n",
      "Prediction: then we have the limit sales from a better place than average on average\n",
      "\n",
      "From: ma ecco dove diventa interessante\n",
      "To: but here s where it gets interesting\n",
      "Prediction: now where this is interesting\n",
      "\n",
      "From: gestiscono il processo lo capiscono\n",
      "To: they manage the process they understand the process\n",
      "Prediction: then will understand the process basically what this process\n",
      "\n",
      "From: e ho tentato un esperimento interessante\n",
      "To: and i tried something interesting\n",
      "Prediction: interesting experiment\n",
      "\n",
      "From: ho messo sul piatto 10 000 dollari di premio in software al team vincente\n",
      "To: so i offered a 10 000 dollar prize of software to the winning team\n",
      "Prediction: i ve put on the 10 000 dollars 10 of dollars in software finished an economy\n",
      "\n",
      "From: cosa pensate che sia successo agli studenti di design\n",
      "To: so what do you think happened to these design students\n",
      "Prediction: what do you think they re actually going to get to the students of design students\n",
      "\n"
     ]
    }
   ],
   "source": [
    "evaluateFirstN(encoder, decoder, input_lang)"
   ],
   "metadata": {
    "collapsed": false,
    "ExecuteTime": {
     "end_time": "2023-12-16T10:26:24.789742500Z",
     "start_time": "2023-12-16T10:26:24.366001400Z"
    }
   }
  },
  {
   "cell_type": "code",
   "execution_count": 236,
   "outputs": [
    {
     "name": "stdout",
     "output_type": "stream",
     "text": [
      "From: e voglio solo dire che le cose non andranno assolutamente così\n",
      "To: and i just want to say that that is absolutely not going to be the case\n",
      "Prediction: is this just to say that the absolutely not absolutely the case that absolutely not the case\n",
      "\n",
      "From: ogni volta che ci si va devi dire di nuovo chi sei\n",
      "To: each time you go into there you have to tell it again who you are\n",
      "Prediction: you have to go there you have to tell it again who you are\n",
      "\n",
      "From: la risposta è 26 per cento\n",
      "To: answer is 26 percent\n",
      "Prediction: yes is 26 percent\n",
      "\n",
      "From: avevo invece tredici mesi quando hanno rimosso l occhio sinistro\n",
      "To: i was 13 months when they removed my left eye\n",
      "Prediction: i was 13 months when they removed my left eye\n",
      "\n",
      "From: ma ha vinto l ipod questo era quello che volevano\n",
      "To: but the ipod won this is the one they wanted\n",
      "Prediction: ipod won t that this was that they wanted\n",
      "\n",
      "From: non va bene non va proprio bene\n",
      "To: so it s not good it s not really good\n",
      "Prediction: it s not okay it s not really good\n",
      "\n",
      "From: ora mi sembrava di avere tra le mani un nuovo enorme giocattolo\n",
      "To: it was like having an enormous new toy\n",
      "Prediction: it seemed like having an enormous new toy\n",
      "\n",
      "From: potete zoomare tornare indietro tutte le risorse sono lì a tua disposizione\n",
      "To: the whole resources are there available for you\n",
      "Prediction: could you work back you can pull back out\n",
      "\n",
      "From: vivono la loro vita ben sapendo di farlo contro la legge\n",
      "To: they live life knowing they live it against the law\n",
      "Prediction: they live life knowing they live it against the law\n",
      "\n",
      "From: anche se sinceramente noi non crediamo che internet sia l applicazione killer\n",
      "To: although frankly speaking we don t believe the internet is the killer app\n",
      "Prediction: although frankly speaking we don t know the internet was the killer app\n",
      "\n"
     ]
    }
   ],
   "source": [
    "evaluateRandomly(encoder, decoder, input_lang, set='train')"
   ],
   "metadata": {
    "collapsed": false,
    "ExecuteTime": {
     "end_time": "2023-12-16T10:26:28.633707300Z",
     "start_time": "2023-12-16T10:26:28.356166Z"
    }
   }
  },
  {
   "cell_type": "code",
   "execution_count": 237,
   "outputs": [
    {
     "name": "stdout",
     "output_type": "stream",
     "text": [
      "From: e quindi sono stato affetto dal morbo dell esplorazione delle profondità dell oceano\n",
      "To: and so i really got bitten by the bug of deep ocean exploration\n",
      "Prediction: and so i was up by the five of the science of the ocean s ocean\n",
      "\n",
      "From: per darvi un idea della correlazione la correlazione è circa 0 5\n",
      "To: just to give you a sense of the correlation the correlation is about 5\n",
      "Prediction: to give you an idea of the correlation s top about five percent\n",
      "\n",
      "From: ed è una cosa positiva che questo numero aumenti\n",
      "To: and it s a great thing for this number to go up\n",
      "Prediction: now this is good and that this number of the number coming up\n",
      "\n",
      "From: ho letto uno studio un anno fa che mi ha spalancato la mente\n",
      "To: i read a study a year or so ago that really blew my mind wide open\n",
      "Prediction: i ve read a study a year ago that was the mind\n",
      "\n",
      "From: gli ho chiesto come era diventato un tale esperto di pesci\n",
      "To: i asked him how he became such an expert on fish\n",
      "Prediction: so i was like how did he a surgeon in fish\n",
      "\n",
      "From: bg beh la spesa effettiva in ricerca e sviluppo\n",
      "To: bg well the actual spending on the r amp d piece\n",
      "Prediction: bg well the conventional wisdom in search and development\n",
      "\n",
      "From: quindi io dico diamo inizio ai giochi che cambieranno il mondo\n",
      "To: let the world changing games begin\n",
      "Prediction: so i say to let pass tell the world that we can hear the world\n",
      "\n",
      "From: quali sono le lezioni che abbiamo imparato\n",
      "To: you know what are the lessons learned\n",
      "Prediction: what are the lessons of what we just learned\n",
      "\n",
      "From: è un volume enorme\n",
      "To: this is a lot of volume\n",
      "Prediction: expensive is an enormous volume that s enormous\n",
      "\n",
      "From: negli stati uniti si stanno facendo degli sforzi per misurare l esperienza di felicità della popolazione\n",
      "To: in the united states efforts are being made to measure the experience happiness of the population\n",
      "Prediction: in the united states you re doing some measure for happiness the happiness of happiness population\n",
      "\n"
     ]
    }
   ],
   "source": [
    "evaluateRandomly(encoder, decoder, input_lang, set='test')"
   ],
   "metadata": {
    "collapsed": false,
    "ExecuteTime": {
     "end_time": "2023-12-16T10:26:29.505450900Z",
     "start_time": "2023-12-16T10:26:29.394101700Z"
    }
   }
  },
  {
   "cell_type": "markdown",
   "source": [
    "Italian using Bidrectional Encoder"
   ],
   "metadata": {
    "collapsed": false
   }
  },
  {
   "cell_type": "code",
   "execution_count": 342,
   "outputs": [
    {
     "name": "stdout",
     "output_type": "stream",
     "text": [
      "STARTING TO TRAIN\n",
      "Epoch: [1 / 20] Loss: 2.2653219581199293\n",
      "Epoch: [2 / 20] Loss: 1.5748336108449583\n",
      "Epoch: [3 / 20] Loss: 1.274245259802349\n",
      "Epoch: [4 / 20] Loss: 1.0771110809698115\n",
      "Epoch: [5 / 20] Loss: 0.9266295148850838\n",
      "Epoch: [6 / 20] Loss: 0.8045598455261685\n",
      "Epoch: [7 / 20] Loss: 0.7014616020828791\n",
      "Epoch: [8 / 20] Loss: 0.6156338131938722\n",
      "Epoch: [9 / 20] Loss: 0.5423389256021632\n",
      "Epoch: [10 / 20] Loss: 0.4804545571375011\n",
      "Epoch: [11 / 20] Loss: 0.42809174013737455\n",
      "Epoch: [12 / 20] Loss: 0.3845151897349596\n",
      "Epoch: [13 / 20] Loss: 0.3471559699053381\n",
      "Epoch: [14 / 20] Loss: 0.3165383606494592\n",
      "Epoch: [15 / 20] Loss: 0.29079279896852356\n",
      "Epoch: [16 / 20] Loss: 0.268038673082903\n",
      "Epoch: [17 / 20] Loss: 0.24912636097635396\n",
      "Epoch: [18 / 20] Loss: 0.23566341197188762\n",
      "Epoch: [19 / 20] Loss: 0.2221562155237698\n",
      "Epoch: [20 / 20] Loss: 0.21152525198531413\n"
     ]
    }
   ],
   "source": [
    "input_lang = languages.index('Italian')\n",
    "train_dataloader = get_dataloader(batch_size, input_lang)\n",
    "encoder = EncoderRNN(lang_classes[input_lang].n_words, hidden_size, bi_dir=True).to(device)\n",
    "decoder = AttnDecoderRNN(hidden_size, lang_classes[-1].n_words, bi_dir=True).to(device)\n",
    "print(f\"STARTING TO TRAIN\")\n",
    "losses = train(train_dataloader, encoder, decoder, 20, print_every=1, plot_every=1, learning_rate=3e-4)"
   ],
   "metadata": {
    "collapsed": false,
    "ExecuteTime": {
     "end_time": "2023-12-17T03:53:26.331342900Z",
     "start_time": "2023-12-17T02:44:54.668430300Z"
    }
   }
  },
  {
   "cell_type": "code",
   "execution_count": 343,
   "outputs": [
    {
     "name": "stdout",
     "output_type": "stream",
     "text": [
      "Epoch: [1 / 5] Loss: 0.151291665575245\n",
      "Epoch: [2 / 5] Loss: 0.1197044208759308\n",
      "Epoch: [3 / 5] Loss: 0.10522351069016275\n",
      "Epoch: [4 / 5] Loss: 0.09550411291512834\n",
      "Epoch: [5 / 5] Loss: 0.08861365136956012\n"
     ]
    }
   ],
   "source": [
    "losses += train(train_dataloader, encoder, decoder, 5, print_every=1, plot_every=1, learning_rate=1e-4)"
   ],
   "metadata": {
    "collapsed": false,
    "ExecuteTime": {
     "end_time": "2023-12-17T04:10:53.332172800Z",
     "start_time": "2023-12-17T03:53:33.862414400Z"
    }
   }
  },
  {
   "cell_type": "code",
   "execution_count": 349,
   "outputs": [
    {
     "data": {
      "text/plain": "45.53338043504614"
     },
     "execution_count": 349,
     "metadata": {},
     "output_type": "execute_result"
    }
   ],
   "source": [
    "compute_metrics(encoder, decoder, input_lang)"
   ],
   "metadata": {
    "collapsed": false,
    "ExecuteTime": {
     "end_time": "2023-12-17T04:11:38.623635400Z",
     "start_time": "2023-12-17T04:11:32.505609700Z"
    }
   }
  },
  {
   "cell_type": "code",
   "execution_count": 350,
   "outputs": [
    {
     "name": "stdout",
     "output_type": "stream",
     "text": [
      "From: e l idea è molto semplice\n",
      "To: and the idea s pretty simple\n",
      "Prediction: and the idea is very simple\n",
      "\n",
      "From: il marshmallow deve essere piazzato in cima alla torre\n",
      "To: the marshmallow has to be on top\n",
      "Prediction: the marshmallow has to be reached to the top\n",
      "\n",
      "From: e anche se sembra molto semplice di fatto è piuttosto difficile perché costringe le persone a collaborare molto rapidamente\n",
      "To: and though it seems really simple it s actually pretty hard because it forces people to collaborate very quickly\n",
      "Prediction: and even though it s very simple it s quite hard because people mean far in very large cars\n",
      "\n",
      "From: ed è stato un enorme successo\n",
      "To: and it was a huge success\n",
      "Prediction: and it has been huge success\n",
      "\n",
      "From: ed è incredibile\n",
      "To: and it s pretty amazing\n",
      "Prediction: and it s amazing\n",
      "\n",
      "From: e la vostra domanda sarà come è possibile perché che cos hanno di particolare\n",
      "To: so the question you want to ask is how come why what is it about them\n",
      "Prediction: and your questions is what is it possible what is they made because what have they particular\n",
      "\n",
      "From: ma c è anche un altro motivo\n",
      "To: but there s another reason as well\n",
      "Prediction: but there s another reason as well\n",
      "\n",
      "From: e il motivo è che gli studenti di economia sono formati per trovare il singolo miglior progetto\n",
      "To: and the reason is that business students are trained to find the single right plan right\n",
      "Prediction: and the reason for the fact this is students are attracted to find the single best project in project\n",
      "\n",
      "From: la crisi\n",
      "To: it s a crisis\n",
      "Prediction: crisis\n",
      "\n",
      "From: vi suona familiare giusto\n",
      "To: sound familiar right\n",
      "Prediction: sound familiar right\n",
      "\n",
      "From: e con ogni versione i bambini hanno un feedback istantaneo su cosa funziona e cosa non funziona\n",
      "To: and with each version kids get instant feedback about what works and what doesn t work\n",
      "Prediction: and with any children there have an excellent feedback that thing works and what s not working\n",
      "\n",
      "From: quindi la capacità di lavorare su prototipi è essenziale ma vediamo come lavorano diversi gruppi\n",
      "To: so the capacity to play in prototype is really essential but let s look at how different teams perform\n",
      "Prediction: so the ability to work on earth is essential but we see the very different cell\n",
      "\n",
      "From: chi fa meglio di tutti\n",
      "To: who does the very best\n",
      "Prediction: who makes better\n",
      "\n",
      "From: architetti e ingegneri grazie al cielo\n",
      "To: architects and engineers thankfully\n",
      "Prediction: governments and architects thank you\n",
      "\n",
      "From: poi abbiamo i direttori generali un pò meglio della media\n",
      "To: so ceos a little bit better than average\n",
      "Prediction: and then we ve had a few direct we do have a little bit better for the media\n",
      "\n",
      "From: ma ecco dove diventa interessante\n",
      "To: but here s where it gets interesting\n",
      "Prediction: here s where it becomes interesting\n",
      "\n",
      "From: gestiscono il processo lo capiscono\n",
      "To: they manage the process they understand the process\n",
      "Prediction: let s call the process\n",
      "\n",
      "From: e ho tentato un esperimento interessante\n",
      "To: and i tried something interesting\n",
      "Prediction: and i ve had a wonderful thought\n",
      "\n",
      "From: ho messo sul piatto 10 000 dollari di premio in software al team vincente\n",
      "To: so i offered a 10 000 dollar prize of software to the winning team\n",
      "Prediction: i ve put on the plate 10 000 dollars for the public team\n",
      "\n",
      "From: cosa pensate che sia successo agli studenti di design\n",
      "To: so what do you think happened to these design students\n",
      "Prediction: well what do you think that is success to the design of design\n",
      "\n"
     ]
    }
   ],
   "source": [
    "evaluateFirstN(encoder, decoder, input_lang)"
   ],
   "metadata": {
    "collapsed": false,
    "ExecuteTime": {
     "end_time": "2023-12-17T04:11:56.730629500Z",
     "start_time": "2023-12-17T04:11:56.031617Z"
    }
   }
  },
  {
   "cell_type": "code",
   "execution_count": 351,
   "outputs": [
    {
     "name": "stdout",
     "output_type": "stream",
     "text": [
      "From: e se è così hai un gran lavoro\n",
      "To: and if you would you ve got a great job\n",
      "Prediction: and what if you have a big job\n",
      "\n",
      "From: e dopo\n",
      "To: in the second three years\n",
      "Prediction: in a dozen and after\n",
      "\n",
      "From: e in particolare quelli del settore commerciale per la precisione innovazione creatività e cambiamento\n",
      "To: this is mostly to be honest with you from the business sector innovation creativity and change\n",
      "Prediction: this is mostly to do the commercial business for the very social innovation for creativity innovation\n",
      "\n",
      "From: grazie\n",
      "To: thank you\n",
      "Prediction: thank you\n",
      "\n",
      "From: prima iniziando ho detto che stiamo perdendo la capacità di ascoltare\n",
      "To: i said at the beginning we re losing our listening\n",
      "Prediction: i said at first christmas i said is that listening to listen\n",
      "\n",
      "From: per anni ho detto alle persone che lo stress fa stare male\n",
      "To: for years i ve been telling people stress makes you sick\n",
      "Prediction: for years i ve been telling people stress in your life\n",
      "\n",
      "From: funziona ogni volta\n",
      "To: you get it every time\n",
      "Prediction: it works every time\n",
      "\n",
      "From: separiamo la performance come una cosa dalla registrazione che è il modo in cui è stata realizzata\n",
      "To: let s separate the performance as a thing out from the recording which was how it was made\n",
      "Prediction: let s separate the performance as a thing out from the recording which was the way it was made\n",
      "\n",
      "From: e vanno avanti e indietro per un po\n",
      "To: and they go back and forth for a while\n",
      "Prediction: and they go back and forth for a while\n",
      "\n",
      "From: quella è una maglietta amo il mio papà\n",
      "To: that s an i love dad t shirt\n",
      "Prediction: that s one i love dad\n",
      "\n"
     ]
    }
   ],
   "source": [
    "evaluateRandomly(encoder, decoder, input_lang, set='train')"
   ],
   "metadata": {
    "collapsed": false,
    "ExecuteTime": {
     "end_time": "2023-12-17T04:11:57.404892400Z",
     "start_time": "2023-12-17T04:11:57.304935Z"
    }
   }
  },
  {
   "cell_type": "code",
   "execution_count": 352,
   "outputs": [
    {
     "name": "stdout",
     "output_type": "stream",
     "text": [
      "From: e se possiamo farlo con dati grezzi perché non farlo anche con i contenuti\n",
      "To: and if we can do this for raw data why not do it for content as well\n",
      "Prediction: and what if we can do this data but we re not taking it\n",
      "\n",
      "From: e il motivo è che gli studenti di economia sono formati per trovare il singolo miglior progetto\n",
      "To: and the reason is that business students are trained to find the single right plan right\n",
      "Prediction: and the reason for that matter students are used to to find the single best friend\n",
      "\n",
      "From: sono ottimista francesi e giapponesi hanno fatto del lavoro in questo campo\n",
      "To: so i m optimistic you know the french and japanese have done some work\n",
      "Prediction: they re just babies and they ve done for me working in this field\n",
      "\n",
      "From: alcuni di voi potrebbero pensare é un bel po di tempo passato a giocare\n",
      "To: some of you might be thinking that s a lot of time to spend playing games\n",
      "Prediction: some of you might think through half a few days time some time to play\n",
      "\n",
      "From: ci sono ci sono sempre\n",
      "To: there are there always are\n",
      "Prediction: they re always there\n",
      "\n",
      "From: ci sono un sacco di argomenti contrari\n",
      "To: a lot of arguments against it\n",
      "Prediction: there s a lot of labor of developing actors\n",
      "\n",
      "From: perché perché paul ha creato un vaccino\n",
      "To: and why because paul made a vaccine\n",
      "Prediction: why why did she read a vaccine\n",
      "\n",
      "From: a malapena andiamo in pari non c è fama\n",
      "To: we barely break even there is no fame in it\n",
      "Prediction: we re starting to let s put in there there s no wrong\n",
      "\n",
      "From: ora che cosa ha a che fare questo con l effetto placebo\n",
      "To: now what does that have to do with the placebo effect\n",
      "Prediction: now what does this do with it like this placebo\n",
      "\n",
      "From: ecco cos è successo\n",
      "To: here s what happened\n",
      "Prediction: this is what happened\n",
      "\n"
     ]
    }
   ],
   "source": [
    "evaluateRandomly(encoder, decoder, input_lang, set='test')"
   ],
   "metadata": {
    "collapsed": false,
    "ExecuteTime": {
     "end_time": "2023-12-17T04:11:58.602449Z",
     "start_time": "2023-12-17T04:11:58.500529900Z"
    }
   }
  },
  {
   "cell_type": "markdown",
   "source": [
    "Romanian"
   ],
   "metadata": {
    "collapsed": false
   }
  },
  {
   "cell_type": "code",
   "execution_count": 238,
   "outputs": [
    {
     "name": "stdout",
     "output_type": "stream",
     "text": [
      "STARTING TO TRAIN\n",
      "Epoch: [1 / 20] Loss: 2.276208705679207\n",
      "Epoch: [2 / 20] Loss: 1.605171151152621\n",
      "Epoch: [3 / 20] Loss: 1.2709339798282635\n",
      "Epoch: [4 / 20] Loss: 1.0352388335807867\n",
      "Epoch: [5 / 20] Loss: 0.8544488218465996\n",
      "Epoch: [6 / 20] Loss: 0.7113533856341994\n",
      "Epoch: [7 / 20] Loss: 0.5982006148271831\n",
      "Epoch: [8 / 20] Loss: 0.5067209955148586\n",
      "Epoch: [9 / 20] Loss: 0.43235783152731716\n",
      "Epoch: [10 / 20] Loss: 0.3734432094415283\n",
      "Epoch: [11 / 20] Loss: 0.32554643917002773\n",
      "Epoch: [12 / 20] Loss: 0.28691435390075015\n",
      "Epoch: [13 / 20] Loss: 0.2556061361534234\n",
      "Epoch: [14 / 20] Loss: 0.22954858690083527\n",
      "Epoch: [15 / 20] Loss: 0.210259598672771\n",
      "Epoch: [16 / 20] Loss: 0.19408061230035006\n",
      "Epoch: [17 / 20] Loss: 0.18026230473233565\n",
      "Epoch: [18 / 20] Loss: 0.16917011548686495\n",
      "Epoch: [19 / 20] Loss: 0.15986375528850225\n",
      "Epoch: [20 / 20] Loss: 0.1531671910519558\n"
     ]
    }
   ],
   "source": [
    "input_lang = languages.index('Romanian')\n",
    "train_dataloader = get_dataloader(batch_size, input_lang)\n",
    "encoder = EncoderRNN(lang_classes[input_lang].n_words, hidden_size).to(device)\n",
    "decoder = AttnDecoderRNN(hidden_size, lang_classes[-1].n_words).to(device)\n",
    "print(f\"STARTING TO TRAIN\")\n",
    "losses = train(train_dataloader, encoder, decoder, 20, print_every=1, plot_every=1, learning_rate=3e-4)"
   ],
   "metadata": {
    "collapsed": false,
    "ExecuteTime": {
     "end_time": "2023-12-16T11:40:31.212369900Z",
     "start_time": "2023-12-16T10:27:10.837167300Z"
    }
   }
  },
  {
   "cell_type": "code",
   "execution_count": 244,
   "outputs": [
    {
     "name": "stdout",
     "output_type": "stream",
     "text": [
      "Epoch: [1 / 5] Loss: 0.1036655018764689\n",
      "Epoch: [2 / 5] Loss: 0.07522910491787001\n",
      "Epoch: [3 / 5] Loss: 0.0641213929376636\n",
      "Epoch: [4 / 5] Loss: 0.05715097884208119\n",
      "Epoch: [5 / 5] Loss: 0.05233333270834581\n"
     ]
    }
   ],
   "source": [
    "losses += train(train_dataloader, encoder, decoder, 5, print_every=1, plot_every=1, learning_rate=1e-4)"
   ],
   "metadata": {
    "collapsed": false,
    "ExecuteTime": {
     "end_time": "2023-12-16T11:59:28.025377500Z",
     "start_time": "2023-12-16T11:41:22.054950600Z"
    }
   }
  },
  {
   "cell_type": "code",
   "execution_count": 245,
   "outputs": [
    {
     "data": {
      "text/plain": "<Figure size 1000x500 with 1 Axes>",
      "image/png": "[encoded data removed]"
     },
     "metadata": {},
     "output_type": "display_data"
    }
   ],
   "source": [
    "pltLosses(losses, saveImg=True, lang = languages[input_lang])"
   ],
   "metadata": {
    "collapsed": false,
    "ExecuteTime": {
     "end_time": "2023-12-16T12:00:16.422838800Z",
     "start_time": "2023-12-16T12:00:16.238024400Z"
    }
   }
  },
  {
   "cell_type": "code",
   "execution_count": 249,
   "outputs": [
    {
     "data": {
      "text/plain": "43.40786357065368"
     },
     "execution_count": 249,
     "metadata": {},
     "output_type": "execute_result"
    }
   ],
   "source": [
    "compute_metrics(encoder, decoder, input_lang)"
   ],
   "metadata": {
    "collapsed": false,
    "ExecuteTime": {
     "end_time": "2023-12-16T12:01:29.526728100Z",
     "start_time": "2023-12-16T12:01:21.746163700Z"
    }
   }
  },
  {
   "cell_type": "code",
   "execution_count": 250,
   "outputs": [
    {
     "name": "stdout",
     "output_type": "stream",
     "text": [
      "From: și ideea este destul de simplă\n",
      "To: and the idea s pretty simple\n",
      "Prediction: and the idea is pretty simple\n",
      "\n",
      "From: și deşi pare destul de simplu e de fapt destul de greu deoarece forțează oamenii să colaboreze foarte rapid\n",
      "To: and though it seems really simple it s actually pretty hard because it forces people to collaborate very quickly\n",
      "Prediction: and although the sounds quite gets is pretty hard because your people want to run very quickly\n",
      "\n",
      "From: și a fost un mare succes\n",
      "To: and it was a huge success\n",
      "Prediction: and it was a great success\n",
      "\n",
      "From: și e destul de uimitor\n",
      "To: and it s pretty amazing\n",
      "Prediction: and it s pretty amazing\n",
      "\n",
      "From: deci ați vrea să întrebați cum de de ce de ce ei\n",
      "To: so the question you want to ask is how come why what is it about them\n",
      "Prediction: so you d want to ask how well why why why\n",
      "\n",
      "From: dar mai este și un alt motiv\n",
      "To: but there s another reason as well\n",
      "Prediction: and there is another other reason\n",
      "\n",
      "From: acesta este că studenţii sunt instruiți să găsească singurul plan corect nu i așa\n",
      "To: and the reason is that business students are trained to find the single right plan right\n",
      "Prediction: this is the students are lucky to find the entire source of this right\n",
      "\n",
      "From: e o criză\n",
      "To: it s a crisis\n",
      "Prediction: this is a crisis\n",
      "\n",
      "From: sună cunoscut așa e\n",
      "To: sound familiar right\n",
      "Prediction: does this sound familiar is like this\n",
      "\n",
      "From: și la fiecare versiune copiii au un răspuns imediat referitor la ce funcționează și la ce nu funcționează\n",
      "To: and with each version kids get instant feedback about what works and what doesn t work\n",
      "Prediction: and each of the children show have an answer they no longer to work and what does it doesn\n",
      "\n",
      "From: deci capacitatea de a construi în prototipuri este esențială și hai să vedem cum se comportă diferite echipe\n",
      "To: so the capacity to play in prototype is really essential but let s look at how different teams perform\n",
      "Prediction: so the ability to create in your is the same and final let s see it different their number\n",
      "\n",
      "From: cine e cel mai bun\n",
      "To: who does the very best\n",
      "Prediction: how who is the best one\n",
      "\n",
      "From: deci directorii generali puțin mai bine decât media\n",
      "To: so ceos a little bit better than average\n",
      "Prediction: so it s left than a little bit better than the media\n",
      "\n",
      "From: dar aici devine interesant\n",
      "To: but here s where it gets interesting\n",
      "Prediction: interesting issues becomes here\n",
      "\n",
      "From: dacă adaugi echipei un om de la administrativ rezultatul se îmbunătățește semnificativ\n",
      "To: if you put you put an executive admin on the team they get significantly better\n",
      "Prediction: if you add the weight from a human brain have intense stopped to it\n",
      "\n",
      "From: conduc procesul înțeleg procesul\n",
      "To: they manage the process they understand the process\n",
      "Prediction: the process of waste which process the process process\n",
      "\n",
      "From: și am încercat ceva interesant\n",
      "To: and i tried something interesting\n",
      "Prediction: now what have i done kind of interesting something interesting\n",
      "\n",
      "From: și am oferit un premiu de 10 mii de dolari în programe informatice pentru echipa câștigătoare\n",
      "To: so i offered a 10 000 dollar prize of software to the winning team\n",
      "Prediction: and we gave a 10 000 dollars of dollars in these space for the forest\n",
      "\n",
      "From: și ce credeți că s a întâmplat cu acei studenți la design\n",
      "To: so what do you think happened to these design students\n",
      "Prediction: and what did happen here is to those students in design\n",
      "\n",
      "From: care a fost rezultatul\n",
      "To: what was the result\n",
      "Prediction: which was the result of that\n",
      "\n"
     ]
    }
   ],
   "source": [
    "evaluateFirstN(encoder, decoder, input_lang)"
   ],
   "metadata": {
    "collapsed": false,
    "ExecuteTime": {
     "end_time": "2023-12-16T12:01:29.736629700Z",
     "start_time": "2023-12-16T12:01:29.527727800Z"
    }
   }
  },
  {
   "cell_type": "code",
   "execution_count": 251,
   "outputs": [
    {
     "name": "stdout",
     "output_type": "stream",
     "text": [
      "From: si incep sa produca din copaci atata cat doresc\n",
      "To: and they can start producing from the trees as many as they like\n",
      "Prediction: and they can start producing from the trees as many as they like to me\n",
      "\n",
      "From: uite ce au fǎcut\n",
      "To: look what they ve done\n",
      "Prediction: look what they ve done\n",
      "\n",
      "From: există un întreg limbaj de programare pentru așa ceva\n",
      "To: there s a whole programming language and robotics tool\n",
      "Prediction: there s a whole programming language and robotics tool to realize something\n",
      "\n",
      "From: publicul arată mi datele\n",
      "To: audience show me the data\n",
      "Prediction: turn this show to me\n",
      "\n",
      "From: acesta este un băiat diferit și aceasta este o fată diferită\n",
      "To: this is a different kind of boy and a different kind of girl\n",
      "Prediction: this is a different kind of boy and a this is a different kind of girl a different kind\n",
      "\n",
      "From: putem construi pe ce au făcut ei\n",
      "To: we can build on their wisdom\n",
      "Prediction: we can build on their wisdom what they did\n",
      "\n",
      "From: sau e vorba doar de niște umbre ciudate pe un copac\n",
      "To: or is it just some weird shadows on the tree\n",
      "Prediction: or is it just some weird shadows on the tree\n",
      "\n",
      "From: puteţi sări peste partea cu praful\n",
      "To: you can skip the dust part\n",
      "Prediction: you can skip the dust part with the dust\n",
      "\n",
      "From: nimeni nu dorea de fapt să aibă neplăceri\n",
      "To: everyone did not want really to get in trouble\n",
      "Prediction: nobody really wanted to really get in trouble\n",
      "\n",
      "From: corespunde la cca 70 de mostre din cele o mie de eşantioane\n",
      "To: and it contributes to about 70 samples of those thousand samples\n",
      "Prediction: you re at the normal 70 percent of the known from an area of a thousand samples\n",
      "\n"
     ]
    }
   ],
   "source": [
    "evaluateRandomly(encoder, decoder, input_lang, set='train')"
   ],
   "metadata": {
    "collapsed": false,
    "ExecuteTime": {
     "end_time": "2023-12-16T12:01:29.846850600Z",
     "start_time": "2023-12-16T12:01:29.738048700Z"
    }
   }
  },
  {
   "cell_type": "code",
   "execution_count": 252,
   "outputs": [
    {
     "name": "stdout",
     "output_type": "stream",
     "text": [
      "From: și este un lucru grozav ca acest număr să crească\n",
      "To: and it s a great thing for this number to go up\n",
      "Prediction: and it s a great thing so like this this lets grow up\n",
      "\n",
      "From: limba noastră ne afectează gândirea și felul în care vedem lumea și pe ceilalți oameni\n",
      "To: our language affects our thinking and how we view the world and how we view other people\n",
      "Prediction: our language will actually feel the mind and the way we see the world with other people\n",
      "\n",
      "From: şi au mai fost făcute şi alte eforturi similare\n",
      "To: and there have been other efforts along those lines\n",
      "Prediction: and there were also other things we have similar other animals as well\n",
      "\n",
      "From: nu vrem să încercăm să prezicem viitorul\n",
      "To: we do not want to try to predict the future\n",
      "Prediction: we don t want to try and future the future\n",
      "\n",
      "From: așa că cel care a ajutat la aducerea mea pe lume era un străin pentru părinții mei\n",
      "To: so the man who delivered me was a complete stranger to my parents\n",
      "Prediction: so what was the at the world my wife was a responsible for my parents was with a car\n",
      "\n",
      "From: vi l voi arăta şi apoi îl voi explica\n",
      "To: i ll do it for you and then i ll explain it\n",
      "Prediction: i ll show you and then i ll explain it\n",
      "\n",
      "From: ei asta e din algebra de liceu dar hai să aruncăm o privire\n",
      "To: now that s back from high school algebra but let s take a look\n",
      "Prediction: they think of their glucose high school but let s just take a look\n",
      "\n",
      "From: şi în acea noapte eram întins în pat şi mă gândeam ce naiba este o proteină sustenabilă\n",
      "To: and that night i was lying in bed and i thought what the hell is a sustainable protein\n",
      "Prediction: and in that night i was wondering in the late and i was thinking what was going on\n",
      "\n",
      "From: aproape că au dispărut\n",
      "To: there s almost nothing left\n",
      "Prediction: they re gone away\n",
      "\n",
      "From: şi avem dreptul să o facem\n",
      "To: and there s no reason we shouldn t have\n",
      "Prediction: and we have the right to make it\n",
      "\n"
     ]
    }
   ],
   "source": [
    "evaluateRandomly(encoder, decoder, input_lang, set='test')"
   ],
   "metadata": {
    "collapsed": false,
    "ExecuteTime": {
     "end_time": "2023-12-16T12:01:29.957816400Z",
     "start_time": "2023-12-16T12:01:29.847851Z"
    }
   }
  },
  {
   "cell_type": "markdown",
   "source": [
    "Romanian with bidirectional encoder"
   ],
   "metadata": {
    "collapsed": false
   }
  },
  {
   "cell_type": "code",
   "execution_count": 336,
   "outputs": [
    {
     "name": "stdout",
     "output_type": "stream",
     "text": [
      "STARTING TO TRAIN\n",
      "Epoch: [1 / 20] Loss: 2.283218053355962\n",
      "Epoch: [2 / 20] Loss: 1.6454156896756547\n",
      "Epoch: [3 / 20] Loss: 1.3352889664831324\n",
      "Epoch: [4 / 20] Loss: 1.1158925445137908\n",
      "Epoch: [5 / 20] Loss: 0.947512782529693\n",
      "Epoch: [6 / 20] Loss: 0.8109293257504333\n",
      "Epoch: [7 / 20] Loss: 0.6987619334418822\n",
      "Epoch: [8 / 20] Loss: 0.6032790964810886\n",
      "Epoch: [9 / 20] Loss: 0.5241177475457186\n",
      "Epoch: [10 / 20] Loss: 0.45601577922862574\n",
      "Epoch: [11 / 20] Loss: 0.40168045414741926\n",
      "Epoch: [12 / 20] Loss: 0.3545947817150136\n",
      "Epoch: [13 / 20] Loss: 0.3164892820086995\n",
      "Epoch: [14 / 20] Loss: 0.2836679367901466\n",
      "Epoch: [15 / 20] Loss: 0.25704637126974045\n",
      "Epoch: [16 / 20] Loss: 0.2349061236928522\n",
      "Epoch: [17 / 20] Loss: 0.2174428298777692\n",
      "Epoch: [18 / 20] Loss: 0.20186455899353176\n",
      "Epoch: [19 / 20] Loss: 0.18979202755334326\n",
      "Epoch: [20 / 20] Loss: 0.1782686116365114\n"
     ]
    }
   ],
   "source": [
    "input_lang = languages.index('Romanian')\n",
    "train_dataloader = get_dataloader(batch_size, input_lang)\n",
    "encoder = EncoderRNN(lang_classes[input_lang].n_words, hidden_size, bi_dir=True).to(device)\n",
    "decoder = AttnDecoderRNN(hidden_size, lang_classes[-1].n_words, bi_dir=True).to(device)\n",
    "print(f\"STARTING TO TRAIN\")\n",
    "losses = train(train_dataloader, encoder, decoder, 20, print_every=1, plot_every=1, learning_rate=3e-4)"
   ],
   "metadata": {
    "collapsed": false,
    "ExecuteTime": {
     "end_time": "2023-12-17T02:27:17.566361400Z",
     "start_time": "2023-12-17T01:26:20.948939800Z"
    }
   }
  },
  {
   "cell_type": "code",
   "execution_count": 337,
   "outputs": [
    {
     "name": "stdout",
     "output_type": "stream",
     "text": [
      "Epoch: [1 / 5] Loss: 0.12575128972173166\n",
      "Epoch: [2 / 5] Loss: 0.09645901272565281\n",
      "Epoch: [3 / 5] Loss: 0.08419184816559934\n",
      "Epoch: [4 / 5] Loss: 0.07590786668446318\n",
      "Epoch: [5 / 5] Loss: 0.0697445232782824\n"
     ]
    }
   ],
   "source": [
    "losses += train(train_dataloader, encoder, decoder, 5, print_every=1, plot_every=1, learning_rate=1e-4)"
   ],
   "metadata": {
    "collapsed": false,
    "ExecuteTime": {
     "end_time": "2023-12-17T02:43:58.623014900Z",
     "start_time": "2023-12-17T02:28:46.554358900Z"
    }
   }
  },
  {
   "cell_type": "code",
   "execution_count": 338,
   "outputs": [
    {
     "data": {
      "text/plain": "45.51261414619624"
     },
     "execution_count": 338,
     "metadata": {},
     "output_type": "execute_result"
    }
   ],
   "source": [
    "compute_metrics(encoder, decoder, input_lang)"
   ],
   "metadata": {
    "collapsed": false,
    "ExecuteTime": {
     "end_time": "2023-12-17T02:44:10.559691100Z",
     "start_time": "2023-12-17T02:44:04.095646900Z"
    }
   }
  },
  {
   "cell_type": "code",
   "execution_count": 339,
   "outputs": [
    {
     "name": "stdout",
     "output_type": "stream",
     "text": [
      "From: și ideea este destul de simplă\n",
      "To: and the idea s pretty simple\n",
      "Prediction: and the idea is quite simple\n",
      "\n",
      "From: și deşi pare destul de simplu e de fapt destul de greu deoarece forțează oamenii să colaboreze foarte rapid\n",
      "To: and though it seems really simple it s actually pretty hard because it forces people to collaborate very quickly\n",
      "Prediction: and although it quite pretty easy it s actually pretty hard because people are very quickly for very quickly\n",
      "\n",
      "From: și a fost un mare succes\n",
      "To: and it was a huge success\n",
      "Prediction: and it was a huge success\n",
      "\n",
      "From: și e destul de uimitor\n",
      "To: and it s pretty amazing\n",
      "Prediction: and it s pretty amazing\n",
      "\n",
      "From: deci ați vrea să întrebați cum de de ce de ce ei\n",
      "To: so the question you want to ask is how come why what is it about them\n",
      "Prediction: so you would want to ask what to why do you know why\n",
      "\n",
      "From: dar mai este și un alt motiv\n",
      "To: but there s another reason as well\n",
      "Prediction: but there is another thing but it also is another reason\n",
      "\n",
      "From: acesta este că studenţii sunt instruiți să găsească singurul plan corect nu i așa\n",
      "To: and the reason is that business students are trained to find the single right plan right\n",
      "Prediction: that is that students are the only to find the only plan right\n",
      "\n",
      "From: e o criză\n",
      "To: it s a crisis\n",
      "Prediction: it s a crisis\n",
      "\n",
      "From: sună cunoscut așa e\n",
      "To: sound familiar right\n",
      "Prediction: it sounds like that sounds familiar with it\n",
      "\n",
      "From: și la fiecare versiune copiii au un răspuns imediat referitor la ce funcționează și la ce nu funcționează\n",
      "To: and with each version kids get instant feedback about what works and what doesn t work\n",
      "Prediction: and every third century kids had a answer back as well what does it work and what they are\n",
      "\n",
      "From: deci capacitatea de a construi în prototipuri este esențială și hai să vedem cum se comportă diferite echipe\n",
      "To: so the capacity to play in prototype is really essential but let s look at how different teams perform\n",
      "Prediction: so the capacity to build on the stage is an and so let s see how this thing is\n",
      "\n",
      "From: cine e cel mai bun\n",
      "To: who does the very best\n",
      "Prediction: who s the best\n",
      "\n",
      "From: deci directorii generali puțin mai bine decât media\n",
      "To: so ceos a little bit better than average\n",
      "Prediction: so we are engaging of our media better with the average\n",
      "\n",
      "From: dar aici devine interesant\n",
      "To: but here s where it gets interesting\n",
      "Prediction: but here s where this is interesting\n",
      "\n",
      "From: dacă adaugi echipei un om de la administrativ rezultatul se îmbunătățește semnificativ\n",
      "To: if you put you put an executive admin on the team they get significantly better\n",
      "Prediction: if you add a human from the screen of the sorts of the sound is much significant\n",
      "\n",
      "From: conduc procesul înțeleg procesul\n",
      "To: they manage the process they understand the process\n",
      "Prediction: you drive the very violent process\n",
      "\n",
      "From: și am încercat ceva interesant\n",
      "To: and i tried something interesting\n",
      "Prediction: and i sought to something interesting\n",
      "\n",
      "From: și am oferit un premiu de 10 mii de dolari în programe informatice pentru echipa câștigătoare\n",
      "To: so i offered a 10 000 dollar prize of software to the winning team\n",
      "Prediction: and i gave a prize 10 000 dollars for an entire family for my team\n",
      "\n",
      "From: și ce credeți că s a întâmplat cu acei studenți la design\n",
      "To: so what do you think happened to these design students\n",
      "Prediction: and guess what you think is what we all happened to those students\n",
      "\n",
      "From: care a fost rezultatul\n",
      "To: what was the result\n",
      "Prediction: what was the result\n",
      "\n"
     ]
    }
   ],
   "source": [
    "evaluateFirstN(encoder, decoder, input_lang)"
   ],
   "metadata": {
    "collapsed": false,
    "ExecuteTime": {
     "end_time": "2023-12-17T02:44:26.369198600Z",
     "start_time": "2023-12-17T02:44:25.912276400Z"
    }
   }
  },
  {
   "cell_type": "code",
   "execution_count": 340,
   "outputs": [
    {
     "name": "stdout",
     "output_type": "stream",
     "text": [
      "From: cum o fac ei\n",
      "To: how do they do it\n",
      "Prediction: how do they do it\n",
      "\n",
      "From: în primul rând ascultaţi în mod conştient\n",
      "To: first of all listen consciously\n",
      "Prediction: first where do they make use of the computer\n",
      "\n",
      "From: și acelea sunt speciile din mediul uscat\n",
      "To: and those are the dry land species\n",
      "Prediction: and those are the species in the environment\n",
      "\n",
      "From: de fapt când merg în ţările în dezvoltare coca cola pare să fie omniprezentă\n",
      "To: in fact when i travel to the developing world coke feels ubiquitous\n",
      "Prediction: actually where i travel to the developing world coke feels ubiquitous\n",
      "\n",
      "From: cum le pui la dispoziție ca să le fie util\n",
      "To: how do you put it in their hands so that it is useful\n",
      "Prediction: how do you put it in the literature so that it s useful to be useful\n",
      "\n",
      "From: şi umorul e o modalitate bună cred de a aborda aceste probleme serioase\n",
      "To: and humor is a good way i think to address serious issues\n",
      "Prediction: and humor humor is a good way i think to address those issues\n",
      "\n",
      "From: nu mai cred asta putem face foarte multe\n",
      "To: no longer we can do a great deal of things\n",
      "Prediction: i don t think that anymore we can do so many\n",
      "\n",
      "From: și de aceea l am numit din leagăn în leagăn iar țelul nostru este foarte simplu\n",
      "To: and so we call it cradle to cradle and our goal is very simple\n",
      "Prediction: and so we call it cradle to cradle and our goal is very simple\n",
      "\n",
      "From: ce fel de persoană ar face asta\n",
      "To: what kind of person would do that\n",
      "Prediction: what sort of person would all do that\n",
      "\n",
      "From: dacă treceți printr o criză veți observa ceva\n",
      "To: if you have a crisis in your life you ll notice something\n",
      "Prediction: if you had a crisis in africa you would see something a good crisis\n",
      "\n"
     ]
    }
   ],
   "source": [
    "evaluateRandomly(encoder, decoder, input_lang, set='train')"
   ],
   "metadata": {
    "collapsed": false,
    "ExecuteTime": {
     "end_time": "2023-12-17T02:44:28.125251300Z",
     "start_time": "2023-12-17T02:44:28.020531200Z"
    }
   }
  },
  {
   "cell_type": "code",
   "execution_count": 341,
   "outputs": [
    {
     "name": "stdout",
     "output_type": "stream",
     "text": [
      "From: nu mi place acea întrebare\n",
      "To: i don t love that question\n",
      "Prediction: i do not that that question\n",
      "\n",
      "From: probabil mulţi dintre cei de aici îl stiu deja\n",
      "To: probably many of you in the room know this trick\n",
      "Prediction: and many of you probably most of those here say a few of this\n",
      "\n",
      "From: deci ce realitate vrem să creăm\n",
      "To: so what reality do we want to call into existence\n",
      "Prediction: so what do we want to create\n",
      "\n",
      "From: s au scris multe cărți excelente pe tema aceasta\n",
      "To: there s a lot of great books that have been written about this\n",
      "Prediction: many more moved they ve written a lot of teachers on the theme\n",
      "\n",
      "From: are impactul cel mai mare\n",
      "To: this is the one with the greatest impact\n",
      "Prediction: the impact has the impact\n",
      "\n",
      "From: ci doar încrederea noastră o face reală în corpul nostru şi produce un efect mai puternic\n",
      "To: it s only your belief that makes it real in your body and makes a stronger effect\n",
      "Prediction: it s just our creation a bit of makes within our bodies and a huge effect of stronger\n",
      "\n",
      "From: e o criză\n",
      "To: it s a crisis\n",
      "Prediction: it s a crisis\n",
      "\n",
      "From: problema principală aici este cam ca la sida\n",
      "To: the main problem we have here it s kind of like aids\n",
      "Prediction: the main problem comes down here s a lot of aids\n",
      "\n",
      "From: practic evaluăm importanța acelui om în societate\n",
      "To: we are effectively grading someone s worth to our community\n",
      "Prediction: essentially basically to put our global village in society\n",
      "\n",
      "From: și am avut același rezultat cu audiența\n",
      "To: and we had the same result with an audience\n",
      "Prediction: and we had the same date that was in the state\n",
      "\n"
     ]
    }
   ],
   "source": [
    "evaluateRandomly(encoder, decoder, input_lang, set='test')"
   ],
   "metadata": {
    "collapsed": false,
    "ExecuteTime": {
     "end_time": "2023-12-17T02:44:29.992250Z",
     "start_time": "2023-12-17T02:44:29.856215100Z"
    }
   }
  },
  {
   "cell_type": "markdown",
   "source": [
    "Arabic"
   ],
   "metadata": {
    "collapsed": false
   }
  },
  {
   "cell_type": "code",
   "execution_count": 257,
   "outputs": [
    {
     "name": "stdout",
     "output_type": "stream",
     "text": [
      "STARTING TO TRAIN\n",
      "Epoch: [1 / 20] Loss: 2.306884034621276\n",
      "Epoch: [2 / 20] Loss: 1.7234810047587037\n",
      "Epoch: [3 / 20] Loss: 1.3972684761819432\n",
      "Epoch: [4 / 20] Loss: 1.1425470060270544\n",
      "Epoch: [5 / 20] Loss: 0.9346702468181298\n",
      "Epoch: [6 / 20] Loss: 0.7643554626795968\n",
      "Epoch: [7 / 20] Loss: 0.6267631051250374\n",
      "Epoch: [8 / 20] Loss: 0.5144614280161568\n",
      "Epoch: [9 / 20] Loss: 0.42587841757510975\n",
      "Epoch: [10 / 20] Loss: 0.35586604257583143\n",
      "Epoch: [11 / 20] Loss: 0.30012875872618655\n",
      "Epoch: [12 / 20] Loss: 0.2570051189924285\n",
      "Epoch: [13 / 20] Loss: 0.22202697606870564\n",
      "Epoch: [14 / 20] Loss: 0.19719726141033359\n",
      "Epoch: [15 / 20] Loss: 0.17560897145795443\n",
      "Epoch: [16 / 20] Loss: 0.15977266519622932\n",
      "Epoch: [17 / 20] Loss: 0.14721286666030778\n",
      "Epoch: [18 / 20] Loss: 0.13722293124954818\n",
      "Epoch: [19 / 20] Loss: 0.12870297119660248\n",
      "Epoch: [20 / 20] Loss: 0.12165755985800553\n"
     ]
    }
   ],
   "source": [
    "input_lang = languages.index('Arabic')\n",
    "train_dataloader = get_dataloader(batch_size, input_lang)\n",
    "encoder = EncoderRNN(lang_classes[input_lang].n_words, hidden_size).to(device)\n",
    "decoder = AttnDecoderRNN(hidden_size, lang_classes[-1].n_words).to(device)\n",
    "print(f\"STARTING TO TRAIN\")\n",
    "losses = train(train_dataloader, encoder, decoder, 20, print_every=1, plot_every=1, learning_rate=3e-4)"
   ],
   "metadata": {
    "collapsed": false,
    "ExecuteTime": {
     "end_time": "2023-12-16T13:20:04.358532300Z",
     "start_time": "2023-12-16T12:21:28.101191800Z"
    }
   }
  },
  {
   "cell_type": "code",
   "execution_count": 265,
   "outputs": [
    {
     "name": "stdout",
     "output_type": "stream",
     "text": [
      "Epoch: [1 / 5] Loss: 0.08301577468775027\n",
      "Epoch: [2 / 5] Loss: 0.05930629861471452\n",
      "Epoch: [3 / 5] Loss: 0.050312665461052807\n",
      "Epoch: [4 / 5] Loss: 0.04461997692823291\n",
      "Epoch: [5 / 5] Loss: 0.04108574728138841\n"
     ]
    }
   ],
   "source": [
    "losses += train(train_dataloader, encoder, decoder, 5, print_every=1, plot_every=1, learning_rate=1e-4)"
   ],
   "metadata": {
    "collapsed": false,
    "ExecuteTime": {
     "end_time": "2023-12-16T14:17:40.487905900Z",
     "start_time": "2023-12-16T14:03:04.931855200Z"
    }
   }
  },
  {
   "cell_type": "code",
   "execution_count": 266,
   "outputs": [
    {
     "data": {
      "text/plain": "<Figure size 1000x500 with 1 Axes>",
      "image/png": "[encoded data removed]"
     },
     "metadata": {},
     "output_type": "display_data"
    }
   ],
   "source": [
    "pltLosses(losses, saveImg=True, lang = languages[input_lang])"
   ],
   "metadata": {
    "collapsed": false,
    "ExecuteTime": {
     "end_time": "2023-12-16T14:18:02.520737500Z",
     "start_time": "2023-12-16T14:18:02.334531600Z"
    }
   }
  },
  {
   "cell_type": "code",
   "execution_count": 267,
   "outputs": [
    {
     "data": {
      "text/plain": "29.70792202695846"
     },
     "execution_count": 267,
     "metadata": {},
     "output_type": "execute_result"
    }
   ],
   "source": [
    "compute_metrics(encoder, decoder, input_lang)"
   ],
   "metadata": {
    "collapsed": false,
    "ExecuteTime": {
     "end_time": "2023-12-16T14:18:27.194082900Z",
     "start_time": "2023-12-16T14:18:05.229593200Z"
    }
   }
  },
  {
   "cell_type": "code",
   "execution_count": 268,
   "outputs": [
    {
     "name": "stdout",
     "output_type": "stream",
     "text": [
      "From: وقد كان نجاحا باهرا\n",
      "To: and it was a huge success\n",
      "Prediction: SOS SOS SOS SOS SOS SOS SOS SOS SOS SOS SOS SOS SOS SOS SOS SOS SOS SOS SOS\n",
      "\n",
      "From: وهذا شئ رائع حقا\n",
      "To: and it s pretty amazing\n",
      "Prediction: yeah that s really cool\n",
      "\n",
      "From: لكن هناك سبب آخر أيضا\n",
      "To: but there s another reason as well\n",
      "Prediction: too another one too\n",
      "\n",
      "From: إنها أزمة\n",
      "To: it s a crisis\n",
      "Prediction: SOS SOS SOS SOS SOS SOS SOS SOS SOS SOS SOS SOS SOS SOS SOS SOS SOS SOS SOS\n",
      "\n",
      "From: تبدو مألوفا أليس كذلك\n",
      "To: sound familiar right\n",
      "Prediction: isn t look right\n",
      "\n",
      "From: وقد حاولت شيئا مثيرا\n",
      "To: and i tried something interesting\n",
      "Prediction: SOS SOS SOS SOS SOS SOS SOS SOS SOS SOS SOS SOS SOS SOS SOS SOS SOS SOS SOS\n",
      "\n",
      "From: لذا فقد عرضت جائزة قدرها 10 000 دولار من البرمجيات للفريق الفائز\n",
      "To: so i offered a 10 000 dollar prize of software to the winning team\n",
      "Prediction: so my uncle had 10 000 dollars out of a space and ancient chemistry\n",
      "\n",
      "From: ماذا كانت النتيجة\n",
      "To: what was the result\n",
      "Prediction: SOS SOS SOS SOS SOS SOS SOS SOS SOS SOS SOS SOS SOS SOS SOS SOS SOS SOS SOS\n",
      "\n",
      "From: ها هو ما حدث لم ينجح حتى فريق واحد في إيقاف الهيكل\n",
      "To: here s what happened not one team had a standing structure\n",
      "Prediction: those who couldn t turn out in the one in the u k\n",
      "\n",
      "From: إذا أليس ذلك مثيرا بأن الرهانات العالية لديها تأثير قوي\n",
      "To: so isn t that interesting that high stakes have a strong impact\n",
      "Prediction: if that s almost true that has the potential of a strong ecological\n",
      "\n",
      "From: ماذا تظنون الذي حدث عندئذ\n",
      "To: what do you think happened then\n",
      "Prediction: SOS SOS SOS SOS SOS SOS SOS SOS SOS SOS SOS SOS SOS SOS SOS SOS SOS SOS SOS\n",
      "\n",
      "From: ولذا هذه هي قيمة التجربة لهذا التمرين البسيط\n",
      "To: and so this is the value of the experience of this so simple exercise\n",
      "Prediction: so that would have a sense of this simple experiment\n",
      "\n",
      "From: هناك أيضا رقم قياسي عالميا\n",
      "To: there s world records that are on this as well\n",
      "Prediction: there s also a number one worldwide\n",
      "\n",
      "From: والدرس الأساسي كما أعتقد هو أن التصميم حقيقة هو رياضة تواصل\n",
      "To: and the fundamental lesson i believe is that design truly is a contact sport\n",
      "Prediction: and the lines i think is that the design of a really bad is defined\n",
      "\n",
      "From: ويمكن لذلك إحداث تغيير كبير\n",
      "To: and that can make a big difference\n",
      "Prediction: a huge change can change\n",
      "\n",
      "From: شكرا جزيلا لكم\n",
      "To: thank you very much\n",
      "Prediction: thank you very much\n",
      "\n",
      "From: دعونا نتظاهر أن هناك ماكينة هنا\n",
      "To: let s pretend right here we have a machine\n",
      "Prediction: over there there s a target right here\n",
      "\n",
      "From: لا أعرف\n",
      "To: i don t know\n",
      "Prediction: i don t know\n",
      "\n",
      "From: وأنا أتفهم ذلك\n",
      "To: and i understand that\n",
      "Prediction: that\n",
      "\n",
      "From: أنا لست جزء من تلك المجموعة لابد وأن أقول\n",
      "To: i m not part of that crowd i have to say\n",
      "Prediction: this is not my part of the word but i m saying to say\n",
      "\n"
     ]
    }
   ],
   "source": [
    "evaluateFirstN(encoder, decoder, input_lang)"
   ],
   "metadata": {
    "collapsed": false,
    "ExecuteTime": {
     "end_time": "2023-12-16T14:18:27.397811700Z",
     "start_time": "2023-12-16T14:18:27.196083Z"
    }
   }
  },
  {
   "cell_type": "code",
   "execution_count": 269,
   "outputs": [
    {
     "name": "stdout",
     "output_type": "stream",
     "text": [
      "From: وهكذا انتشر الإعلان حول العالم\n",
      "To: and this is how the ad ran around the world\n",
      "Prediction: around the world\n",
      "\n",
      "From: لكن الجدري كان رابع مرض ق صد القضاء عليه\n",
      "To: but smallpox was the fourth disease that was intended for eradication\n",
      "Prediction: animation the disease was seen for eradication\n",
      "\n",
      "From: ماذا عن التعليم للشباب\n",
      "To: what about education for young people\n",
      "Prediction: young men by young education\n",
      "\n",
      "From: منتشرة تماما في سوق أدوية السرطان الآن\n",
      "To: jc so these drugs aren t exactly in mainstream cancer treatments right now\n",
      "Prediction: for almost not just in the stock market right now cancer treatments right now\n",
      "\n",
      "From: هذا البروتين فقط\n",
      "To: just this one protein\n",
      "Prediction: only solve only these protein protein\n",
      "\n",
      "From: لذا كنت تنوي وضع الإبهام على رأس هذا\n",
      "To: so you re going to put your thumb on top of this\n",
      "Prediction: so you re going to put your thumb on top of this\n",
      "\n",
      "From: شكرا شكرا\n",
      "To: thank you thank you\n",
      "Prediction: thank you thank you\n",
      "\n",
      "From: كنا نذهب إلى كل مكان\n",
      "To: we were going everywhere\n",
      "Prediction: everywhere i m everywhere\n",
      "\n",
      "From: يمكننا أيضا أن نرى هذا التحول المثير للاهتمام بالطريقة التي نحدد بها الروابط الاجتماعية بين الناس\n",
      "To: we can also see this interesting shift in the way we map social ties between people\n",
      "Prediction: this is sort of the interesting way that we map social ties between people\n",
      "\n",
      "From: وبهذا ساعدوا العادلة\n",
      "To: and so they helped the just one\n",
      "Prediction: a blind car took the course of the women\n",
      "\n"
     ]
    }
   ],
   "source": [
    "evaluateRandomly(encoder, decoder, input_lang, set='train')"
   ],
   "metadata": {
    "collapsed": false,
    "ExecuteTime": {
     "end_time": "2023-12-16T14:18:27.501682600Z",
     "start_time": "2023-12-16T14:18:27.398812900Z"
    }
   }
  },
  {
   "cell_type": "code",
   "execution_count": 270,
   "outputs": [
    {
     "name": "stdout",
     "output_type": "stream",
     "text": [
      "From: كنت قادرة على انهاء قصة الحب المجنون الخاصة بي عن طريق كسر الصمت\n",
      "To: i was able to end my own crazy love story by breaking the silence\n",
      "Prediction: i was producing the story of love and my mother took me through the opposite of silence\n",
      "\n",
      "From: وقال إنني فخور جدا بك\n",
      "To: he said i m so proud of you\n",
      "Prediction: very low people that were said\n",
      "\n",
      "From: وبالتأكيد فإننا يمكن ان نعثر على مطاعم الوجبات السريعة\n",
      "To: and sure we could find fast food chains\n",
      "Prediction: and of course you can take on the other hand of that memory on the other hand\n",
      "\n",
      "From: وها أنا اليوم\n",
      "To: and here s me today\n",
      "Prediction: am i am today\n",
      "\n",
      "From: سوف نكون على ما يرام\n",
      "To: we re going to be okay\n",
      "Prediction: sorry\n",
      "\n",
      "From: يتحدث الجميع هذه الأيام عن السعادة\n",
      "To: everybody talks about happiness these days\n",
      "Prediction: those days these days happiness\n",
      "\n",
      "From: تلك هي أنا أعزف البيانو الوهمي\n",
      "To: that is me playing my imaginary piano\n",
      "Prediction: sorry i m sure you know what i am saying\n",
      "\n",
      "From: وفي اعتقادي أن هذا ما نراه في انفجار المنحنيات هذا\n",
      "To: and i think that that s what we re seeing here in this explosion of curve\n",
      "Prediction: and we thought that what we see here is going to see this very well\n",
      "\n",
      "From: الصعوبة هي الصعوبة\n",
      "To: hard is hard\n",
      "Prediction: hello this is open\n",
      "\n",
      "From: مايكل لدينا بعض الأماكن للذهاب أغلق الكاميرا\n",
      "To: mk we ve got some places we can go turn the camera off\n",
      "Prediction: ms we have some very popular places where the camera is used\n",
      "\n"
     ]
    }
   ],
   "source": [
    "evaluateRandomly(encoder, decoder, input_lang, set='test')"
   ],
   "metadata": {
    "collapsed": false,
    "ExecuteTime": {
     "end_time": "2023-12-16T14:18:27.607461Z",
     "start_time": "2023-12-16T14:18:27.502682400Z"
    }
   }
  },
  {
   "cell_type": "markdown",
   "source": [
    "Training Arabic with BIDIRECTIONAL Model"
   ],
   "metadata": {
    "collapsed": false
   }
  },
  {
   "cell_type": "code",
   "execution_count": 330,
   "outputs": [
    {
     "name": "stdout",
     "output_type": "stream",
     "text": [
      "STARTING TO TRAIN\n",
      "Epoch: [1 / 20] Loss: 2.312631453973346\n",
      "Epoch: [2 / 20] Loss: 1.7507209871725689\n",
      "Epoch: [3 / 20] Loss: 1.4517154598818462\n",
      "Epoch: [4 / 20] Loss: 1.2214514615825738\n",
      "Epoch: [5 / 20] Loss: 1.0315069198786677\n",
      "Epoch: [6 / 20] Loss: 0.8749857827471356\n",
      "Epoch: [7 / 20] Loss: 0.7397498107057506\n",
      "Epoch: [8 / 20] Loss: 0.6269697754208373\n",
      "Epoch: [9 / 20] Loss: 0.5317056690261942\n",
      "Epoch: [10 / 20] Loss: 0.4525835040886167\n",
      "Epoch: [11 / 20] Loss: 0.38672388405172325\n",
      "Epoch: [12 / 20] Loss: 0.33490043364517236\n",
      "Epoch: [13 / 20] Loss: 0.2916887542037878\n",
      "Epoch: [14 / 20] Loss: 0.2565666282789063\n",
      "Epoch: [15 / 20] Loss: 0.22885979022292174\n",
      "Epoch: [16 / 20] Loss: 0.20629877796914736\n",
      "Epoch: [17 / 20] Loss: 0.18822506005139436\n",
      "Epoch: [18 / 20] Loss: 0.17346174827036806\n",
      "Epoch: [19 / 20] Loss: 0.16049120223088373\n",
      "Epoch: [20 / 20] Loss: 0.15042830010131372\n"
     ]
    }
   ],
   "source": [
    "input_lang = languages.index('Arabic')\n",
    "train_dataloader = get_dataloader(batch_size, input_lang)\n",
    "encoder = EncoderRNN(lang_classes[input_lang].n_words, hidden_size, bi_dir=True).to(device)\n",
    "decoder = AttnDecoderRNN(hidden_size, lang_classes[-1].n_words, bi_dir=True).to(device)\n",
    "print(f\"STARTING TO TRAIN\")\n",
    "losses = train(train_dataloader, encoder, decoder, 20, print_every=1, plot_every=1, learning_rate=3e-4)"
   ],
   "metadata": {
    "collapsed": false,
    "ExecuteTime": {
     "end_time": "2023-12-17T01:11:45.415461900Z",
     "start_time": "2023-12-17T00:23:22.495354300Z"
    }
   }
  },
  {
   "cell_type": "code",
   "execution_count": 331,
   "outputs": [
    {
     "name": "stdout",
     "output_type": "stream",
     "text": [
      "Epoch: [1 / 5] Loss: 0.10601006456254308\n",
      "Epoch: [2 / 5] Loss: 0.08061161673704863\n",
      "Epoch: [3 / 5] Loss: 0.06965611843486964\n",
      "Epoch: [4 / 5] Loss: 0.06313293845256268\n",
      "Epoch: [5 / 5] Loss: 0.05788539712812198\n"
     ]
    }
   ],
   "source": [
    "losses += train(train_dataloader, encoder, decoder, 5, print_every=1, plot_every=1, learning_rate=1e-4)"
   ],
   "metadata": {
    "collapsed": false,
    "ExecuteTime": {
     "end_time": "2023-12-17T01:23:54.590005Z",
     "start_time": "2023-12-17T01:12:04.833854700Z"
    }
   }
  },
  {
   "cell_type": "code",
   "execution_count": 335,
   "outputs": [
    {
     "data": {
      "text/plain": "36.0471056270025"
     },
     "execution_count": 335,
     "metadata": {},
     "output_type": "execute_result"
    }
   ],
   "source": [
    "compute_metrics(encoder, decoder, input_lang)"
   ],
   "metadata": {
    "collapsed": false,
    "ExecuteTime": {
     "end_time": "2023-12-17T01:24:38.566525200Z",
     "start_time": "2023-12-17T01:24:19.210539500Z"
    }
   }
  },
  {
   "cell_type": "code",
   "execution_count": 332,
   "outputs": [
    {
     "name": "stdout",
     "output_type": "stream",
     "text": [
      "From: وقد كان نجاحا باهرا\n",
      "To: and it was a huge success\n",
      "Prediction: and it has huge\n",
      "\n",
      "From: وهذا شئ رائع حقا\n",
      "To: and it s pretty amazing\n",
      "Prediction: that s really cool\n",
      "\n",
      "From: لكن هناك سبب آخر أيضا\n",
      "To: but there s another reason as well\n",
      "Prediction: but still matters another reason\n",
      "\n",
      "From: إنها أزمة\n",
      "To: it s a crisis\n",
      "Prediction: it s a crisis crisis\n",
      "\n",
      "From: تبدو مألوفا أليس كذلك\n",
      "To: sound familiar right\n",
      "Prediction: it looks like right\n",
      "\n",
      "From: وقد حاولت شيئا مثيرا\n",
      "To: and i tried something interesting\n",
      "Prediction: and you did something interesting\n",
      "\n",
      "From: لذا فقد عرضت جائزة قدرها 10 000 دولار من البرمجيات للفريق الفائز\n",
      "To: so i offered a 10 000 dollar prize of software to the winning team\n",
      "Prediction: so he s hearing the simulation but they would fit 10 000 dollars a cell software\n",
      "\n",
      "From: ماذا كانت النتيجة\n",
      "To: what was the result\n",
      "Prediction: how what was the result\n",
      "\n",
      "From: ها هو ما حدث لم ينجح حتى فريق واحد في إيقاف الهيكل\n",
      "To: here s what happened not one team had a standing structure\n",
      "Prediction: here s what happened did not experiment even the one system in the world\n",
      "\n",
      "From: إذا أليس ذلك مثيرا بأن الرهانات العالية لديها تأثير قوي\n",
      "To: so isn t that interesting that high stakes have a strong impact\n",
      "Prediction: if isn t that interesting idea that had a big effect\n",
      "\n",
      "From: ماذا تظنون الذي حدث عندئذ\n",
      "To: what do you think happened then\n",
      "Prediction: what happened next what do you think what do you think about what happens\n",
      "\n",
      "From: ولذا هذه هي قيمة التجربة لهذا التمرين البسيط\n",
      "To: and so this is the value of the experience of this so simple exercise\n",
      "Prediction: and so this is the very exciting stuff we did this\n",
      "\n",
      "From: هناك أيضا رقم قياسي عالميا\n",
      "To: there s world records that are on this as well\n",
      "Prediction: there s also our 2 risk and sense also improve the highest process\n",
      "\n",
      "From: والدرس الأساسي كما أعتقد هو أن التصميم حقيقة هو رياضة تواصل\n",
      "To: and the fundamental lesson i believe is that design truly is a contact sport\n",
      "Prediction: the fourth end and i think is that design is actually going to change my whole time\n",
      "\n",
      "From: ويمكن لذلك إحداث تغيير كبير\n",
      "To: and that can make a big difference\n",
      "Prediction: that could be huge change\n",
      "\n",
      "From: شكرا جزيلا لكم\n",
      "To: thank you very much\n",
      "Prediction: thank you very much\n",
      "\n",
      "From: دعونا نتظاهر أن هناك ماكينة هنا\n",
      "To: let s pretend right here we have a machine\n",
      "Prediction: let s bring there s this notion up there\n",
      "\n",
      "From: لا أعرف\n",
      "To: i don t know\n",
      "Prediction: i know not know i don t know i don t know\n",
      "\n",
      "From: وأنا أتفهم ذلك\n",
      "To: and i understand that\n",
      "Prediction: and i understand that\n",
      "\n",
      "From: أنا لست جزء من تلك المجموعة لابد وأن أقول\n",
      "To: i m not part of that crowd i have to say\n",
      "Prediction: i m not sure part of that group overall and nearly\n",
      "\n"
     ]
    }
   ],
   "source": [
    "evaluateFirstN(encoder, decoder, input_lang)"
   ],
   "metadata": {
    "collapsed": false,
    "ExecuteTime": {
     "end_time": "2023-12-17T01:23:59.836273200Z",
     "start_time": "2023-12-17T01:23:59.359042800Z"
    }
   }
  },
  {
   "cell_type": "code",
   "execution_count": 333,
   "outputs": [
    {
     "name": "stdout",
     "output_type": "stream",
     "text": [
      "From: وهم ليسوا س عداء بهذا\n",
      "To: and they re not happy with this\n",
      "Prediction: and they re not actually cool with this\n",
      "\n",
      "From: نعم يمكن ذلك و سوف أريكم خلال ثواني كيف يمكن عمل ذلك\n",
      "To: yes you can and i ll show you in a second how to do that\n",
      "Prediction: yes yes you can and i ll show you how to do that\n",
      "\n",
      "From: وذات صباح كنت راكبا في قطار الأنفاق\n",
      "To: and one morning i was riding the subway\n",
      "Prediction: and i was still fighting in the classroom of room\n",
      "\n",
      "From: وقد جعلتني أرغب باكتشاف المزيد\n",
      "To: and it made me want to explore more\n",
      "Prediction: and it made the business revolution\n",
      "\n",
      "From: بعضكم يتذكر هذا إنني متأكد\n",
      "To: some of you remember this i m sure\n",
      "Prediction: some of you may remember this\n",
      "\n",
      "From: ربما ينبغي علينا أن نجعل الناس يدخرون أكثر عندما يكسبون مالا أكثر\n",
      "To: maybe we should make people save more when they make more money\n",
      "Prediction: maybe we should make people save more less when we make more money\n",
      "\n",
      "From: وقد مثل الأمر إلهاما لي\n",
      "To: and this was an inspiration to me\n",
      "Prediction: and this was my point of mine my point of mine\n",
      "\n",
      "From: الامر بسيط نحن لا نخترع الجزيئات او المركبات\n",
      "To: it s very simple we don t invent molecules compounds\n",
      "Prediction: it s very simple we don t invent molecules compounds\n",
      "\n",
      "From: ان النظام المصرفي لم يكن هكذا بالصورة التي نقرأ عنها في الصحف اليوم\n",
      "To: banking hasn t always been the way we read about it now in the newspapers\n",
      "Prediction: banking hasn t always been the way we read about it now today about musical m today\n",
      "\n",
      "From: لكن حتى هذه المعاني الصغيرة أحدثت فرقا\n",
      "To: but even the small meaning made a difference\n",
      "Prediction: but even the small meaning simply made a tiny oil\n",
      "\n"
     ]
    }
   ],
   "source": [
    "evaluateRandomly(encoder, decoder, input_lang, set='train')"
   ],
   "metadata": {
    "collapsed": false,
    "ExecuteTime": {
     "end_time": "2023-12-17T01:23:59.940605Z",
     "start_time": "2023-12-17T01:23:59.838Z"
    }
   }
  },
  {
   "cell_type": "code",
   "execution_count": 334,
   "outputs": [
    {
     "name": "stdout",
     "output_type": "stream",
     "text": [
      "From: هذه البيانات لم تكن متوفرة سابقا\n",
      "To: this data was not available before\n",
      "Prediction: this data wasn t rocket science\n",
      "\n",
      "From: سأخبركم كيف استطعنا ان نكتشف هذه الدودة الالكترونية\n",
      "To: i want to tell you how we found that out\n",
      "Prediction: how could you feeling how this could be built\n",
      "\n",
      "From: أنا أعمل في صناعة تكنولوجيا الطاقة الشمسية\n",
      "To: now i work in the solar technology industry\n",
      "Prediction: i work at a technology overall energy\n",
      "\n",
      "From: ولكن القصد هو\n",
      "To: but the point is\n",
      "Prediction: but the whole thing but it is\n",
      "\n",
      "From: صدرت عن جامعة واشنطن في سياتل\n",
      "To: it came out of the university of washington in seattle\n",
      "Prediction: this pass from her washington d c\n",
      "\n",
      "From: أنه شئ شخصي\n",
      "To: it s personal\n",
      "Prediction: something dangerous is something\n",
      "\n",
      "From: تحول العالم إلى ثقب أسود كبير\n",
      "To: the world turned into a big black hole\n",
      "Prediction: the world in large numbers are so high\n",
      "\n",
      "From: ولكن هناك شيء آخر\n",
      "To: but there s another thing\n",
      "Prediction: but something else has there\n",
      "\n",
      "From: كيف نخطو الخطوة التالية\n",
      "To: how do we take that next step\n",
      "Prediction: how do the next step\n",
      "\n",
      "From: مايكل يجب علينا إيجاد بعض العلامات\n",
      "To: mk we ve gotta figure out which brands\n",
      "Prediction: that all must be some really hard\n",
      "\n"
     ]
    }
   ],
   "source": [
    "evaluateRandomly(encoder, decoder, input_lang, set='test')"
   ],
   "metadata": {
    "collapsed": false,
    "ExecuteTime": {
     "end_time": "2023-12-17T01:24:02.858203900Z",
     "start_time": "2023-12-17T01:24:02.673440600Z"
    }
   }
  }
 ],
 "metadata": {
  "kernelspec": {
   "display_name": "Python 3",
   "language": "python",
   "name": "python3"
  },
  "language_info": {
   "codemirror_mode": {
    "name": "ipython",
    "version": 2
   },
   "file_extension": ".py",
   "mimetype": "text/x-python",
   "name": "python",
   "nbconvert_exporter": "python",
   "pygments_lexer": "ipython2",
   "version": "2.7.6"
  }
 },
 "nbformat": 4,
 "nbformat_minor": 0
}
